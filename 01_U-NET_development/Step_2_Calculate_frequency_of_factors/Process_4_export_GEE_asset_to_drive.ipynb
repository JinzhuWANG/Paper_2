{
 "cells": [
  {
   "cell_type": "code",
   "execution_count": 1,
   "id": "infinite-copyright",
   "metadata": {},
   "outputs": [],
   "source": [
    "import ee\n",
    "import pandas as pd"
   ]
  },
  {
   "cell_type": "code",
   "execution_count": null,
   "id": "popular-tradition",
   "metadata": {},
   "outputs": [],
   "source": []
  },
  {
   "cell_type": "code",
   "execution_count": 2,
   "id": "generous-dominican",
   "metadata": {},
   "outputs": [],
   "source": [
    "ee.Initialize()"
   ]
  },
  {
   "cell_type": "code",
   "execution_count": null,
   "id": "middle-dinner",
   "metadata": {},
   "outputs": [],
   "source": []
  },
  {
   "cell_type": "code",
   "execution_count": 15,
   "id": "certified-papua",
   "metadata": {},
   "outputs": [],
   "source": [
    "# define a limite condition that only analyse part of the data\n",
    "limit_list = [16,17,18,19]"
   ]
  },
  {
   "cell_type": "code",
   "execution_count": 4,
   "id": "associate-square",
   "metadata": {},
   "outputs": [],
   "source": [
    "# define the year-range\n",
    "year = [f'{i}_{i+2}' for i in range(1990,2020,3)]\n",
    "year_img_val_dict = {yr:i for yr,i in zip(year,range(10,0,-1))}"
   ]
  },
  {
   "cell_type": "code",
   "execution_count": 5,
   "id": "sudden-creativity",
   "metadata": {},
   "outputs": [],
   "source": [
    "region = ee.FeatureCollection(\"users/wangjinzhulala/North_China_Plain_Python/Boundary_shp/North_China_Plain_Boundary\")"
   ]
  },
  {
   "cell_type": "code",
   "execution_count": null,
   "id": "beneficial-admission",
   "metadata": {},
   "outputs": [],
   "source": []
  },
  {
   "cell_type": "code",
   "execution_count": 6,
   "id": "incomplete-eight",
   "metadata": {},
   "outputs": [],
   "source": [
    "# get all possible years for traning the projection\n",
    "proj_yr = []\n",
    "for k,v in year_img_val_dict.items():\n",
    "    # get the t0 val/img\n",
    "    t0 = k\n",
    "        \n",
    "    # get the t1;t2\n",
    "    if v == 2:\n",
    "        pass\n",
    "    else:\n",
    "        for val in range(v-1,1,-1):\n",
    "            prj_val = val - (v - val)\n",
    "            \n",
    "            if  prj_val>0:\n",
    "                \n",
    "                prj_yr  = [k for k,v in year_img_val_dict.items() if v==prj_val][0]\n",
    "                \n",
    "                t1 = [k for k,v in year_img_val_dict.items() if v==val][0]\n",
    "                t2 = [k for k,v in year_img_val_dict.items() if v==prj_val][0]\n",
    "                                \n",
    "                proj_yr.append((t0,t1,t2))"
   ]
  },
  {
   "cell_type": "code",
   "execution_count": null,
   "id": "proved-caribbean",
   "metadata": {},
   "outputs": [],
   "source": []
  },
  {
   "cell_type": "markdown",
   "id": "federal-diameter",
   "metadata": {},
   "source": [
    "### Step_1: Set asset to public (main GEE)"
   ]
  },
  {
   "cell_type": "code",
   "execution_count": 16,
   "id": "light-triumph",
   "metadata": {
    "scrolled": true
   },
   "outputs": [
    {
     "name": "stdout",
     "output_type": "stream",
     "text": [
      "FCNN_2005_2007_and_2008_2010_prj_2011_2013_no_distance_10\n"
     ]
    },
    {
     "name": "stderr",
     "output_type": "stream",
     "text": [
      "WARNING:tensorflow:From C:\\Users\\wangj\\Anaconda3\\envs\\ee_py3\\lib\\site-packages\\tensorflow_core\\python\\compat\\v2_compat.py:65: disable_resource_variables (from tensorflow.python.ops.variable_scope) is deprecated and will be removed in a future version.\n",
      "Instructions for updating:\n",
      "non-resource variables are not supported in the long term\n"
     ]
    },
    {
     "name": "stdout",
     "output_type": "stream",
     "text": [
      "FCNN_2005_2007_and_2008_2010_prj_2011_2013_no_distance_20\n"
     ]
    },
    {
     "name": "stderr",
     "output_type": "stream",
     "text": [
      "WARNING:tensorflow:From C:\\Users\\wangj\\Anaconda3\\envs\\ee_py3\\lib\\site-packages\\tensorflow_core\\python\\compat\\v2_compat.py:65: disable_resource_variables (from tensorflow.python.ops.variable_scope) is deprecated and will be removed in a future version.\n",
      "Instructions for updating:\n",
      "non-resource variables are not supported in the long term\n"
     ]
    },
    {
     "name": "stdout",
     "output_type": "stream",
     "text": [
      "FCNN_2005_2007_and_2008_2010_prj_2011_2013_no_distance_30\n"
     ]
    },
    {
     "name": "stderr",
     "output_type": "stream",
     "text": [
      "WARNING:tensorflow:From C:\\Users\\wangj\\Anaconda3\\envs\\ee_py3\\lib\\site-packages\\tensorflow_core\\python\\compat\\v2_compat.py:65: disable_resource_variables (from tensorflow.python.ops.variable_scope) is deprecated and will be removed in a future version.\n",
      "Instructions for updating:\n",
      "non-resource variables are not supported in the long term\n"
     ]
    },
    {
     "name": "stdout",
     "output_type": "stream",
     "text": [
      "FCNN_2005_2007_and_2008_2010_prj_2011_2013_no_distance_40\n"
     ]
    },
    {
     "name": "stderr",
     "output_type": "stream",
     "text": [
      "WARNING:tensorflow:From C:\\Users\\wangj\\Anaconda3\\envs\\ee_py3\\lib\\site-packages\\tensorflow_core\\python\\compat\\v2_compat.py:65: disable_resource_variables (from tensorflow.python.ops.variable_scope) is deprecated and will be removed in a future version.\n",
      "Instructions for updating:\n",
      "non-resource variables are not supported in the long term\n"
     ]
    },
    {
     "name": "stdout",
     "output_type": "stream",
     "text": [
      "FCNN_2005_2007_and_2008_2010_prj_2011_2013_no_distance_50\n"
     ]
    },
    {
     "name": "stderr",
     "output_type": "stream",
     "text": [
      "WARNING:tensorflow:From C:\\Users\\wangj\\Anaconda3\\envs\\ee_py3\\lib\\site-packages\\tensorflow_core\\python\\compat\\v2_compat.py:65: disable_resource_variables (from tensorflow.python.ops.variable_scope) is deprecated and will be removed in a future version.\n",
      "Instructions for updating:\n",
      "non-resource variables are not supported in the long term\n"
     ]
    },
    {
     "name": "stdout",
     "output_type": "stream",
     "text": [
      "FCNN_2005_2007_and_2008_2010_prj_2011_2013_no_distance_60\n"
     ]
    },
    {
     "name": "stderr",
     "output_type": "stream",
     "text": [
      "WARNING:tensorflow:From C:\\Users\\wangj\\Anaconda3\\envs\\ee_py3\\lib\\site-packages\\tensorflow_core\\python\\compat\\v2_compat.py:65: disable_resource_variables (from tensorflow.python.ops.variable_scope) is deprecated and will be removed in a future version.\n",
      "Instructions for updating:\n",
      "non-resource variables are not supported in the long term\n"
     ]
    },
    {
     "name": "stdout",
     "output_type": "stream",
     "text": [
      "FCNN_2005_2007_and_2008_2010_prj_2011_2013_no_distance_70\n"
     ]
    },
    {
     "name": "stderr",
     "output_type": "stream",
     "text": [
      "WARNING:tensorflow:From C:\\Users\\wangj\\Anaconda3\\envs\\ee_py3\\lib\\site-packages\\tensorflow_core\\python\\compat\\v2_compat.py:65: disable_resource_variables (from tensorflow.python.ops.variable_scope) is deprecated and will be removed in a future version.\n",
      "Instructions for updating:\n",
      "non-resource variables are not supported in the long term\n"
     ]
    },
    {
     "name": "stdout",
     "output_type": "stream",
     "text": [
      "FCNN_2005_2007_and_2008_2010_prj_2011_2013_no_distance_80\n"
     ]
    },
    {
     "name": "stderr",
     "output_type": "stream",
     "text": [
      "WARNING:tensorflow:From C:\\Users\\wangj\\Anaconda3\\envs\\ee_py3\\lib\\site-packages\\tensorflow_core\\python\\compat\\v2_compat.py:65: disable_resource_variables (from tensorflow.python.ops.variable_scope) is deprecated and will be removed in a future version.\n",
      "Instructions for updating:\n",
      "non-resource variables are not supported in the long term\n"
     ]
    },
    {
     "name": "stdout",
     "output_type": "stream",
     "text": [
      "FCNN_2005_2007_and_2008_2010_prj_2011_2013_no_distance_90\n"
     ]
    },
    {
     "name": "stderr",
     "output_type": "stream",
     "text": [
      "WARNING:tensorflow:From C:\\Users\\wangj\\Anaconda3\\envs\\ee_py3\\lib\\site-packages\\tensorflow_core\\python\\compat\\v2_compat.py:65: disable_resource_variables (from tensorflow.python.ops.variable_scope) is deprecated and will be removed in a future version.\n",
      "Instructions for updating:\n",
      "non-resource variables are not supported in the long term\n"
     ]
    },
    {
     "name": "stdout",
     "output_type": "stream",
     "text": [
      "FCNN_2005_2007_and_2008_2010_prj_2011_2013_no_distance_100\n",
      "____________________\n"
     ]
    },
    {
     "name": "stderr",
     "output_type": "stream",
     "text": [
      "WARNING:tensorflow:From C:\\Users\\wangj\\Anaconda3\\envs\\ee_py3\\lib\\site-packages\\tensorflow_core\\python\\compat\\v2_compat.py:65: disable_resource_variables (from tensorflow.python.ops.variable_scope) is deprecated and will be removed in a future version.\n",
      "Instructions for updating:\n",
      "non-resource variables are not supported in the long term\n"
     ]
    },
    {
     "name": "stdout",
     "output_type": "stream",
     "text": [
      "FCNN_2005_2007_and_2011_2013_prj_2017_2019_no_distance_10\n"
     ]
    },
    {
     "name": "stderr",
     "output_type": "stream",
     "text": [
      "WARNING:tensorflow:From C:\\Users\\wangj\\Anaconda3\\envs\\ee_py3\\lib\\site-packages\\tensorflow_core\\python\\compat\\v2_compat.py:65: disable_resource_variables (from tensorflow.python.ops.variable_scope) is deprecated and will be removed in a future version.\n",
      "Instructions for updating:\n",
      "non-resource variables are not supported in the long term\n"
     ]
    },
    {
     "name": "stdout",
     "output_type": "stream",
     "text": [
      "FCNN_2005_2007_and_2011_2013_prj_2017_2019_no_distance_20\n"
     ]
    },
    {
     "name": "stderr",
     "output_type": "stream",
     "text": [
      "WARNING:tensorflow:From C:\\Users\\wangj\\Anaconda3\\envs\\ee_py3\\lib\\site-packages\\tensorflow_core\\python\\compat\\v2_compat.py:65: disable_resource_variables (from tensorflow.python.ops.variable_scope) is deprecated and will be removed in a future version.\n",
      "Instructions for updating:\n",
      "non-resource variables are not supported in the long term\n"
     ]
    },
    {
     "name": "stdout",
     "output_type": "stream",
     "text": [
      "FCNN_2005_2007_and_2011_2013_prj_2017_2019_no_distance_30\n"
     ]
    },
    {
     "name": "stderr",
     "output_type": "stream",
     "text": [
      "WARNING:tensorflow:From C:\\Users\\wangj\\Anaconda3\\envs\\ee_py3\\lib\\site-packages\\tensorflow_core\\python\\compat\\v2_compat.py:65: disable_resource_variables (from tensorflow.python.ops.variable_scope) is deprecated and will be removed in a future version.\n",
      "Instructions for updating:\n",
      "non-resource variables are not supported in the long term\n"
     ]
    },
    {
     "name": "stdout",
     "output_type": "stream",
     "text": [
      "FCNN_2005_2007_and_2011_2013_prj_2017_2019_no_distance_40\n"
     ]
    },
    {
     "name": "stderr",
     "output_type": "stream",
     "text": [
      "WARNING:tensorflow:From C:\\Users\\wangj\\Anaconda3\\envs\\ee_py3\\lib\\site-packages\\tensorflow_core\\python\\compat\\v2_compat.py:65: disable_resource_variables (from tensorflow.python.ops.variable_scope) is deprecated and will be removed in a future version.\n",
      "Instructions for updating:\n",
      "non-resource variables are not supported in the long term\n"
     ]
    },
    {
     "name": "stdout",
     "output_type": "stream",
     "text": [
      "FCNN_2005_2007_and_2011_2013_prj_2017_2019_no_distance_50\n"
     ]
    },
    {
     "name": "stderr",
     "output_type": "stream",
     "text": [
      "WARNING:tensorflow:From C:\\Users\\wangj\\Anaconda3\\envs\\ee_py3\\lib\\site-packages\\tensorflow_core\\python\\compat\\v2_compat.py:65: disable_resource_variables (from tensorflow.python.ops.variable_scope) is deprecated and will be removed in a future version.\n",
      "Instructions for updating:\n",
      "non-resource variables are not supported in the long term\n"
     ]
    },
    {
     "name": "stdout",
     "output_type": "stream",
     "text": [
      "FCNN_2005_2007_and_2011_2013_prj_2017_2019_no_distance_60\n"
     ]
    },
    {
     "name": "stderr",
     "output_type": "stream",
     "text": [
      "WARNING:tensorflow:From C:\\Users\\wangj\\Anaconda3\\envs\\ee_py3\\lib\\site-packages\\tensorflow_core\\python\\compat\\v2_compat.py:65: disable_resource_variables (from tensorflow.python.ops.variable_scope) is deprecated and will be removed in a future version.\n",
      "Instructions for updating:\n",
      "non-resource variables are not supported in the long term\n"
     ]
    },
    {
     "name": "stdout",
     "output_type": "stream",
     "text": [
      "FCNN_2005_2007_and_2011_2013_prj_2017_2019_no_distance_70\n"
     ]
    },
    {
     "name": "stderr",
     "output_type": "stream",
     "text": [
      "WARNING:tensorflow:From C:\\Users\\wangj\\Anaconda3\\envs\\ee_py3\\lib\\site-packages\\tensorflow_core\\python\\compat\\v2_compat.py:65: disable_resource_variables (from tensorflow.python.ops.variable_scope) is deprecated and will be removed in a future version.\n",
      "Instructions for updating:\n",
      "non-resource variables are not supported in the long term\n"
     ]
    },
    {
     "name": "stdout",
     "output_type": "stream",
     "text": [
      "FCNN_2005_2007_and_2011_2013_prj_2017_2019_no_distance_80\n"
     ]
    },
    {
     "name": "stderr",
     "output_type": "stream",
     "text": [
      "WARNING:tensorflow:From C:\\Users\\wangj\\Anaconda3\\envs\\ee_py3\\lib\\site-packages\\tensorflow_core\\python\\compat\\v2_compat.py:65: disable_resource_variables (from tensorflow.python.ops.variable_scope) is deprecated and will be removed in a future version.\n",
      "Instructions for updating:\n",
      "non-resource variables are not supported in the long term\n"
     ]
    },
    {
     "name": "stdout",
     "output_type": "stream",
     "text": [
      "FCNN_2005_2007_and_2011_2013_prj_2017_2019_no_distance_90\n"
     ]
    },
    {
     "name": "stderr",
     "output_type": "stream",
     "text": [
      "WARNING:tensorflow:From C:\\Users\\wangj\\Anaconda3\\envs\\ee_py3\\lib\\site-packages\\tensorflow_core\\python\\compat\\v2_compat.py:65: disable_resource_variables (from tensorflow.python.ops.variable_scope) is deprecated and will be removed in a future version.\n",
      "Instructions for updating:\n",
      "non-resource variables are not supported in the long term\n"
     ]
    },
    {
     "name": "stdout",
     "output_type": "stream",
     "text": [
      "FCNN_2005_2007_and_2011_2013_prj_2017_2019_no_distance_100\n",
      "____________________\n"
     ]
    },
    {
     "name": "stderr",
     "output_type": "stream",
     "text": [
      "WARNING:tensorflow:From C:\\Users\\wangj\\Anaconda3\\envs\\ee_py3\\lib\\site-packages\\tensorflow_core\\python\\compat\\v2_compat.py:65: disable_resource_variables (from tensorflow.python.ops.variable_scope) is deprecated and will be removed in a future version.\n",
      "Instructions for updating:\n",
      "non-resource variables are not supported in the long term\n"
     ]
    },
    {
     "name": "stdout",
     "output_type": "stream",
     "text": [
      "FCNN_2008_2010_and_2011_2013_prj_2014_2016_no_distance_10\n"
     ]
    },
    {
     "name": "stderr",
     "output_type": "stream",
     "text": [
      "WARNING:tensorflow:From C:\\Users\\wangj\\Anaconda3\\envs\\ee_py3\\lib\\site-packages\\tensorflow_core\\python\\compat\\v2_compat.py:65: disable_resource_variables (from tensorflow.python.ops.variable_scope) is deprecated and will be removed in a future version.\n",
      "Instructions for updating:\n",
      "non-resource variables are not supported in the long term\n"
     ]
    },
    {
     "name": "stdout",
     "output_type": "stream",
     "text": [
      "FCNN_2008_2010_and_2011_2013_prj_2014_2016_no_distance_20\n"
     ]
    },
    {
     "name": "stderr",
     "output_type": "stream",
     "text": [
      "WARNING:tensorflow:From C:\\Users\\wangj\\Anaconda3\\envs\\ee_py3\\lib\\site-packages\\tensorflow_core\\python\\compat\\v2_compat.py:65: disable_resource_variables (from tensorflow.python.ops.variable_scope) is deprecated and will be removed in a future version.\n",
      "Instructions for updating:\n",
      "non-resource variables are not supported in the long term\n"
     ]
    },
    {
     "name": "stdout",
     "output_type": "stream",
     "text": [
      "FCNN_2008_2010_and_2011_2013_prj_2014_2016_no_distance_30\n"
     ]
    },
    {
     "name": "stderr",
     "output_type": "stream",
     "text": [
      "WARNING:tensorflow:From C:\\Users\\wangj\\Anaconda3\\envs\\ee_py3\\lib\\site-packages\\tensorflow_core\\python\\compat\\v2_compat.py:65: disable_resource_variables (from tensorflow.python.ops.variable_scope) is deprecated and will be removed in a future version.\n",
      "Instructions for updating:\n",
      "non-resource variables are not supported in the long term\n"
     ]
    },
    {
     "name": "stdout",
     "output_type": "stream",
     "text": [
      "FCNN_2008_2010_and_2011_2013_prj_2014_2016_no_distance_40\n"
     ]
    },
    {
     "name": "stderr",
     "output_type": "stream",
     "text": [
      "WARNING:tensorflow:From C:\\Users\\wangj\\Anaconda3\\envs\\ee_py3\\lib\\site-packages\\tensorflow_core\\python\\compat\\v2_compat.py:65: disable_resource_variables (from tensorflow.python.ops.variable_scope) is deprecated and will be removed in a future version.\n",
      "Instructions for updating:\n",
      "non-resource variables are not supported in the long term\n"
     ]
    },
    {
     "name": "stdout",
     "output_type": "stream",
     "text": [
      "FCNN_2008_2010_and_2011_2013_prj_2014_2016_no_distance_50\n"
     ]
    },
    {
     "name": "stderr",
     "output_type": "stream",
     "text": [
      "WARNING:tensorflow:From C:\\Users\\wangj\\Anaconda3\\envs\\ee_py3\\lib\\site-packages\\tensorflow_core\\python\\compat\\v2_compat.py:65: disable_resource_variables (from tensorflow.python.ops.variable_scope) is deprecated and will be removed in a future version.\n",
      "Instructions for updating:\n",
      "non-resource variables are not supported in the long term\n"
     ]
    },
    {
     "name": "stdout",
     "output_type": "stream",
     "text": [
      "FCNN_2008_2010_and_2011_2013_prj_2014_2016_no_distance_60\n"
     ]
    },
    {
     "name": "stderr",
     "output_type": "stream",
     "text": [
      "WARNING:tensorflow:From C:\\Users\\wangj\\Anaconda3\\envs\\ee_py3\\lib\\site-packages\\tensorflow_core\\python\\compat\\v2_compat.py:65: disable_resource_variables (from tensorflow.python.ops.variable_scope) is deprecated and will be removed in a future version.\n",
      "Instructions for updating:\n",
      "non-resource variables are not supported in the long term\n"
     ]
    },
    {
     "name": "stdout",
     "output_type": "stream",
     "text": [
      "FCNN_2008_2010_and_2011_2013_prj_2014_2016_no_distance_70\n"
     ]
    },
    {
     "name": "stderr",
     "output_type": "stream",
     "text": [
      "WARNING:tensorflow:From C:\\Users\\wangj\\Anaconda3\\envs\\ee_py3\\lib\\site-packages\\tensorflow_core\\python\\compat\\v2_compat.py:65: disable_resource_variables (from tensorflow.python.ops.variable_scope) is deprecated and will be removed in a future version.\n",
      "Instructions for updating:\n",
      "non-resource variables are not supported in the long term\n"
     ]
    },
    {
     "name": "stdout",
     "output_type": "stream",
     "text": [
      "FCNN_2008_2010_and_2011_2013_prj_2014_2016_no_distance_80\n"
     ]
    },
    {
     "name": "stderr",
     "output_type": "stream",
     "text": [
      "WARNING:tensorflow:From C:\\Users\\wangj\\Anaconda3\\envs\\ee_py3\\lib\\site-packages\\tensorflow_core\\python\\compat\\v2_compat.py:65: disable_resource_variables (from tensorflow.python.ops.variable_scope) is deprecated and will be removed in a future version.\n",
      "Instructions for updating:\n",
      "non-resource variables are not supported in the long term\n"
     ]
    },
    {
     "name": "stdout",
     "output_type": "stream",
     "text": [
      "FCNN_2008_2010_and_2011_2013_prj_2014_2016_no_distance_90\n"
     ]
    },
    {
     "name": "stderr",
     "output_type": "stream",
     "text": [
      "WARNING:tensorflow:From C:\\Users\\wangj\\Anaconda3\\envs\\ee_py3\\lib\\site-packages\\tensorflow_core\\python\\compat\\v2_compat.py:65: disable_resource_variables (from tensorflow.python.ops.variable_scope) is deprecated and will be removed in a future version.\n",
      "Instructions for updating:\n",
      "non-resource variables are not supported in the long term\n"
     ]
    },
    {
     "name": "stdout",
     "output_type": "stream",
     "text": [
      "FCNN_2008_2010_and_2011_2013_prj_2014_2016_no_distance_100\n",
      "____________________\n"
     ]
    },
    {
     "name": "stderr",
     "output_type": "stream",
     "text": [
      "WARNING:tensorflow:From C:\\Users\\wangj\\Anaconda3\\envs\\ee_py3\\lib\\site-packages\\tensorflow_core\\python\\compat\\v2_compat.py:65: disable_resource_variables (from tensorflow.python.ops.variable_scope) is deprecated and will be removed in a future version.\n",
      "Instructions for updating:\n",
      "non-resource variables are not supported in the long term\n"
     ]
    },
    {
     "name": "stdout",
     "output_type": "stream",
     "text": [
      "FCNN_2011_2013_and_2014_2016_prj_2017_2019_no_distance_10\n"
     ]
    },
    {
     "name": "stderr",
     "output_type": "stream",
     "text": [
      "WARNING:tensorflow:From C:\\Users\\wangj\\Anaconda3\\envs\\ee_py3\\lib\\site-packages\\tensorflow_core\\python\\compat\\v2_compat.py:65: disable_resource_variables (from tensorflow.python.ops.variable_scope) is deprecated and will be removed in a future version.\n",
      "Instructions for updating:\n",
      "non-resource variables are not supported in the long term\n"
     ]
    },
    {
     "name": "stdout",
     "output_type": "stream",
     "text": [
      "FCNN_2011_2013_and_2014_2016_prj_2017_2019_no_distance_20\n"
     ]
    },
    {
     "name": "stderr",
     "output_type": "stream",
     "text": [
      "WARNING:tensorflow:From C:\\Users\\wangj\\Anaconda3\\envs\\ee_py3\\lib\\site-packages\\tensorflow_core\\python\\compat\\v2_compat.py:65: disable_resource_variables (from tensorflow.python.ops.variable_scope) is deprecated and will be removed in a future version.\n",
      "Instructions for updating:\n",
      "non-resource variables are not supported in the long term\n"
     ]
    },
    {
     "name": "stdout",
     "output_type": "stream",
     "text": [
      "FCNN_2011_2013_and_2014_2016_prj_2017_2019_no_distance_30\n"
     ]
    },
    {
     "name": "stderr",
     "output_type": "stream",
     "text": [
      "WARNING:tensorflow:From C:\\Users\\wangj\\Anaconda3\\envs\\ee_py3\\lib\\site-packages\\tensorflow_core\\python\\compat\\v2_compat.py:65: disable_resource_variables (from tensorflow.python.ops.variable_scope) is deprecated and will be removed in a future version.\n",
      "Instructions for updating:\n",
      "non-resource variables are not supported in the long term\n"
     ]
    },
    {
     "name": "stdout",
     "output_type": "stream",
     "text": [
      "FCNN_2011_2013_and_2014_2016_prj_2017_2019_no_distance_40\n"
     ]
    },
    {
     "name": "stderr",
     "output_type": "stream",
     "text": [
      "WARNING:tensorflow:From C:\\Users\\wangj\\Anaconda3\\envs\\ee_py3\\lib\\site-packages\\tensorflow_core\\python\\compat\\v2_compat.py:65: disable_resource_variables (from tensorflow.python.ops.variable_scope) is deprecated and will be removed in a future version.\n",
      "Instructions for updating:\n",
      "non-resource variables are not supported in the long term\n"
     ]
    },
    {
     "name": "stdout",
     "output_type": "stream",
     "text": [
      "FCNN_2011_2013_and_2014_2016_prj_2017_2019_no_distance_50\n"
     ]
    },
    {
     "name": "stderr",
     "output_type": "stream",
     "text": [
      "WARNING:tensorflow:From C:\\Users\\wangj\\Anaconda3\\envs\\ee_py3\\lib\\site-packages\\tensorflow_core\\python\\compat\\v2_compat.py:65: disable_resource_variables (from tensorflow.python.ops.variable_scope) is deprecated and will be removed in a future version.\n",
      "Instructions for updating:\n",
      "non-resource variables are not supported in the long term\n"
     ]
    },
    {
     "name": "stdout",
     "output_type": "stream",
     "text": [
      "FCNN_2011_2013_and_2014_2016_prj_2017_2019_no_distance_60\n"
     ]
    },
    {
     "name": "stderr",
     "output_type": "stream",
     "text": [
      "WARNING:tensorflow:From C:\\Users\\wangj\\Anaconda3\\envs\\ee_py3\\lib\\site-packages\\tensorflow_core\\python\\compat\\v2_compat.py:65: disable_resource_variables (from tensorflow.python.ops.variable_scope) is deprecated and will be removed in a future version.\n",
      "Instructions for updating:\n",
      "non-resource variables are not supported in the long term\n"
     ]
    },
    {
     "name": "stdout",
     "output_type": "stream",
     "text": [
      "FCNN_2011_2013_and_2014_2016_prj_2017_2019_no_distance_70\n"
     ]
    },
    {
     "name": "stderr",
     "output_type": "stream",
     "text": [
      "WARNING:tensorflow:From C:\\Users\\wangj\\Anaconda3\\envs\\ee_py3\\lib\\site-packages\\tensorflow_core\\python\\compat\\v2_compat.py:65: disable_resource_variables (from tensorflow.python.ops.variable_scope) is deprecated and will be removed in a future version.\n",
      "Instructions for updating:\n",
      "non-resource variables are not supported in the long term\n"
     ]
    },
    {
     "name": "stdout",
     "output_type": "stream",
     "text": [
      "FCNN_2011_2013_and_2014_2016_prj_2017_2019_no_distance_80\n"
     ]
    },
    {
     "name": "stderr",
     "output_type": "stream",
     "text": [
      "WARNING:tensorflow:From C:\\Users\\wangj\\Anaconda3\\envs\\ee_py3\\lib\\site-packages\\tensorflow_core\\python\\compat\\v2_compat.py:65: disable_resource_variables (from tensorflow.python.ops.variable_scope) is deprecated and will be removed in a future version.\n",
      "Instructions for updating:\n",
      "non-resource variables are not supported in the long term\n"
     ]
    },
    {
     "name": "stdout",
     "output_type": "stream",
     "text": [
      "FCNN_2011_2013_and_2014_2016_prj_2017_2019_no_distance_90\n"
     ]
    },
    {
     "name": "stderr",
     "output_type": "stream",
     "text": [
      "WARNING:tensorflow:From C:\\Users\\wangj\\Anaconda3\\envs\\ee_py3\\lib\\site-packages\\tensorflow_core\\python\\compat\\v2_compat.py:65: disable_resource_variables (from tensorflow.python.ops.variable_scope) is deprecated and will be removed in a future version.\n",
      "Instructions for updating:\n",
      "non-resource variables are not supported in the long term\n"
     ]
    },
    {
     "name": "stdout",
     "output_type": "stream",
     "text": [
      "FCNN_2011_2013_and_2014_2016_prj_2017_2019_no_distance_100\n",
      "____________________\n"
     ]
    },
    {
     "name": "stderr",
     "output_type": "stream",
     "text": [
      "WARNING:tensorflow:From C:\\Users\\wangj\\Anaconda3\\envs\\ee_py3\\lib\\site-packages\\tensorflow_core\\python\\compat\\v2_compat.py:65: disable_resource_variables (from tensorflow.python.ops.variable_scope) is deprecated and will be removed in a future version.\n",
      "Instructions for updating:\n",
      "non-resource variables are not supported in the long term\n"
     ]
    }
   ],
   "source": [
    "for k,(t0,t1,t2) in enumerate(proj_yr):    \n",
    "    if k in limit_list:       \n",
    "        \n",
    "        # Export the data to drive\n",
    "        for epoch in range(10,100+1,10):\n",
    "            \n",
    "            # determine the name for export\n",
    "            name = f\"FCNN_{t0}_and_{t1}_prj_{t2}_no_distance_{epoch}\"\n",
    "            \n",
    "            # make the asset public\n",
    "            ! earthengine acl set public \"users/wangjinzhulala/GEE_TF/Urban_projection/{name}\"\n",
    "            print(name)\n",
    "\n",
    "        print('____________________')"
   ]
  },
  {
   "cell_type": "code",
   "execution_count": null,
   "id": "victorian-india",
   "metadata": {},
   "outputs": [],
   "source": []
  },
  {
   "cell_type": "code",
   "execution_count": null,
   "id": "derived-difficulty",
   "metadata": {},
   "outputs": [],
   "source": []
  },
  {
   "cell_type": "markdown",
   "id": "excessive-pride",
   "metadata": {},
   "source": [
    "### Step_2: Export GEE-asset to Google-Drive (main GEE)"
   ]
  },
  {
   "cell_type": "code",
   "execution_count": 17,
   "id": "neutral-hanging",
   "metadata": {
    "scrolled": true
   },
   "outputs": [
    {
     "name": "stdout",
     "output_type": "stream",
     "text": [
      "FCNN_2005_2007_and_2008_2010_prj_2011_2013_no_distance_10\n",
      "FCNN_2005_2007_and_2008_2010_prj_2011_2013_no_distance_20\n",
      "FCNN_2005_2007_and_2008_2010_prj_2011_2013_no_distance_30\n",
      "FCNN_2005_2007_and_2008_2010_prj_2011_2013_no_distance_40\n",
      "FCNN_2005_2007_and_2008_2010_prj_2011_2013_no_distance_50\n",
      "FCNN_2005_2007_and_2008_2010_prj_2011_2013_no_distance_60\n",
      "FCNN_2005_2007_and_2008_2010_prj_2011_2013_no_distance_70\n",
      "FCNN_2005_2007_and_2008_2010_prj_2011_2013_no_distance_80\n",
      "FCNN_2005_2007_and_2008_2010_prj_2011_2013_no_distance_90\n",
      "FCNN_2005_2007_and_2008_2010_prj_2011_2013_no_distance_100\n",
      "_____________________________________________\n",
      "FCNN_2005_2007_and_2011_2013_prj_2017_2019_no_distance_10\n",
      "FCNN_2005_2007_and_2011_2013_prj_2017_2019_no_distance_20\n",
      "FCNN_2005_2007_and_2011_2013_prj_2017_2019_no_distance_30\n",
      "FCNN_2005_2007_and_2011_2013_prj_2017_2019_no_distance_40\n",
      "FCNN_2005_2007_and_2011_2013_prj_2017_2019_no_distance_50\n",
      "FCNN_2005_2007_and_2011_2013_prj_2017_2019_no_distance_60\n",
      "FCNN_2005_2007_and_2011_2013_prj_2017_2019_no_distance_70\n",
      "FCNN_2005_2007_and_2011_2013_prj_2017_2019_no_distance_80\n",
      "FCNN_2005_2007_and_2011_2013_prj_2017_2019_no_distance_90\n",
      "FCNN_2005_2007_and_2011_2013_prj_2017_2019_no_distance_100\n",
      "_____________________________________________\n",
      "FCNN_2008_2010_and_2011_2013_prj_2014_2016_no_distance_10\n",
      "FCNN_2008_2010_and_2011_2013_prj_2014_2016_no_distance_20\n",
      "FCNN_2008_2010_and_2011_2013_prj_2014_2016_no_distance_30\n",
      "FCNN_2008_2010_and_2011_2013_prj_2014_2016_no_distance_40\n",
      "FCNN_2008_2010_and_2011_2013_prj_2014_2016_no_distance_50\n",
      "FCNN_2008_2010_and_2011_2013_prj_2014_2016_no_distance_60\n",
      "FCNN_2008_2010_and_2011_2013_prj_2014_2016_no_distance_70\n",
      "FCNN_2008_2010_and_2011_2013_prj_2014_2016_no_distance_80\n",
      "FCNN_2008_2010_and_2011_2013_prj_2014_2016_no_distance_90\n",
      "FCNN_2008_2010_and_2011_2013_prj_2014_2016_no_distance_100\n",
      "_____________________________________________\n",
      "FCNN_2011_2013_and_2014_2016_prj_2017_2019_no_distance_10\n",
      "FCNN_2011_2013_and_2014_2016_prj_2017_2019_no_distance_20\n",
      "FCNN_2011_2013_and_2014_2016_prj_2017_2019_no_distance_30\n",
      "FCNN_2011_2013_and_2014_2016_prj_2017_2019_no_distance_40\n",
      "FCNN_2011_2013_and_2014_2016_prj_2017_2019_no_distance_50\n",
      "FCNN_2011_2013_and_2014_2016_prj_2017_2019_no_distance_60\n",
      "FCNN_2011_2013_and_2014_2016_prj_2017_2019_no_distance_70\n",
      "FCNN_2011_2013_and_2014_2016_prj_2017_2019_no_distance_80\n",
      "FCNN_2011_2013_and_2014_2016_prj_2017_2019_no_distance_90\n",
      "FCNN_2011_2013_and_2014_2016_prj_2017_2019_no_distance_100\n",
      "_____________________________________________\n"
     ]
    }
   ],
   "source": [
    "for k,(t0,t1,t2) in enumerate(proj_yr):    \n",
    "    if k in limit_list:       \n",
    "        \n",
    "        # Export the data to drive\n",
    "        for epoch in range(10,100+1,10):\n",
    "            \n",
    "            # determine the name for export\n",
    "            name = f\"FCNN_{t0}_and_{t1}_prj_{t2}_no_distance_{epoch}\"\n",
    "            \n",
    "            # get the FCNN suitability map\n",
    "            FCNN_prob = ee.ImageCollection(f\"users/wangjinzhulala/GEE_TF/Urban_projection/{name}\")\\\n",
    "                          .mosaic().clip(region.geometry())\n",
    "                          \n",
    "            \n",
    "            # export\n",
    "            task  = ee.batch.Export.image.toDrive(\n",
    "                                                    image = FCNN_prob,\n",
    "                                                    description=name,\n",
    "                                                    folder='urban_prj_tifs',\n",
    "                                                    fileNamePrefix=f\"FCNN_{t0}_and_{t1}_prj_{t2}_no_distance_{epoch:03}\",\n",
    "                                                    region=region.geometry().bounds(),\n",
    "                                                    scale=30,\n",
    "                                                    maxPixels=int(1e13),\n",
    "                                                    skipEmptyTiles=True)\n",
    "            \n",
    "            # start the task and print out the process\n",
    "            task.start()\n",
    "            \n",
    "            print(name)\n",
    "        print('_____________________________________________')"
   ]
  },
  {
   "cell_type": "code",
   "execution_count": null,
   "id": "dangerous-agreement",
   "metadata": {},
   "outputs": [],
   "source": []
  },
  {
   "cell_type": "code",
   "execution_count": null,
   "id": "valued-toolbox",
   "metadata": {},
   "outputs": [],
   "source": []
  },
  {
   "cell_type": "markdown",
   "id": "cosmetic-lounge",
   "metadata": {},
   "source": [
    "### Step_3: Export GEE-asset to another GEE-asset (side GEE)"
   ]
  },
  {
   "cell_type": "code",
   "execution_count": null,
   "id": "democratic-april",
   "metadata": {},
   "outputs": [],
   "source": [
    "for k,(t0,t1,t2) in enumerate(proj_yr):    \n",
    "    if k in limit_list:       \n",
    "        \n",
    "        # Export the data to drive\n",
    "        for epoch in range(10,100+1,10):\n",
    "            \n",
    "            # determine the name for export\n",
    "            name = f\"FCNN_{t0}_and_{t1}_prj_{t2}_no_distance_{epoch:03}\"\n",
    "            \n",
    "            # get the FCNN suitability map\n",
    "            FCNN_prob = ee.ImageCollection(f\"users/wangjinzhulala/GEE_TF/Urban_projection/FCNN_{t0}_and_{t1}_prj_{t2}_no_distance_{epoch}\")\\\n",
    "                          .mosaic()\\\n",
    "                          .clip(region.geometry())\n",
    "            \n",
    "            # export\n",
    "            task  = ee.batch.Export.image.toAsset(\n",
    "                                                    image = FCNN_prob,\n",
    "                                                    description=name,\n",
    "                                                    assetId=f'users/rlyon2/urban_projection/{name}',\n",
    "                                                    region=region.geometry().bounds(),\n",
    "                                                    maxPixels = int(1e13),\n",
    "                                                    scale=30)\n",
    "            \n",
    "            # start the task and print out the process\n",
    "            task.start()\n",
    "            \n",
    "            print(name)\n",
    "        print('_____________________________________________')"
   ]
  },
  {
   "cell_type": "code",
   "execution_count": null,
   "id": "compliant-chuck",
   "metadata": {},
   "outputs": [],
   "source": []
  },
  {
   "cell_type": "markdown",
   "id": "activated-petersburg",
   "metadata": {},
   "source": [
    "### Step_4: set GEE-asset to public (side GEE)"
   ]
  },
  {
   "cell_type": "code",
   "execution_count": null,
   "id": "controlling-incident",
   "metadata": {},
   "outputs": [],
   "source": [
    "for k,(t0,t1,t2) in enumerate(proj_yr):    \n",
    "    if k in limit_list:       \n",
    "        \n",
    "        # Export the data to drive\n",
    "        for epoch in range(10,100+1,10):\n",
    "            \n",
    "            # determine the name for export\n",
    "            name =  f\"FCNN_{t0}_and_{t1}_prj_{t2}_no_distance_{epoch:03}\"\n",
    "            \n",
    "            # make the asset public\n",
    "            ! earthengine acl set public \"users/rlyon2/urban_projection/{name}\"\n",
    "\n",
    "        print('____________________')"
   ]
  },
  {
   "cell_type": "code",
   "execution_count": null,
   "id": "external-bangladesh",
   "metadata": {},
   "outputs": [],
   "source": []
  },
  {
   "cell_type": "code",
   "execution_count": null,
   "id": "split-austria",
   "metadata": {},
   "outputs": [],
   "source": []
  },
  {
   "cell_type": "code",
   "execution_count": null,
   "id": "brave-music",
   "metadata": {},
   "outputs": [],
   "source": []
  },
  {
   "cell_type": "code",
   "execution_count": null,
   "id": "bizarre-ceiling",
   "metadata": {},
   "outputs": [],
   "source": []
  },
  {
   "cell_type": "code",
   "execution_count": null,
   "id": "incorporate-profession",
   "metadata": {},
   "outputs": [],
   "source": []
  },
  {
   "cell_type": "code",
   "execution_count": null,
   "id": "successful-outreach",
   "metadata": {},
   "outputs": [],
   "source": []
  },
  {
   "cell_type": "code",
   "execution_count": null,
   "id": "hired-workstation",
   "metadata": {},
   "outputs": [],
   "source": []
  },
  {
   "cell_type": "code",
   "execution_count": null,
   "id": "innovative-quest",
   "metadata": {},
   "outputs": [],
   "source": []
  },
  {
   "cell_type": "code",
   "execution_count": null,
   "id": "expensive-sunrise",
   "metadata": {},
   "outputs": [],
   "source": []
  },
  {
   "cell_type": "code",
   "execution_count": null,
   "id": "meaning-proxy",
   "metadata": {},
   "outputs": [],
   "source": []
  }
 ],
 "metadata": {
  "kernelspec": {
   "display_name": "Python 3",
   "language": "python",
   "name": "python3"
  },
  "language_info": {
   "codemirror_mode": {
    "name": "ipython",
    "version": 3
   },
   "file_extension": ".py",
   "mimetype": "text/x-python",
   "name": "python",
   "nbconvert_exporter": "python",
   "pygments_lexer": "ipython3",
   "version": "3.7.3"
  }
 },
 "nbformat": 4,
 "nbformat_minor": 5
}
