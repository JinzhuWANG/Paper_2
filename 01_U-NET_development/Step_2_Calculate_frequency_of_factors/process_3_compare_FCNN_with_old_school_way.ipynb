{
 "cells": [
  {
   "cell_type": "code",
   "execution_count": 1,
   "id": "gorgeous-logan",
   "metadata": {},
   "outputs": [
    {
     "name": "stderr",
     "output_type": "stream",
     "text": [
      "In C:\\Users\\wangj\\Anaconda3\\envs\\ee_py3\\lib\\site-packages\\matplotlib\\mpl-data\\stylelib\\_classic_test.mplstyle: \n",
      "The text.latex.preview rcparam was deprecated in Matplotlib 3.3 and will be removed two minor releases later.\n",
      "In C:\\Users\\wangj\\Anaconda3\\envs\\ee_py3\\lib\\site-packages\\matplotlib\\mpl-data\\stylelib\\_classic_test.mplstyle: \n",
      "The mathtext.fallback_to_cm rcparam was deprecated in Matplotlib 3.3 and will be removed two minor releases later.\n",
      "In C:\\Users\\wangj\\Anaconda3\\envs\\ee_py3\\lib\\site-packages\\matplotlib\\mpl-data\\stylelib\\_classic_test.mplstyle: Support for setting the 'mathtext.fallback_to_cm' rcParam is deprecated since 3.3 and will be removed two minor releases later; use 'mathtext.fallback : 'cm' instead.\n",
      "In C:\\Users\\wangj\\Anaconda3\\envs\\ee_py3\\lib\\site-packages\\matplotlib\\mpl-data\\stylelib\\_classic_test.mplstyle: \n",
      "The validate_bool_maybe_none function was deprecated in Matplotlib 3.3 and will be removed two minor releases later.\n",
      "In C:\\Users\\wangj\\Anaconda3\\envs\\ee_py3\\lib\\site-packages\\matplotlib\\mpl-data\\stylelib\\_classic_test.mplstyle: \n",
      "The savefig.jpeg_quality rcparam was deprecated in Matplotlib 3.3 and will be removed two minor releases later.\n",
      "In C:\\Users\\wangj\\Anaconda3\\envs\\ee_py3\\lib\\site-packages\\matplotlib\\mpl-data\\stylelib\\_classic_test.mplstyle: \n",
      "The keymap.all_axes rcparam was deprecated in Matplotlib 3.3 and will be removed two minor releases later.\n",
      "In C:\\Users\\wangj\\Anaconda3\\envs\\ee_py3\\lib\\site-packages\\matplotlib\\mpl-data\\stylelib\\_classic_test.mplstyle: \n",
      "The animation.avconv_path rcparam was deprecated in Matplotlib 3.3 and will be removed two minor releases later.\n",
      "In C:\\Users\\wangj\\Anaconda3\\envs\\ee_py3\\lib\\site-packages\\matplotlib\\mpl-data\\stylelib\\_classic_test.mplstyle: \n",
      "The animation.avconv_args rcparam was deprecated in Matplotlib 3.3 and will be removed two minor releases later.\n"
     ]
    }
   ],
   "source": [
    "import ee\n",
    "import pandas as pd\n",
    "import numpy as np\n",
    "import matplotlib.pyplot as plt\n",
    "import seaborn as sns\n",
    "\n",
    "import glob\n",
    "\n",
    "from sklearn.preprocessing import MinMaxScaler\n",
    "from sklearn import metrics"
   ]
  },
  {
   "cell_type": "code",
   "execution_count": null,
   "id": "inappropriate-reason",
   "metadata": {},
   "outputs": [],
   "source": []
  },
  {
   "cell_type": "code",
   "execution_count": 2,
   "id": "secret-knife",
   "metadata": {},
   "outputs": [],
   "source": [
    "ee.Initialize()"
   ]
  },
  {
   "cell_type": "code",
   "execution_count": null,
   "id": "golden-fiction",
   "metadata": {},
   "outputs": [],
   "source": []
  },
  {
   "cell_type": "code",
   "execution_count": 3,
   "id": "arranged-minister",
   "metadata": {},
   "outputs": [],
   "source": [
    "# define the year-range\n",
    "year = [f'{i}_{i+2}' for i in range(1990,2020,3)]\n",
    "year_img_val_dict = {yr:i for yr,i in zip(year,range(10,0,-1))}\n",
    "\n",
    "# get all possible years for traning the projection\n",
    "proj_yr = []\n",
    "for k,v in year_img_val_dict.items():\n",
    "    # get the t0 val/img\n",
    "    t0 = k\n",
    "        \n",
    "    # get the t1;t2\n",
    "    if v == 2:\n",
    "        pass\n",
    "    else:\n",
    "        for val in range(v-1,1,-1):\n",
    "            prj_val = val - (v - val)\n",
    "            \n",
    "            if  prj_val>0:\n",
    "                \n",
    "                prj_yr  = [k for k,v in year_img_val_dict.items() if v==prj_val][0]\n",
    "                \n",
    "                t1 = [k for k,v in year_img_val_dict.items() if v==val][0]\n",
    "                t2 = [k for k,v in year_img_val_dict.items() if v==prj_val][0]\n",
    "                                \n",
    "                proj_yr.append((t0,t1,t2))"
   ]
  },
  {
   "cell_type": "markdown",
   "id": "sensitive-nicholas",
   "metadata": {},
   "source": [
    "##### Read AUC dfs"
   ]
  },
  {
   "cell_type": "code",
   "execution_count": 4,
   "id": "racial-chile",
   "metadata": {},
   "outputs": [],
   "source": [
    "# read tranditional-way AUC\n",
    "dfs = [pd.read_pickle(f) for f in glob.glob('./Result/old_school_way/*.pkl')]\n",
    "AUC_factors = pd.concat(dfs)\n",
    "AUC_factors = AUC_factors[['t0', 't1', 't2','DEM', 'SLOPE', 'Distance', 'y_true', 'y_prob']]\n",
    "\n",
    "\n",
    "# read FCNN AUC dfs\n",
    "AUC_FCNN = pd.read_pickle(f'./Result/AUC_TRAINING/AUC_metrics.pkl')\n",
    "AUC_FCNN = AUC_FCNN[AUC_FCNN['Model']!='Distance']\n",
    "AUC_FCNN = AUC_FCNN[['t0', 't1', 't2', 'Model', 'Seed', 'Y_true', 'Y_prob']]\n",
    "AUC_FCNN.columns = ['t0', 't1', 't2', 'Model', 'Seed', 'y_true', 'y_prob']"
   ]
  },
  {
   "cell_type": "code",
   "execution_count": null,
   "id": "capable-health",
   "metadata": {},
   "outputs": [],
   "source": []
  },
  {
   "cell_type": "markdown",
   "id": "synthetic-communications",
   "metadata": {},
   "source": [
    "##### Compute the APS"
   ]
  },
  {
   "cell_type": "code",
   "execution_count": 5,
   "id": "short-flashing",
   "metadata": {},
   "outputs": [],
   "source": [
    "# compute the APS\n",
    "AUC_factors['APS']      = AUC_factors.apply(lambda x: metrics.average_precision_score(x['y_true'],x['y_prob']),axis=1)\n",
    "AUC_FCNN['APS']         = AUC_FCNN.apply(lambda x: metrics.average_precision_score(x['y_true'],x['y_prob']),axis=1)"
   ]
  },
  {
   "cell_type": "code",
   "execution_count": null,
   "id": "personal-needle",
   "metadata": {},
   "outputs": [],
   "source": []
  },
  {
   "cell_type": "code",
   "execution_count": 6,
   "id": "developed-logging",
   "metadata": {},
   "outputs": [],
   "source": [
    "# compute the total area of the research area\n",
    "mask = ee.Image(\"users/wangjinzhulala/North_China_Plain_Python/classification_img/Control_1990_1992/Control_1990_1992_0\").gt(-1)\n",
    "urban = ee.Image(\"users/wangjinzhulala/North_China_Plain_Python/classificatioin_temporal_checked/Mosaic_only_forward\").updateMask(mask)\n",
    "region = ee.FeatureCollection(\"users/wangjinzhulala/North_China_Plain_Python/Boundary_shp/North_China_Plain_Boundary\")\n",
    "\n",
    "area = urban.reduceRegion(    reducer=ee.Reducer.frequencyHistogram(),\n",
    "                              geometry=region.geometry().bounds(),\n",
    "                              scale=30,\n",
    "                              maxPixels=int(1e13)).getInfo() \n",
    "area_sum = np.array([v for (k,v) in area['b1'].items()]).sum()\n",
    "\n",
    "# compute the base-APS, which is the result of expansion_area/total_area\n",
    "Area_expansion = pd.read_csv('./Result/AUC_TRAINING/Area_expansion.csv')\n",
    "Area_expansion = Area_expansion[Area_expansion['expansion_type']=='pred']\n",
    "Area_expansion['Expansion_ratio'] = Area_expansion['count']/area_sum\n",
    "Area_expansion = Area_expansion[['t0', 't1', 't2', 'Expansion_ratio']]"
   ]
  },
  {
   "cell_type": "code",
   "execution_count": null,
   "id": "prompt-columbia",
   "metadata": {},
   "outputs": [],
   "source": []
  },
  {
   "cell_type": "code",
   "execution_count": 7,
   "id": "characteristic-warren",
   "metadata": {},
   "outputs": [],
   "source": [
    "# add the expansion_ratio to AUC_df\n",
    "AUC_factors = pd.merge(AUC_factors,Area_expansion,how='left',left_on=['t0', 't1', 't2'],right_on = ['t0', 't1', 't2'])\n",
    "AUC_FCNN    = pd.merge(AUC_FCNN,Area_expansion,how='left',left_on=['t0', 't1', 't2'],right_on = ['t0', 't1', 't2'])\n",
    "\n",
    "AUC_factors['X_label'] = AUC_factors.apply(lambda x: f\"{x['t0']}_and_{x['t1']}_prj_{x['t2']}\",axis=1)\n",
    "AUC_FCNN['X_label']    = AUC_FCNN.apply(lambda x: f\"{x['t0']}_and_{x['t1']}_prj_{x['t2']}\",axis=1)"
   ]
  },
  {
   "cell_type": "code",
   "execution_count": null,
   "id": "respiratory-davis",
   "metadata": {},
   "outputs": [],
   "source": []
  },
  {
   "cell_type": "code",
   "execution_count": null,
   "id": "pleasant-greensboro",
   "metadata": {},
   "outputs": [],
   "source": []
  },
  {
   "cell_type": "code",
   "execution_count": 8,
   "id": "limited-center",
   "metadata": {},
   "outputs": [],
   "source": [
    "target_prj = '1990_1992_and_2002_2004_prj_2014_2016'"
   ]
  },
  {
   "cell_type": "code",
   "execution_count": 10,
   "id": "aggregate-technician",
   "metadata": {
    "scrolled": true
   },
   "outputs": [],
   "source": [
    "AUC_factors_selected = AUC_factors[AUC_factors['X_label']==target_prj]\n",
    "AUC_FCNN_selected    = AUC_FCNN[AUC_FCNN['X_label']==target_prj]"
   ]
  },
  {
   "cell_type": "code",
   "execution_count": null,
   "id": "furnished-mixer",
   "metadata": {},
   "outputs": [],
   "source": []
  },
  {
   "cell_type": "code",
   "execution_count": 18,
   "id": "least-macintosh",
   "metadata": {},
   "outputs": [
    {
     "data": {
      "text/plain": [
       "<AxesSubplot:xlabel='X_label', ylabel='APS'>"
      ]
     },
     "execution_count": 18,
     "metadata": {},
     "output_type": "execute_result"
    },
    {
     "data": {
      "image/png": "[encoded data removed]",
      "text/plain": [
       "<Figure size 432x288 with 1 Axes>"
      ]
     },
     "metadata": {
      "needs_background": "light"
     },
     "output_type": "display_data"
    }
   ],
   "source": [
    "sns.boxplot(data=AUC_factors_selected,x='X_label',y='APS',color='g')\n",
    "sns.boxplot(data=AUC_FCNN_selected,x='X_label',y='APS',color='r')"
   ]
  },
  {
   "cell_type": "code",
   "execution_count": null,
   "id": "designing-brass",
   "metadata": {},
   "outputs": [],
   "source": []
  },
  {
   "cell_type": "code",
   "execution_count": null,
   "id": "cooked-karma",
   "metadata": {},
   "outputs": [],
   "source": []
  },
  {
   "cell_type": "code",
   "execution_count": null,
   "id": "running-laptop",
   "metadata": {},
   "outputs": [],
   "source": []
  },
  {
   "cell_type": "code",
   "execution_count": null,
   "id": "nervous-clause",
   "metadata": {},
   "outputs": [],
   "source": []
  },
  {
   "cell_type": "code",
   "execution_count": null,
   "id": "involved-candy",
   "metadata": {},
   "outputs": [],
   "source": []
  },
  {
   "cell_type": "code",
   "execution_count": null,
   "id": "brown-promise",
   "metadata": {},
   "outputs": [],
   "source": []
  },
  {
   "cell_type": "code",
   "execution_count": null,
   "id": "devoted-butler",
   "metadata": {},
   "outputs": [],
   "source": []
  },
  {
   "cell_type": "code",
   "execution_count": null,
   "id": "optional-brisbane",
   "metadata": {},
   "outputs": [],
   "source": []
  },
  {
   "cell_type": "code",
   "execution_count": null,
   "id": "marked-career",
   "metadata": {},
   "outputs": [],
   "source": []
  },
  {
   "cell_type": "code",
   "execution_count": null,
   "id": "entitled-median",
   "metadata": {},
   "outputs": [],
   "source": []
  },
  {
   "cell_type": "code",
   "execution_count": null,
   "id": "silver-sitting",
   "metadata": {},
   "outputs": [],
   "source": []
  },
  {
   "cell_type": "code",
   "execution_count": null,
   "id": "expired-genre",
   "metadata": {},
   "outputs": [],
   "source": []
  },
  {
   "cell_type": "code",
   "execution_count": null,
   "id": "artistic-monitoring",
   "metadata": {},
   "outputs": [],
   "source": []
  }
 ],
 "metadata": {
  "kernelspec": {
   "display_name": "Python 3",
   "language": "python",
   "name": "python3"
  },
  "language_info": {
   "codemirror_mode": {
    "name": "ipython",
    "version": 3
   },
   "file_extension": ".py",
   "mimetype": "text/x-python",
   "name": "python",
   "nbconvert_exporter": "python",
   "pygments_lexer": "ipython3",
   "version": "3.7.3"
  }
 },
 "nbformat": 4,
 "nbformat_minor": 5
}
