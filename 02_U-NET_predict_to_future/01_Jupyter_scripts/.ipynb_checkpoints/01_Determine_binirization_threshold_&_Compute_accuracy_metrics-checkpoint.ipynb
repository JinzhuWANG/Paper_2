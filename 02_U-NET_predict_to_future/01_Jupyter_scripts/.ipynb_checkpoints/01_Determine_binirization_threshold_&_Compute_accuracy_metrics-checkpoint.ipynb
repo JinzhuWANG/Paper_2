{
 "cells": [
  {
   "cell_type": "code",
   "execution_count": 1,
   "id": "67519cc7",
   "metadata": {},
   "outputs": [],
   "source": [
    "# some setting to access Google, dont use them if you can access Google\n",
    "\n",
    "import os\n",
    "os.environ['HTTP_PROXY'] = 'http://127.0.0.1:58591'\n",
    "os.environ['HTTPS_PROXY'] = 'http://127.0.0.1:58591'\n",
    "\n",
    "%matplotlib inline"
   ]
  },
  {
   "cell_type": "code",
   "execution_count": null,
   "id": "ea6b68ba",
   "metadata": {},
   "outputs": [],
   "source": []
  },
  {
   "cell_type": "code",
   "execution_count": 2,
   "id": "f70690b8",
   "metadata": {},
   "outputs": [
    {
     "name": "stderr",
     "output_type": "stream",
     "text": [
      "Module C:\\Users\\Lenovo\\.conda\\envs\\ee_py3\\lib\\site-packages\\pylandstats\\landscape.py has not been compiled for Transonic-Numba\n"
     ]
    }
   ],
   "source": [
    "from osgeo import gdal\n",
    "import matplotlib.pyplot as plt\n",
    "import pylandstats as pls\n",
    "import seaborn as sns\n",
    "\n",
    "import glob\n",
    "import re\n",
    "import os\n",
    "from xpinyin import Pinyin\n",
    "\n",
    "import numpy as np\n",
    "import pandas as pd\n",
    "from sklearn import metrics\n",
    "\n",
    "import ee\n",
    "import geemap\n",
    "\n",
    "ee.Initialize()"
   ]
  },
  {
   "cell_type": "code",
   "execution_count": null,
   "id": "4e0bc6c4",
   "metadata": {},
   "outputs": [],
   "source": []
  },
  {
   "cell_type": "code",
   "execution_count": null,
   "id": "399eb657",
   "metadata": {},
   "outputs": [],
   "source": []
  },
  {
   "cell_type": "markdown",
   "id": "2b921c2b",
   "metadata": {},
   "source": [
    "### Define basic parameters"
   ]
  },
  {
   "cell_type": "code",
   "execution_count": 3,
   "id": "3421952b",
   "metadata": {},
   "outputs": [],
   "source": [
    "# Is the projection for validation or for projecting to the future\n",
    "Future = True"
   ]
  },
  {
   "cell_type": "code",
   "execution_count": null,
   "id": "ad6b1f15",
   "metadata": {},
   "outputs": [],
   "source": []
  },
  {
   "cell_type": "code",
   "execution_count": 4,
   "id": "dd215fea",
   "metadata": {},
   "outputs": [],
   "source": [
    "# import research region\n",
    "region = ee.FeatureCollection(\"users/wangjinzhulala/North_China_Plain_Python/Boundary_shp/North_China_Plain_Boundary\")\n",
    "\n",
    "# try compare other researuch\n",
    "region_cities = ee.FeatureCollection(\"users/wangjinzhulala/North_China_Plain_Python/Boundary_shp/North_China_Plain_city_boundary\")"
   ]
  },
  {
   "cell_type": "code",
   "execution_count": null,
   "id": "66ba2605",
   "metadata": {},
   "outputs": [],
   "source": []
  },
  {
   "cell_type": "code",
   "execution_count": 5,
   "id": "980ea74e",
   "metadata": {},
   "outputs": [],
   "source": [
    "# set target years\n",
    "if not Future:\n",
    "    start_year = '1993_1995'\n",
    "    base_year = '2005_2007'\n",
    "    target_year = '2017_2019'\n",
    "else:\n",
    "    start_year = '2017_2019'\n",
    "    future_year = 2030\n",
    "\n",
    "\n",
    "# define the pixel value that corespondind to the year\n",
    "true_image_year_val = {f'{year}_{year+2}':(i+1) for (i,year) in enumerate(range(2017,1989,-3))}\n",
    "\n",
    "# import urban expansion img\n",
    "urban_expansion_img = ee.Image(\"users/wangjinzhulala/North_China_Plain_Python/classificatioin_temporal_checked/Mosaic_only_forward\")\n",
    "\n",
    "# get the true img of base year and target year\n",
    "if not Future:\n",
    "    target_img = urban_expansion_img.gte(true_image_year_val[target_year])\n",
    "    base_img = urban_expansion_img.gte(true_image_year_val[base_year])\n",
    "else:\n",
    "    base_img = urban_expansion_img.gte(true_image_year_val[start_year])"
   ]
  },
  {
   "cell_type": "code",
   "execution_count": null,
   "id": "a67472ed",
   "metadata": {},
   "outputs": [],
   "source": []
  },
  {
   "cell_type": "code",
   "execution_count": 6,
   "id": "dcd9db33",
   "metadata": {},
   "outputs": [],
   "source": [
    "# import unet images\n",
    "if not Future:\n",
    "    unet_imgs = ! earthengine ls users/wangjinzhulala/GEE_TF/Urban_projection\n",
    "    unet_imgs = [i for i in unet_imgs if 'hard_' not in i and target_year in i and base_year in i]\n",
    "    \n",
    "    # regular expression to find the unet type\n",
    "    reg_name = re.compile(f'.*prj_{target_year}_(.*)_\\d+.*')\n",
    "\n",
    "    # fetch img data form GEE\n",
    "    unet_imgs = {f'{reg_name.findall(i)[0]}_{base_year}_{target_year}':ee.ImageCollection(i).mosaic() for i in unet_imgs}\n",
    "else:\n",
    "    unet_imgs = {'to_future':ee.ImageCollection(\"users/wangjinzhulala/GEE_TF/Urban_projection/FCNN_2017_2019_to_future_no_distance_60\").mosaic()}"
   ]
  },
  {
   "cell_type": "code",
   "execution_count": null,
   "id": "3df95dca",
   "metadata": {},
   "outputs": [],
   "source": []
  },
  {
   "cell_type": "code",
   "execution_count": null,
   "id": "f74baced",
   "metadata": {},
   "outputs": [],
   "source": []
  },
  {
   "cell_type": "code",
   "execution_count": null,
   "id": "c9c277cd",
   "metadata": {},
   "outputs": [],
   "source": []
  },
  {
   "cell_type": "markdown",
   "id": "11de59d7",
   "metadata": {},
   "source": [
    "### Plot the loss change when training  UNET"
   ]
  },
  {
   "cell_type": "code",
   "execution_count": 7,
   "id": "7c026f9c",
   "metadata": {},
   "outputs": [
    {
     "data": {
      "text/plain": [
       "<matplotlib.axes._subplots.AxesSubplot at 0x27e93286be0>"
      ]
     },
     "execution_count": 7,
     "metadata": {},
     "output_type": "execute_result"
    },
    {
     "data": {
      "image/png": "[encoded data removed]",
      "text/plain": [
       "<Figure size 720x432 with 1 Axes>"
      ]
     },
     "metadata": {
      "needs_background": "light"
     },
     "output_type": "display_data"
    }
   ],
   "source": [
    "# get the loss metrics\n",
    "if not Future:\n",
    "    losses = glob.glob(f'../Data/Training_loss/FCNN_{start_year}_and_{base_year}_prj_{target_year}*') \n",
    "    out_path = f\"../Data/Training_loss/Train_loss_{start_year}_and_{base_year}_prj_{target_year}.csv\"\n",
    "else:\n",
    "    losses = glob.glob(f'../Data/Training_loss/FCNN_{start_year}_to_future*')\n",
    "    out_path = f\"../Data/Training_loss/Train_loss_{start_year}_to_future.csv\"\n",
    "\n",
    "# concatenate the dfs\n",
    "loss_df = pd.concat([pd.read_csv(df) for df in losses])\n",
    "df_len = loss_df.shape[0]\n",
    "loss_df['epoch'] = range(1,df_len+1)\n",
    "\n",
    "# remove outliers to make plot easily recognisible\n",
    "loss_df_fig = loss_df[loss_df['val_loss']<0.03]\n",
    "\n",
    "# save loss to csv\n",
    "loss_df_fig.to_csv(out_path,index=False)\n",
    "loss_df_fig = pd.read_csv(out_path)\n",
    "\n",
    "# ploting the loss\n",
    "plt.figure(figsize=(10,6))\n",
    "plt.xticks(range(10,df_len+1,10))\n",
    "sns.scatterplot(data=loss_df_fig,x='epoch',y='val_loss')"
   ]
  },
  {
   "cell_type": "code",
   "execution_count": null,
   "id": "27af6340",
   "metadata": {},
   "outputs": [],
   "source": []
  },
  {
   "cell_type": "code",
   "execution_count": null,
   "id": "e7061ac6",
   "metadata": {},
   "outputs": [],
   "source": []
  },
  {
   "cell_type": "code",
   "execution_count": null,
   "id": "1a6b09a3",
   "metadata": {},
   "outputs": [],
   "source": []
  },
  {
   "cell_type": "markdown",
   "id": "c7eba418",
   "metadata": {},
   "source": [
    "### Get the threshold that divide the Unet image into urban/non-urban pixels"
   ]
  },
  {
   "cell_type": "code",
   "execution_count": null,
   "id": "2b861458",
   "metadata": {},
   "outputs": [],
   "source": []
  },
  {
   "cell_type": "code",
   "execution_count": 12,
   "id": "935c81cc",
   "metadata": {},
   "outputs": [
    {
     "name": "stderr",
     "output_type": "stream",
     "text": [
      "<ipython-input-12-e10a3111c21e>:25: SettingWithCopyWarning: \n",
      "A value is trying to be set on a copy of a slice from a DataFrame.\n",
      "Try using .loc[row_indexer,col_indexer] = value instead\n",
      "\n",
      "See the caveats in the documentation: https://pandas.pydata.org/pandas-docs/stable/user_guide/indexing.html#returning-a-view-versus-a-copy\n",
      "  target_img_pixel_sum_each_region_df['year'] = future_year\n",
      "<ipython-input-12-e10a3111c21e>:26: SettingWithCopyWarning: \n",
      "A value is trying to be set on a copy of a slice from a DataFrame.\n",
      "Try using .loc[row_indexer,col_indexer] = value instead\n",
      "\n",
      "See the caveats in the documentation: https://pandas.pydata.org/pandas-docs/stable/user_guide/indexing.html#returning-a-view-versus-a-copy\n",
      "  target_img_pixel_sum_each_region_df['sum'] = pred_pix_count*target_img_pixel_sum_each_region_df['area_ratio']\n"
     ]
    }
   ],
   "source": [
    "# first, segregate the total area into each region\n",
    "if not Future:\n",
    "    # get the total urban pixel number of the img in the target year\n",
    "    target_img_pixel_sum_each_region = target_img.reduceRegions(collection = region_cities,\n",
    "                                                                reducer = 'sum',\n",
    "                                                                scale=30).getInfo()\n",
    "    # turn the stats to df\n",
    "    target_img_pixel_sum_each_region_df = pd.DataFrame([i['properties'] for i in  target_img_pixel_sum_each_region['features']])\n",
    "    \n",
    "else:\n",
    "    # get the total urban pixel number of the img in the target year\n",
    "    target_img_pixel_sum_each_region = base_img.reduceRegions(collection = region_cities,\n",
    "                                                                reducer = 'sum',\n",
    "                                                                scale=30).getInfo()\n",
    "    # turn the stats to df\n",
    "    pred_pix_city = pd.DataFrame([i['properties'] for i in  target_img_pixel_sum_each_region['features']])\n",
    "    pred_pix_city['area_ratio'] = pred_pix_city['sum']/(pred_pix_city['sum'].sum())\n",
    "    \n",
    "    # get the predicted pix_count\n",
    "    extrapolation_df = pd.read_csv('../Data/Result_csv/fit_ext_tf.csv')\n",
    "    pred_pix_count = extrapolation_df[extrapolation_df['year'] == future_year]['pix_count'].values[0]\n",
    "\n",
    "    # segregate pred_pix_count to each city\n",
    "    target_img_pixel_sum_each_region_df = pred_pix_city[['CityNameC','area_ratio']]\n",
    "    target_img_pixel_sum_each_region_df['year'] = future_year\n",
    "    target_img_pixel_sum_each_region_df['sum'] = pred_pix_count*target_img_pixel_sum_each_region_df['area_ratio'] "
   ]
  },
  {
   "cell_type": "code",
   "execution_count": null,
   "id": "7ad42c65",
   "metadata": {},
   "outputs": [],
   "source": []
  },
  {
   "cell_type": "code",
   "execution_count": null,
   "id": "cd986baf",
   "metadata": {},
   "outputs": [],
   "source": []
  },
  {
   "cell_type": "code",
   "execution_count": null,
   "id": "6a5a883f",
   "metadata": {},
   "outputs": [],
   "source": []
  },
  {
   "cell_type": "code",
   "execution_count": 14,
   "id": "a5bda2b6",
   "metadata": {},
   "outputs": [],
   "source": [
    "# function to get the threshold\n",
    "def get_threshold(img,region,target_pixel_sum):    \n",
    "    # get stats\n",
    "    stats = img.reduceRegion(reducer = ee.Reducer.frequencyHistogram(),\n",
    "                              geometry = region.geometry().bounds(),\n",
    "                              scale=30,\n",
    "                              maxPixels = int(1e13))\n",
    "    \n",
    "    stats_info = stats.getInfo()\n",
    "    stats_info = {int(k):[v] for (k,v) in stats_info['b1'].items()}\n",
    "    \n",
    "    # compute the threshold\n",
    "    df = pd.DataFrame(stats_info).T\n",
    "    df = df.sort_index(ascending=False)\n",
    "    df.columns = ['unet_val_count']\n",
    "    df['cum_sum'] = df['unet_val_count'].cumsum()\n",
    "    df['ratio'] = df['cum_sum']/target_pixel_sum\n",
    "    df['dist_to_1'] = (df['ratio']-1).abs()\n",
    "    threshold = df[df['dist_to_1'] == df['dist_to_1'].min()].index.values[0]\n",
    "    \n",
    "    # return threshold value\n",
    "    return threshold,df"
   ]
  },
  {
   "cell_type": "code",
   "execution_count": null,
   "id": "97e8ff06",
   "metadata": {},
   "outputs": [],
   "source": []
  },
  {
   "cell_type": "markdown",
   "id": "ef1a29e8",
   "metadata": {},
   "source": [
    "##### Recalssify unet_img to hard_reclass image"
   ]
  },
  {
   "cell_type": "code",
   "execution_count": 28,
   "id": "027ebe81",
   "metadata": {},
   "outputs": [
    {
     "data": {
      "text/html": [
       "<div>\n",
       "<style scoped>\n",
       "    .dataframe tbody tr th:only-of-type {\n",
       "        vertical-align: middle;\n",
       "    }\n",
       "\n",
       "    .dataframe tbody tr th {\n",
       "        vertical-align: top;\n",
       "    }\n",
       "\n",
       "    .dataframe thead th {\n",
       "        text-align: right;\n",
       "    }\n",
       "</style>\n",
       "<table border=\"1\" class=\"dataframe\">\n",
       "  <thead>\n",
       "    <tr style=\"text-align: right;\">\n",
       "      <th></th>\n",
       "      <th>CityNameC</th>\n",
       "      <th>area_ratio</th>\n",
       "      <th>year</th>\n",
       "      <th>sum</th>\n",
       "    </tr>\n",
       "  </thead>\n",
       "  <tbody>\n",
       "    <tr>\n",
       "      <th>0</th>\n",
       "      <td>宿州市</td>\n",
       "      <td>0.015312</td>\n",
       "      <td>2030.0</td>\n",
       "      <td>3.724937e+06</td>\n",
       "    </tr>\n",
       "    <tr>\n",
       "      <th>1</th>\n",
       "      <td>淄博市</td>\n",
       "      <td>0.010601</td>\n",
       "      <td>2030.0</td>\n",
       "      <td>2.578998e+06</td>\n",
       "    </tr>\n",
       "    <tr>\n",
       "      <th>2</th>\n",
       "      <td>淮北市</td>\n",
       "      <td>0.004695</td>\n",
       "      <td>2030.0</td>\n",
       "      <td>1.142113e+06</td>\n",
       "    </tr>\n",
       "    <tr>\n",
       "      <th>3</th>\n",
       "      <td>淮南市</td>\n",
       "      <td>0.004006</td>\n",
       "      <td>2030.0</td>\n",
       "      <td>9.744463e+05</td>\n",
       "    </tr>\n",
       "    <tr>\n",
       "      <th>4</th>\n",
       "      <td>淮安市</td>\n",
       "      <td>0.011450</td>\n",
       "      <td>2030.0</td>\n",
       "      <td>2.785524e+06</td>\n",
       "    </tr>\n",
       "    <tr>\n",
       "      <th>...</th>\n",
       "      <td>...</td>\n",
       "      <td>...</td>\n",
       "      <td>...</td>\n",
       "      <td>...</td>\n",
       "    </tr>\n",
       "    <tr>\n",
       "      <th>71</th>\n",
       "      <td>泰安市</td>\n",
       "      <td>0.012650</td>\n",
       "      <td>2030.0</td>\n",
       "      <td>3.077480e+06</td>\n",
       "    </tr>\n",
       "    <tr>\n",
       "      <th>72</th>\n",
       "      <td>泰州市</td>\n",
       "      <td>0.011741</td>\n",
       "      <td>2030.0</td>\n",
       "      <td>2.856392e+06</td>\n",
       "    </tr>\n",
       "    <tr>\n",
       "      <th>73</th>\n",
       "      <td>洛阳市</td>\n",
       "      <td>0.009299</td>\n",
       "      <td>2030.0</td>\n",
       "      <td>2.262200e+06</td>\n",
       "    </tr>\n",
       "    <tr>\n",
       "      <th>74</th>\n",
       "      <td>济南市</td>\n",
       "      <td>0.012692</td>\n",
       "      <td>2030.0</td>\n",
       "      <td>3.087647e+06</td>\n",
       "    </tr>\n",
       "    <tr>\n",
       "      <th>75</th>\n",
       "      <td>济宁市</td>\n",
       "      <td>0.017910</td>\n",
       "      <td>2030.0</td>\n",
       "      <td>4.357036e+06</td>\n",
       "    </tr>\n",
       "  </tbody>\n",
       "</table>\n",
       "<p>76 rows × 4 columns</p>\n",
       "</div>"
      ],
      "text/plain": [
       "   CityNameC  area_ratio    year           sum\n",
       "0        宿州市    0.015312  2030.0  3.724937e+06\n",
       "1        淄博市    0.010601  2030.0  2.578998e+06\n",
       "2        淮北市    0.004695  2030.0  1.142113e+06\n",
       "3        淮南市    0.004006  2030.0  9.744463e+05\n",
       "4        淮安市    0.011450  2030.0  2.785524e+06\n",
       "..       ...         ...     ...           ...\n",
       "71       泰安市    0.012650  2030.0  3.077480e+06\n",
       "72       泰州市    0.011741  2030.0  2.856392e+06\n",
       "73       洛阳市    0.009299  2030.0  2.262200e+06\n",
       "74       济南市    0.012692  2030.0  3.087647e+06\n",
       "75       济宁市    0.017910  2030.0  4.357036e+06\n",
       "\n",
       "[76 rows x 4 columns]"
      ]
     },
     "execution_count": 28,
     "metadata": {},
     "output_type": "execute_result"
    }
   ],
   "source": [
    "target_img_pixel_sum_each_region_df"
   ]
  },
  {
   "cell_type": "code",
   "execution_count": null,
   "id": "f5cc5dd3",
   "metadata": {},
   "outputs": [],
   "source": []
  },
  {
   "cell_type": "code",
   "execution_count": 30,
   "id": "8f18b520",
   "metadata": {
    "scrolled": true
   },
   "outputs": [
    {
     "name": "stdout",
     "output_type": "stream",
     "text": [
      "The threshold of to_future_宿州市_2030.0 is 1979\n",
      "The threshold of to_future_淄博市_2030.0 is 2003\n",
      "The threshold of to_future_淮北市_2030.0 is 1889\n",
      "The threshold of to_future_淮南市_2030.0 is 1855\n",
      "The threshold of to_future_淮安市_2030.0 is 2495\n",
      "The threshold of to_future_滁州市_2030.0 is 2121\n",
      "The threshold of to_future_滨州市_2030.0 is 2008\n",
      "The threshold of to_future_漯河市_2030.0 is 1547\n",
      "The threshold of to_future_潍坊市_2030.0 is 2671\n",
      "The threshold of to_future_濮阳市_2030.0 is 2263\n",
      "The threshold of to_future_烟台市_2030.0 is 2160\n",
      "The threshold of to_future_焦作市_2030.0 is 2000\n",
      "The threshold of to_future_盐城市_2030.0 is 3771\n",
      "The threshold of to_future_石家庄市_2030.0 is 1827\n",
      "The threshold of to_future_秦皇岛市_2030.0 is 2311\n",
      "The threshold of to_future_聊城市_2030.0 is 2005\n",
      "The threshold of to_future_芜湖市_2030.0 is 2521\n",
      "The threshold of to_future_苏州市_2030.0 is 2207\n",
      "The threshold of to_future_荷泽市_2030.0 is 2441\n",
      "The threshold of to_future_莱芜市_2030.0 is 2328\n",
      "The threshold of to_future_蚌埠市_2030.0 is 1921\n",
      "The threshold of to_future_衡水市_2030.0 is 1516\n",
      "The threshold of to_future_许昌市_2030.0 is 2367\n",
      "The threshold of to_future_连云港市_2030.0 is 1786\n",
      "The threshold of to_future_邢台市_2030.0 is 1761\n",
      "The threshold of to_future_邯郸市_2030.0 is 1933\n",
      "The threshold of to_future_郑州市_2030.0 is 1374\n",
      "The threshold of to_future_铜陵市_2030.0 is 2368\n",
      "The threshold of to_future_镇江市_2030.0 is 3252\n",
      "The threshold of to_future_阜阳市_2030.0 is 3876\n",
      "The threshold of to_future_青岛市_2030.0 is 1518\n",
      "The threshold of to_future_马鞍山市_2030.0 is 2365\n",
      "The threshold of to_future_驻马店市_2030.0 is 2110\n",
      "The threshold of to_future_鹤壁市_2030.0 is 1940\n",
      "The threshold of to_future_黄山市_2030.0 is 1934\n",
      "The threshold of to_future_三门峡市_2030.0 is 1985\n",
      "The threshold of to_future_东营市_2030.0 is 2580\n",
      "The threshold of to_future_临沂市_2030.0 is 2323\n",
      "The threshold of to_future_亳州市_2030.0 is 2448\n",
      "The threshold of to_future_保定市_2030.0 is 2019\n",
      "The threshold of to_future_信阳市_2030.0 is 1932\n",
      "The threshold of to_future_六安市_2030.0 is 2102\n",
      "The threshold of to_future_北京市_2030.0 is 2285\n",
      "The threshold of to_future_南京市_2030.0 is 2467\n",
      "The threshold of to_future_南通市_2030.0 is 3314\n",
      "The threshold of to_future_南阳市_2030.0 is 2393\n",
      "The threshold of to_future_合肥市_2030.0 is 2315\n",
      "The threshold of to_future_周口市_2030.0 is 1819\n",
      "The threshold of to_future_唐山市_2030.0 is 2224\n",
      "The threshold of to_future_商丘市_2030.0 is 2156\n",
      "The threshold of to_future_天津市_2030.0 is 1659\n",
      "The threshold of to_future_威海市_2030.0 is 2016\n",
      "The threshold of to_future_安庆市_2030.0 is 2221\n",
      "The threshold of to_future_安阳市_2030.0 is 1914\n",
      "The threshold of to_future_宣城市_2030.0 is 1912\n",
      "The threshold of to_future_宿迁市_2030.0 is 2483\n",
      "The threshold of to_future_常州市_2030.0 is 2909\n",
      "The threshold of to_future_平顶山市_2030.0 is 2144\n",
      "The threshold of to_future_廊坊市_2030.0 is 1864\n",
      "The threshold of to_future_开封市_2030.0 is 2386\n",
      "The threshold of to_future_张家口市_2030.0 is 1898\n",
      "The threshold of to_future_徐州市_2030.0 is 2300\n",
      "The threshold of to_future_德州市_2030.0 is 1540\n",
      "The threshold of to_future_扬州市_2030.0 is 3575\n",
      "The threshold of to_future_承德市_2030.0 is 1876\n",
      "The threshold of to_future_新乡市_2030.0 is 1781\n",
      "The threshold of to_future_无锡市_2030.0 is 2463\n",
      "The threshold of to_future_日照市_2030.0 is 2328\n",
      "The threshold of to_future_枣庄市_2030.0 is 2438\n",
      "The threshold of to_future_池州市_2030.0 is 2090\n",
      "The threshold of to_future_沧州市_2030.0 is 1928\n",
      "The threshold of to_future_泰安市_2030.0 is 2647\n",
      "The threshold of to_future_泰州市_2030.0 is 3308\n",
      "The threshold of to_future_洛阳市_2030.0 is 2138\n",
      "The threshold of to_future_济南市_2030.0 is 1729\n",
      "The threshold of to_future_济宁市_2030.0 is 2300\n"
     ]
    }
   ],
   "source": [
    "# get the hard-classification from uner_potential image\n",
    "unet_img_hard_classified = {}\n",
    "\n",
    "# loop through each unet_img\n",
    "for name,img in unet_imgs.items():\n",
    "    # loop through each city\n",
    "    for idx,row in target_img_pixel_sum_each_region_df.iterrows():\n",
    "        \n",
    "        # get parameters\n",
    "        city_name = row['CityNameC']\n",
    "        city_geo = region_cities.filterMetadata('CityNameC','equals',city_name)\n",
    "        city_urban_pixel_sum = int(row['sum'])\n",
    "        \n",
    "        # compute threshold\n",
    "        threshold,df = get_threshold(img.clip(city_geo),city_geo,city_urban_pixel_sum)\n",
    "        \n",
    "        # make the hard classification\n",
    "        if not Future:\n",
    "            unet_img_hard_classified[(name,city_name)] = img.gt(int(threshold)).clip(city_geo)\n",
    "            # report process\n",
    "            print(f'The threshold of {name}_{city_name}_{base_year}_{target_year} is {threshold}')\n",
    "        else:\n",
    "            future_year = row['year']\n",
    "            unet_img_hard_classified[(name,city_name)] = img.gt(int(threshold)).clip(city_geo)\n",
    "            # report process\n",
    "            print(f'The threshold of {name}_{city_name}_{future_year} is {threshold}')\n",
    "            \n",
    "# ______________________________put hard-classified unet_img to a df________________________________________\n",
    "unet_img_hard_classified_df = pd.DataFrame({k:[v] for (k,v) in unet_img_hard_classified.items()}).T\n",
    "unet_img_hard_classified_df = unet_img_hard_classified_df.reset_index()\n",
    "unet_img_hard_classified_df.columns = ['type','city','image']"
   ]
  },
  {
   "cell_type": "code",
   "execution_count": null,
   "id": "830f8562",
   "metadata": {},
   "outputs": [],
   "source": []
  },
  {
   "cell_type": "code",
   "execution_count": null,
   "id": "c78b5fa6",
   "metadata": {},
   "outputs": [],
   "source": []
  },
  {
   "cell_type": "code",
   "execution_count": 16,
   "id": "de102772",
   "metadata": {
    "scrolled": true
   },
   "outputs": [],
   "source": [
    "# save and read unet_img_hard_classified_df\n",
    "if not Future:\n",
    "    # unet_img_hard_classified_df.to_pickle(f'./Variables/unet_img_hard_classified_df_{base_year}_{target_year}.pkl')\n",
    "    unet_img_hard_classified_df = pd.read_pickle(f'./Variables/unet_img_hard_classified_df_{base_year}_{target_year}.pkl')\n",
    "else:\n",
    "    #unet_img_hard_classified_df.to_pickle(f'./Variables/unet_img_hard_classified_df_{start_year}_to_future.pkl')\n",
    "    unet_img_hard_classified_df = pd.read_pickle(f'./Variables/unet_img_hard_classified_df_{start_year}_to_future.pkl')"
   ]
  },
  {
   "cell_type": "code",
   "execution_count": null,
   "id": "e4ec96fc",
   "metadata": {},
   "outputs": [],
   "source": []
  },
  {
   "cell_type": "markdown",
   "id": "93176654",
   "metadata": {},
   "source": [
    "##### Export imgs as seperate city img"
   ]
  },
  {
   "cell_type": "code",
   "execution_count": null,
   "id": "70297b4f",
   "metadata": {},
   "outputs": [],
   "source": []
  },
  {
   "cell_type": "code",
   "execution_count": 12,
   "id": "13829ae2",
   "metadata": {
    "scrolled": true
   },
   "outputs": [
    {
     "name": "stdout",
     "output_type": "stream",
     "text": [
      "Export no_distance_su_zhou_shi_2005_2007_2017_2019_hard_reclass to Drive\n",
      "Export no_distance_zi_bo_shi_2005_2007_2017_2019_hard_reclass to Drive\n",
      "Export no_distance_huai_bei_shi_2005_2007_2017_2019_hard_reclass to Drive\n",
      "Export no_distance_huai_nan_shi_2005_2007_2017_2019_hard_reclass to Drive\n",
      "Export no_distance_huai_an_shi_2005_2007_2017_2019_hard_reclass to Drive\n",
      "Export no_distance_chu_zhou_shi_2005_2007_2017_2019_hard_reclass to Drive\n",
      "Export no_distance_bin_zhou_shi_2005_2007_2017_2019_hard_reclass to Drive\n",
      "Export no_distance_ta_he_shi_2005_2007_2017_2019_hard_reclass to Drive\n",
      "Export no_distance_wei_fang_shi_2005_2007_2017_2019_hard_reclass to Drive\n",
      "Export no_distance_pu_yang_shi_2005_2007_2017_2019_hard_reclass to Drive\n",
      "Export no_distance_yan_tai_shi_2005_2007_2017_2019_hard_reclass to Drive\n",
      "Export no_distance_jiao_zuo_shi_2005_2007_2017_2019_hard_reclass to Drive\n",
      "Export no_distance_yan_cheng_shi_2005_2007_2017_2019_hard_reclass to Drive\n",
      "Export no_distance_shi_jia_zhuang_shi_2005_2007_2017_2019_hard_reclass to Drive\n",
      "Export no_distance_qin_huang_dao_shi_2005_2007_2017_2019_hard_reclass to Drive\n",
      "Export no_distance_liao_cheng_shi_2005_2007_2017_2019_hard_reclass to Drive\n",
      "Export no_distance_wu_hu_shi_2005_2007_2017_2019_hard_reclass to Drive\n",
      "Export no_distance_su_zhou_shi_2005_2007_2017_2019_hard_reclass to Drive\n",
      "Export no_distance_he_ze_shi_2005_2007_2017_2019_hard_reclass to Drive\n",
      "Export no_distance_lai_wu_shi_2005_2007_2017_2019_hard_reclass to Drive\n",
      "Export no_distance_bang_bu_shi_2005_2007_2017_2019_hard_reclass to Drive\n",
      "Export no_distance_heng_shui_shi_2005_2007_2017_2019_hard_reclass to Drive\n",
      "Export no_distance_xu_chang_shi_2005_2007_2017_2019_hard_reclass to Drive\n",
      "Export no_distance_lian_yun_gang_shi_2005_2007_2017_2019_hard_reclass to Drive\n",
      "Export no_distance_xing_tai_shi_2005_2007_2017_2019_hard_reclass to Drive\n",
      "Export no_distance_han_dan_shi_2005_2007_2017_2019_hard_reclass to Drive\n",
      "Export no_distance_zheng_zhou_shi_2005_2007_2017_2019_hard_reclass to Drive\n",
      "Export no_distance_tong_ling_shi_2005_2007_2017_2019_hard_reclass to Drive\n",
      "Export no_distance_zhen_jiang_shi_2005_2007_2017_2019_hard_reclass to Drive\n",
      "Export no_distance_fu_yang_shi_2005_2007_2017_2019_hard_reclass to Drive\n",
      "Export no_distance_qing_dao_shi_2005_2007_2017_2019_hard_reclass to Drive\n",
      "Export no_distance_ma_an_shan_shi_2005_2007_2017_2019_hard_reclass to Drive\n",
      "Export no_distance_zhu_ma_dian_shi_2005_2007_2017_2019_hard_reclass to Drive\n",
      "Export no_distance_he_bi_shi_2005_2007_2017_2019_hard_reclass to Drive\n",
      "Export no_distance_huang_shan_shi_2005_2007_2017_2019_hard_reclass to Drive\n",
      "Export no_distance_san_men_xia_shi_2005_2007_2017_2019_hard_reclass to Drive\n",
      "Export no_distance_dong_ying_shi_2005_2007_2017_2019_hard_reclass to Drive\n",
      "Export no_distance_lin_yi_shi_2005_2007_2017_2019_hard_reclass to Drive\n",
      "Export no_distance_bo_zhou_shi_2005_2007_2017_2019_hard_reclass to Drive\n",
      "Export no_distance_bao_ding_shi_2005_2007_2017_2019_hard_reclass to Drive\n",
      "Export no_distance_xin_yang_shi_2005_2007_2017_2019_hard_reclass to Drive\n",
      "Export no_distance_liu_an_shi_2005_2007_2017_2019_hard_reclass to Drive\n",
      "Export no_distance_bei_jing_shi_2005_2007_2017_2019_hard_reclass to Drive\n",
      "Export no_distance_nan_jing_shi_2005_2007_2017_2019_hard_reclass to Drive\n",
      "Export no_distance_nan_tong_shi_2005_2007_2017_2019_hard_reclass to Drive\n",
      "Export no_distance_nan_yang_shi_2005_2007_2017_2019_hard_reclass to Drive\n",
      "Export no_distance_he_fei_shi_2005_2007_2017_2019_hard_reclass to Drive\n",
      "Export no_distance_zhou_kou_shi_2005_2007_2017_2019_hard_reclass to Drive\n",
      "Export no_distance_tang_shan_shi_2005_2007_2017_2019_hard_reclass to Drive\n",
      "Export no_distance_shang_qiu_shi_2005_2007_2017_2019_hard_reclass to Drive\n",
      "Export no_distance_tian_jin_shi_2005_2007_2017_2019_hard_reclass to Drive\n",
      "Export no_distance_wei_hai_shi_2005_2007_2017_2019_hard_reclass to Drive\n",
      "Export no_distance_an_qing_shi_2005_2007_2017_2019_hard_reclass to Drive\n",
      "Export no_distance_an_yang_shi_2005_2007_2017_2019_hard_reclass to Drive\n",
      "Export no_distance_xuan_cheng_shi_2005_2007_2017_2019_hard_reclass to Drive\n",
      "Export no_distance_su_qian_shi_2005_2007_2017_2019_hard_reclass to Drive\n",
      "Export no_distance_chang_zhou_shi_2005_2007_2017_2019_hard_reclass to Drive\n",
      "Export no_distance_ping_ding_shan_shi_2005_2007_2017_2019_hard_reclass to Drive\n",
      "Export no_distance_lang_fang_shi_2005_2007_2017_2019_hard_reclass to Drive\n",
      "Export no_distance_kai_feng_shi_2005_2007_2017_2019_hard_reclass to Drive\n",
      "Export no_distance_zhang_jia_kou_shi_2005_2007_2017_2019_hard_reclass to Drive\n",
      "Export no_distance_xu_zhou_shi_2005_2007_2017_2019_hard_reclass to Drive\n",
      "Export no_distance_de_zhou_shi_2005_2007_2017_2019_hard_reclass to Drive\n",
      "Export no_distance_yang_zhou_shi_2005_2007_2017_2019_hard_reclass to Drive\n",
      "Export no_distance_cheng_de_shi_2005_2007_2017_2019_hard_reclass to Drive\n",
      "Export no_distance_xin_xiang_shi_2005_2007_2017_2019_hard_reclass to Drive\n",
      "Export no_distance_wu_xi_shi_2005_2007_2017_2019_hard_reclass to Drive\n",
      "Export no_distance_ri_zhao_shi_2005_2007_2017_2019_hard_reclass to Drive\n",
      "Export no_distance_zao_zhuang_shi_2005_2007_2017_2019_hard_reclass to Drive\n",
      "Export no_distance_chi_zhou_shi_2005_2007_2017_2019_hard_reclass to Drive\n",
      "Export no_distance_cang_zhou_shi_2005_2007_2017_2019_hard_reclass to Drive\n",
      "Export no_distance_tai_an_shi_2005_2007_2017_2019_hard_reclass to Drive\n",
      "Export no_distance_tai_zhou_shi_2005_2007_2017_2019_hard_reclass to Drive\n",
      "Export no_distance_luo_yang_shi_2005_2007_2017_2019_hard_reclass to Drive\n",
      "Export no_distance_ji_nan_shi_2005_2007_2017_2019_hard_reclass to Drive\n",
      "Export no_distance_ji_ning_shi_2005_2007_2017_2019_hard_reclass to Drive\n"
     ]
    }
   ],
   "source": [
    "#  export img_city to Drive\n",
    "for idx,row in unet_img_hard_classified_df.iterrows():\n",
    "    \n",
    "    # get parameters\n",
    "    img_type = row['type']\n",
    "    city_name_cn = row['city']\n",
    "    city_name_py = Pinyin().get_pinyin(city_name_cn,splitter='_')\n",
    "    city_img = row['image']\n",
    "    city_geo = region_cities.filterMetadata('CityNameC','equals',city_name_cn)\n",
    "    \n",
    "    # export each of the city image\n",
    "    task = ee.batch.Export.image.toDrive(image = city_img.clip(city_geo),\n",
    "                                        description=f'Export {img_type}_{city_name_py}_{base_year}_{target_year}_hard_reclass to Drive',\n",
    "                                        folder='urban_projection_result_imgs_cities',\n",
    "                                        fileNamePrefix=f'{img_type}_{city_name_py}_{base_year}_{target_year}_hard_reclass',\n",
    "                                        region=city_geo.geometry(),\n",
    "                                        scale=30,\n",
    "                                        maxPixels=int(1e13),\n",
    "                                        skipEmptyTiles=True)\n",
    "    task.start()\n",
    "    \n",
    "    # report the process\n",
    "    print(f'Export {img_type}_{city_name_py}_{base_year}_{target_year}_hard_reclass to Drive')"
   ]
  },
  {
   "cell_type": "code",
   "execution_count": null,
   "id": "4f943f8c",
   "metadata": {},
   "outputs": [],
   "source": []
  },
  {
   "cell_type": "code",
   "execution_count": null,
   "id": "c9b128a6",
   "metadata": {},
   "outputs": [],
   "source": []
  },
  {
   "cell_type": "markdown",
   "id": "74559d90",
   "metadata": {},
   "source": [
    "##### Mosaic the img and then export"
   ]
  },
  {
   "cell_type": "code",
   "execution_count": 34,
   "id": "bd01f1ba",
   "metadata": {},
   "outputs": [
    {
     "name": "stdout",
     "output_type": "stream",
     "text": [
      "Export to_future_2017_2019_to_future to Drive to Drive\n"
     ]
    }
   ],
   "source": [
    "# export img to Drive\n",
    "for img_type in unet_img_hard_classified_df['type'].unique():\n",
    "    # get imgs and convet them into one mosaiced img\n",
    "    imgs = unet_img_hard_classified_df[unet_img_hard_classified_df['type']==img_type]['image'].values.tolist()    \n",
    "    \n",
    "    if not Future:\n",
    "        desc = f'{img_type}_{target_year}_hard_reclass to Drive'\n",
    "        imgs_mosaic = ee.ImageCollection(imgs).mosaic()\n",
    "    else:\n",
    "        desc = f'{img_type}_{start_year}_to_future to Drive'\n",
    "        imgs_mosaic = ee.ImageCollection(imgs).mosaic().toInt8()\n",
    "    \n",
    "    # create a task to export the image\n",
    "    task = ee.batch.Export.image.toDrive(image = imgs_mosaic,\n",
    "                                        description=f'Export {desc}',\n",
    "                                        folder='urban_projection_result_imgs',\n",
    "                                        fileNamePrefix=desc,\n",
    "                                        region=region.geometry().convexHull(),\n",
    "                                        scale=30,\n",
    "                                        maxPixels=int(1e13),\n",
    "                                        skipEmptyTiles=True)\n",
    "    task.start()\n",
    "    \n",
    "    # report the process\n",
    "    print(f'Export {desc} to Drive')"
   ]
  },
  {
   "cell_type": "code",
   "execution_count": null,
   "id": "7ab37f60",
   "metadata": {},
   "outputs": [],
   "source": []
  },
  {
   "cell_type": "code",
   "execution_count": null,
   "id": "ae7280ad",
   "metadata": {},
   "outputs": [],
   "source": []
  },
  {
   "cell_type": "markdown",
   "id": "85a0dc9e",
   "metadata": {},
   "source": [
    "### Compute the accuracy metrics| Note, cant get accuracy metrics for a future prediction"
   ]
  },
  {
   "cell_type": "code",
   "execution_count": 17,
   "id": "f9cfe641",
   "metadata": {},
   "outputs": [
    {
     "data": {
      "text/html": [
       "<div>\n",
       "<style scoped>\n",
       "    .dataframe tbody tr th:only-of-type {\n",
       "        vertical-align: middle;\n",
       "    }\n",
       "\n",
       "    .dataframe tbody tr th {\n",
       "        vertical-align: top;\n",
       "    }\n",
       "\n",
       "    .dataframe thead th {\n",
       "        text-align: right;\n",
       "    }\n",
       "</style>\n",
       "<table border=\"1\" class=\"dataframe\">\n",
       "  <thead>\n",
       "    <tr style=\"text-align: right;\">\n",
       "      <th></th>\n",
       "      <th>type</th>\n",
       "      <th>city</th>\n",
       "      <th>image</th>\n",
       "    </tr>\n",
       "  </thead>\n",
       "  <tbody>\n",
       "    <tr>\n",
       "      <th>0</th>\n",
       "      <td>no_distance</td>\n",
       "      <td>宿州市</td>\n",
       "      <td>ee.Image({\\n  \"functionInvocationValue\": {\\n  ...</td>\n",
       "    </tr>\n",
       "    <tr>\n",
       "      <th>1</th>\n",
       "      <td>no_distance</td>\n",
       "      <td>淄博市</td>\n",
       "      <td>ee.Image({\\n  \"functionInvocationValue\": {\\n  ...</td>\n",
       "    </tr>\n",
       "    <tr>\n",
       "      <th>2</th>\n",
       "      <td>no_distance</td>\n",
       "      <td>淮北市</td>\n",
       "      <td>ee.Image({\\n  \"functionInvocationValue\": {\\n  ...</td>\n",
       "    </tr>\n",
       "    <tr>\n",
       "      <th>3</th>\n",
       "      <td>no_distance</td>\n",
       "      <td>淮南市</td>\n",
       "      <td>ee.Image({\\n  \"functionInvocationValue\": {\\n  ...</td>\n",
       "    </tr>\n",
       "    <tr>\n",
       "      <th>4</th>\n",
       "      <td>no_distance</td>\n",
       "      <td>淮安市</td>\n",
       "      <td>ee.Image({\\n  \"functionInvocationValue\": {\\n  ...</td>\n",
       "    </tr>\n",
       "    <tr>\n",
       "      <th>...</th>\n",
       "      <td>...</td>\n",
       "      <td>...</td>\n",
       "      <td>...</td>\n",
       "    </tr>\n",
       "    <tr>\n",
       "      <th>71</th>\n",
       "      <td>no_distance</td>\n",
       "      <td>泰安市</td>\n",
       "      <td>ee.Image({\\n  \"functionInvocationValue\": {\\n  ...</td>\n",
       "    </tr>\n",
       "    <tr>\n",
       "      <th>72</th>\n",
       "      <td>no_distance</td>\n",
       "      <td>泰州市</td>\n",
       "      <td>ee.Image({\\n  \"functionInvocationValue\": {\\n  ...</td>\n",
       "    </tr>\n",
       "    <tr>\n",
       "      <th>73</th>\n",
       "      <td>no_distance</td>\n",
       "      <td>洛阳市</td>\n",
       "      <td>ee.Image({\\n  \"functionInvocationValue\": {\\n  ...</td>\n",
       "    </tr>\n",
       "    <tr>\n",
       "      <th>74</th>\n",
       "      <td>no_distance</td>\n",
       "      <td>济南市</td>\n",
       "      <td>ee.Image({\\n  \"functionInvocationValue\": {\\n  ...</td>\n",
       "    </tr>\n",
       "    <tr>\n",
       "      <th>75</th>\n",
       "      <td>no_distance</td>\n",
       "      <td>济宁市</td>\n",
       "      <td>ee.Image({\\n  \"functionInvocationValue\": {\\n  ...</td>\n",
       "    </tr>\n",
       "  </tbody>\n",
       "</table>\n",
       "<p>76 rows × 3 columns</p>\n",
       "</div>"
      ],
      "text/plain": [
       "           type city                                              image\n",
       "0   no_distance  宿州市  ee.Image({\\n  \"functionInvocationValue\": {\\n  ...\n",
       "1   no_distance  淄博市  ee.Image({\\n  \"functionInvocationValue\": {\\n  ...\n",
       "2   no_distance  淮北市  ee.Image({\\n  \"functionInvocationValue\": {\\n  ...\n",
       "3   no_distance  淮南市  ee.Image({\\n  \"functionInvocationValue\": {\\n  ...\n",
       "4   no_distance  淮安市  ee.Image({\\n  \"functionInvocationValue\": {\\n  ...\n",
       "..          ...  ...                                                ...\n",
       "71  no_distance  泰安市  ee.Image({\\n  \"functionInvocationValue\": {\\n  ...\n",
       "72  no_distance  泰州市  ee.Image({\\n  \"functionInvocationValue\": {\\n  ...\n",
       "73  no_distance  洛阳市  ee.Image({\\n  \"functionInvocationValue\": {\\n  ...\n",
       "74  no_distance  济南市  ee.Image({\\n  \"functionInvocationValue\": {\\n  ...\n",
       "75  no_distance  济宁市  ee.Image({\\n  \"functionInvocationValue\": {\\n  ...\n",
       "\n",
       "[76 rows x 3 columns]"
      ]
     },
     "execution_count": 17,
     "metadata": {},
     "output_type": "execute_result"
    }
   ],
   "source": [
    "unet_img_hard_classified_df"
   ]
  },
  {
   "cell_type": "code",
   "execution_count": null,
   "id": "ccb150d2",
   "metadata": {},
   "outputs": [],
   "source": []
  },
  {
   "cell_type": "code",
   "execution_count": null,
   "id": "6cd35325",
   "metadata": {},
   "outputs": [],
   "source": []
  },
  {
   "cell_type": "code",
   "execution_count": 18,
   "id": "4c31b43e",
   "metadata": {},
   "outputs": [],
   "source": [
    "def compute_AUC(prob_img,city_geo):\n",
    "    \n",
    "    # stack trum img with transition potential img, then mask the stack using base_img.Not()\n",
    "    true_pred_img = target_img.rename('true').addBands(prob_img.rename('pred')).mask(base_img.Not())\n",
    "    \n",
    "    # ramdonly spred 5k points to the city,extrat values and send back to stats\n",
    "    stats = true_pred_img.sample(region=city_geo,scale=30,numPixels=5000,seed=0).getInfo()\n",
    "    df = pd.DataFrame([i['properties'] for i in stats['features']])\n",
    "\n",
    "    fpr, tpr, thresholds = metrics.roc_curve(df['true'], df['pred'])\n",
    "    auc = metrics.auc(fpr, tpr)\n",
    "    \n",
    "    return auc"
   ]
  },
  {
   "cell_type": "code",
   "execution_count": null,
   "id": "8c967536",
   "metadata": {},
   "outputs": [],
   "source": []
  },
  {
   "cell_type": "code",
   "execution_count": 19,
   "id": "1706e775",
   "metadata": {},
   "outputs": [],
   "source": [
    "def compute_Prod_User_Acc(pred_img_city,city_geo):\n",
    "    \n",
    "    # get the base img in the given city\n",
    "    base_img_city = base_img.clip(city_geo)\n",
    "    \n",
    "    # sum the pred img with real img, so we can get the transition matrics\n",
    "    sum_img = pred_img_city.multiply(10).add(target_img).mask(base_img_city.Not())\n",
    "    \n",
    "    # get stats from GEE\n",
    "    hist = sum_img.reduceRegion(reducer = ee.Reducer.frequencyHistogram(),\n",
    "                      geometry = city_geo.bounds(),\n",
    "                      scale=30,\n",
    "                      maxPixels = int(1e13)).getInfo()['b1']\n",
    "    \n",
    "    # impute the acc\n",
    "    producer_acc = hist['11']/(hist['11']+hist['1'])\n",
    "    user_acc = hist['11']/(hist['11']+hist['10'])    \n",
    "    \n",
    "    return producer_acc,user_acc"
   ]
  },
  {
   "cell_type": "code",
   "execution_count": null,
   "id": "792bc76d",
   "metadata": {},
   "outputs": [],
   "source": []
  },
  {
   "cell_type": "code",
   "execution_count": 21,
   "id": "16a33119",
   "metadata": {},
   "outputs": [],
   "source": [
    "# function to sum all pixel values\n",
    "def compute_the_sum(img,geometry):\n",
    "    count_num = img.reduceRegion(reducer = 'sum',\n",
    "                      geometry = geometry.bounds(),\n",
    "                      scale=30,\n",
    "                      maxPixels = int(1e13)).getInfo()['b1']\n",
    "    return count_num\n",
    "\n",
    "# function to compute FoM (Figure of Merit)\n",
    "def compute_FoM_Hits(unet_img,city_geo):\n",
    "    \n",
    "    # get the img in the specific city\n",
    "    real_img = target_img.clip(city_geo)\n",
    "    start_img = base_img.clip(city_geo)\n",
    "    pred_img = unet_img.clip(city_geo) \n",
    "    \n",
    "    # get the change type\n",
    "    Real_change = real_img.neq(start_img)\n",
    "    Pred_change = pred_img.neq(start_img)\n",
    "    \n",
    "    # get the Stats\n",
    "    FoM = compute_the_sum(Real_change.And(Pred_change),city_geo)/compute_the_sum(Real_change.Or(Pred_change),city_geo)\n",
    "    Hits = compute_the_sum(Real_change.And(Pred_change),city_geo)/compute_the_sum(Pred_change,city_geo)\n",
    "    Change_ratio = compute_the_sum(Real_change,city_geo)/compute_the_sum(base_img,city_geo)\n",
    "    \n",
    "    return FoM,Hits,Change_ratio"
   ]
  },
  {
   "cell_type": "code",
   "execution_count": null,
   "id": "7f1ba561",
   "metadata": {},
   "outputs": [],
   "source": []
  },
  {
   "cell_type": "code",
   "execution_count": 26,
   "id": "cd982f09",
   "metadata": {},
   "outputs": [],
   "source": [
    "def compute_Overall_ACC(real_img,pred_img,city_geo):\n",
    "    \n",
    "    #________________________Compute the Overall Accuracy_________________________________\n",
    "    \n",
    "    total_pixel = compute_the_sum(real_img.updateMask(base_img.Not()).gt(-1).clip(city_geo),city_geo)\n",
    "    correct_pixel =  compute_the_sum(real_img.updateMask(base_img.Not()).eq(pred_img).clip(city_geo),city_geo)\n",
    "    \n",
    "    # compute the overal accuracy\n",
    "    overall_acc = correct_pixel/total_pixel \n",
    "    \n",
    "    return overall_acc"
   ]
  },
  {
   "cell_type": "code",
   "execution_count": null,
   "id": "a319ed78",
   "metadata": {},
   "outputs": [],
   "source": []
  },
  {
   "cell_type": "code",
   "execution_count": 27,
   "id": "c1c0671c",
   "metadata": {
    "scrolled": true
   },
   "outputs": [
    {
     "name": "stdout",
     "output_type": "stream",
     "text": [
      "su_zhou_shi_2005_2007_2017_2019     | AUC:0.7998 | FoM:0.1953 | Change_ratio:0.1913 | Overal_Acc:0.9047 | Hits:0.3269\n",
      "zi_bo_shi_2005_2007_2017_2019       | AUC:0.8485 | FoM:0.1803 | Change_ratio:0.2634 | Overal_Acc:0.9023 | Hits:0.3056\n",
      "huai_bei_shi_2005_2007_2017_2019    | AUC:0.8136 | FoM:0.1929 | Change_ratio:0.2374 | Overal_Acc:0.8932 | Hits:0.3235\n",
      "huai_nan_shi_2005_2007_2017_2019    | AUC:0.7752 | FoM:0.1605 | Change_ratio:0.3097 | Overal_Acc:0.8850 | Hits:0.2766\n",
      "huai_an_shi_2005_2007_2017_2019     | AUC:0.8403 | FoM:0.2337 | Change_ratio:0.5733 | Overal_Acc:0.9110 | Hits:0.3790\n",
      "chu_zhou_shi_2005_2007_2017_2019    | AUC:0.7621 | FoM:0.1822 | Change_ratio:0.3461 | Overal_Acc:0.9059 | Hits:0.3084\n",
      "bin_zhou_shi_2005_2007_2017_2019    | AUC:0.7759 | FoM:0.1666 | Change_ratio:0.2402 | Overal_Acc:0.9150 | Hits:0.2857\n",
      "ta_he_shi_2005_2007_2017_2019       | AUC:0.8380 | FoM:0.2152 | Change_ratio:0.2424 | Overal_Acc:0.9273 | Hits:0.3542\n",
      "wei_fang_shi_2005_2007_2017_2019    | AUC:0.7834 | FoM:0.1891 | Change_ratio:0.5116 | Overal_Acc:0.8878 | Hits:0.3181\n",
      "pu_yang_shi_2005_2007_2017_2019     | AUC:0.7475 | FoM:0.1831 | Change_ratio:0.2137 | Overal_Acc:0.8905 | Hits:0.3095\n",
      "yan_tai_shi_2005_2007_2017_2019     | AUC:0.8285 | FoM:0.2103 | Change_ratio:0.5003 | Overal_Acc:0.9353 | Hits:0.3476\n",
      "jiao_zuo_shi_2005_2007_2017_2019    | AUC:0.8305 | FoM:0.2038 | Change_ratio:0.3760 | Overal_Acc:0.9110 | Hits:0.3387\n",
      "yan_cheng_shi_2005_2007_2017_2019   | AUC:0.7769 | FoM:0.1899 | Change_ratio:1.0401 | Overal_Acc:0.8935 | Hits:0.3193\n",
      "shi_jia_zhuang_shi_2005_2007_2017_2019 | AUC:0.8227 | FoM:0.1651 | Change_ratio:0.3154 | Overal_Acc:0.9314 | Hits:0.2834\n",
      "qin_huang_dao_shi_2005_2007_2017_2019 | AUC:0.8999 | FoM:0.2560 | Change_ratio:0.6631 | Overal_Acc:0.9482 | Hits:0.4078\n",
      "liao_cheng_shi_2005_2007_2017_2019  | AUC:0.7715 | FoM:0.1761 | Change_ratio:0.2892 | Overal_Acc:0.9007 | Hits:0.2995\n",
      "wu_hu_shi_2005_2007_2017_2019       | AUC:0.7644 | FoM:0.1926 | Change_ratio:0.5864 | Overal_Acc:0.8885 | Hits:0.3231\n",
      "su_zhou_shi_2005_2007_2017_2019     | AUC:0.8050 | FoM:0.1760 | Change_ratio:0.2829 | Overal_Acc:0.8437 | Hits:0.2994\n",
      "he_ze_shi_2005_2007_2017_2019       | AUC:0.7926 | FoM:0.1830 | Change_ratio:0.2829 | Overal_Acc:0.8907 | Hits:0.3095\n",
      "lai_wu_shi_2005_2007_2017_2019      | AUC:0.8528 | FoM:0.1972 | Change_ratio:0.6279 | Overal_Acc:0.9035 | Hits:0.3295\n",
      "bang_bu_shi_2005_2007_2017_2019     | AUC:0.7567 | FoM:0.1940 | Change_ratio:0.4111 | Overal_Acc:0.9087 | Hits:0.3251\n",
      "heng_shui_shi_2005_2007_2017_2019   | AUC:0.8270 | FoM:0.1807 | Change_ratio:0.2133 | Overal_Acc:0.9430 | Hits:0.3062\n",
      "xu_chang_shi_2005_2007_2017_2019    | AUC:0.7932 | FoM:0.2201 | Change_ratio:0.3620 | Overal_Acc:0.8802 | Hits:0.3609\n",
      "lian_yun_gang_shi_2005_2007_2017_2019 | AUC:0.7966 | FoM:0.2148 | Change_ratio:0.4045 | Overal_Acc:0.9047 | Hits:0.3537\n",
      "xing_tai_shi_2005_2007_2017_2019    | AUC:0.8185 | FoM:0.1961 | Change_ratio:0.3615 | Overal_Acc:0.9265 | Hits:0.3280\n",
      "han_dan_shi_2005_2007_2017_2019     | AUC:0.8130 | FoM:0.2051 | Change_ratio:0.3941 | Overal_Acc:0.9176 | Hits:0.3405\n",
      "zheng_zhou_shi_2005_2007_2017_2019  | AUC:0.7912 | FoM:0.2754 | Change_ratio:0.6696 | Overal_Acc:0.7989 | Hits:0.4319\n",
      "tong_ling_shi_2005_2007_2017_2019   | AUC:0.8222 | FoM:0.1983 | Change_ratio:0.5774 | Overal_Acc:0.8825 | Hits:0.3310\n",
      "zhen_jiang_shi_2005_2007_2017_2019  | AUC:0.7624 | FoM:0.2243 | Change_ratio:0.4310 | Overal_Acc:0.8290 | Hits:0.3664\n",
      "fu_yang_shi_2005_2007_2017_2019     | AUC:0.7537 | FoM:0.1982 | Change_ratio:0.3903 | Overal_Acc:0.8470 | Hits:0.3309\n",
      "qing_dao_shi_2005_2007_2017_2019    | AUC:0.8367 | FoM:0.2310 | Change_ratio:0.4837 | Overal_Acc:0.9006 | Hits:0.3754\n",
      "ma_an_shan_shi_2005_2007_2017_2019  | AUC:0.7916 | FoM:0.2224 | Change_ratio:0.4409 | Overal_Acc:0.8792 | Hits:0.3640\n",
      "zhu_ma_dian_shi_2005_2007_2017_2019 | AUC:0.8085 | FoM:0.1824 | Change_ratio:0.4338 | Overal_Acc:0.9071 | Hits:0.3087\n",
      "he_bi_shi_2005_2007_2017_2019       | AUC:0.8076 | FoM:0.1586 | Change_ratio:0.2386 | Overal_Acc:0.9231 | Hits:0.2738\n",
      "huang_shan_shi_2005_2007_2017_2019  | AUC:0.9458 | FoM:0.2149 | Change_ratio:0.8341 | Overal_Acc:0.9773 | Hits:0.3537\n",
      "san_men_xia_shi_2005_2007_2017_2019 | AUC:0.9570 | FoM:0.2389 | Change_ratio:1.4811 | Overal_Acc:0.9778 | Hits:0.3857\n",
      "dong_ying_shi_2005_2007_2017_2019   | AUC:0.7701 | FoM:0.1907 | Change_ratio:0.6372 | Overal_Acc:0.8744 | Hits:0.3205\n",
      "lin_yi_shi_2005_2007_2017_2019      | AUC:0.8324 | FoM:0.2416 | Change_ratio:0.4123 | Overal_Acc:0.9021 | Hits:0.3893\n",
      "bo_zhou_shi_2005_2007_2017_2019     | AUC:0.7568 | FoM:0.1440 | Change_ratio:0.2859 | Overal_Acc:0.9034 | Hits:0.2518\n",
      "bao_ding_shi_2005_2007_2017_2019    | AUC:0.8534 | FoM:0.1769 | Change_ratio:0.3012 | Overal_Acc:0.9477 | Hits:0.3006\n",
      "xin_yang_shi_2005_2007_2017_2019    | AUC:0.8063 | FoM:0.1377 | Change_ratio:0.4512 | Overal_Acc:0.9412 | Hits:0.2421\n",
      "liu_an_shi_2005_2007_2017_2019      | AUC:0.8386 | FoM:0.1594 | Change_ratio:0.3303 | Overal_Acc:0.9388 | Hits:0.2750\n",
      "bei_jing_shi_2005_2007_2017_2019    | AUC:0.8789 | FoM:0.1478 | Change_ratio:0.3503 | Overal_Acc:0.9327 | Hits:0.2576\n",
      "nan_jing_shi_2005_2007_2017_2019    | AUC:0.7479 | FoM:0.2256 | Change_ratio:0.5536 | Overal_Acc:0.8143 | Hits:0.3682\n",
      "nan_tong_shi_2005_2007_2017_2019    | AUC:0.6976 | FoM:0.1771 | Change_ratio:0.5843 | Overal_Acc:0.8068 | Hits:0.3010\n",
      "nan_yang_shi_2005_2007_2017_2019    | AUC:0.8175 | FoM:0.1678 | Change_ratio:0.6950 | Overal_Acc:0.9196 | Hits:0.2875\n",
      "he_fei_shi_2005_2007_2017_2019      | AUC:0.7519 | FoM:0.2215 | Change_ratio:0.7633 | Overal_Acc:0.8275 | Hits:0.3628\n",
      "zhou_kou_shi_2005_2007_2017_2019    | AUC:0.8207 | FoM:0.1761 | Change_ratio:0.2127 | Overal_Acc:0.9294 | Hits:0.2995\n",
      "tang_shan_shi_2005_2007_2017_2019   | AUC:0.7838 | FoM:0.2140 | Change_ratio:0.6644 | Overal_Acc:0.9098 | Hits:0.3526\n",
      "shang_qiu_shi_2005_2007_2017_2019   | AUC:0.7938 | FoM:0.1991 | Change_ratio:0.2474 | Overal_Acc:0.9001 | Hits:0.3322\n",
      "tian_jin_shi_2005_2007_2017_2019    | AUC:0.7557 | FoM:0.2004 | Change_ratio:0.5198 | Overal_Acc:0.8664 | Hits:0.3339\n",
      "wei_hai_shi_2005_2007_2017_2019     | AUC:0.8229 | FoM:0.1990 | Change_ratio:0.6261 | Overal_Acc:0.9203 | Hits:0.3320\n",
      "an_qing_shi_2005_2007_2017_2019     | AUC:0.8580 | FoM:0.1786 | Change_ratio:0.6836 | Overal_Acc:0.9385 | Hits:0.3032\n",
      "an_yang_shi_2005_2007_2017_2019     | AUC:0.8493 | FoM:0.1982 | Change_ratio:0.2156 | Overal_Acc:0.9297 | Hits:0.3309\n",
      "xuan_cheng_shi_2005_2007_2017_2019  | AUC:0.8516 | FoM:0.1869 | Change_ratio:0.6591 | Overal_Acc:0.9527 | Hits:0.3151\n",
      "su_qian_shi_2005_2007_2017_2019     | AUC:0.8166 | FoM:0.2104 | Change_ratio:0.5028 | Overal_Acc:0.8935 | Hits:0.3478\n",
      "chang_zhou_shi_2005_2007_2017_2019  | AUC:0.7548 | FoM:0.1737 | Change_ratio:0.3304 | Overal_Acc:0.8326 | Hits:0.2961\n",
      "ping_ding_shan_shi_2005_2007_2017_2019 | AUC:0.8584 | FoM:0.1970 | Change_ratio:0.3405 | Overal_Acc:0.9237 | Hits:0.3293\n",
      "lang_fang_shi_2005_2007_2017_2019   | AUC:0.7890 | FoM:0.2131 | Change_ratio:0.2027 | Overal_Acc:0.8903 | Hits:0.3515\n",
      "kai_feng_shi_2005_2007_2017_2019    | AUC:0.7537 | FoM:0.2694 | Change_ratio:0.5341 | Overal_Acc:0.8248 | Hits:0.4245\n",
      "zhang_jia_kou_shi_2005_2007_2017_2019 | AUC:0.8923 | FoM:0.2354 | Change_ratio:1.0682 | Overal_Acc:0.9661 | Hits:0.3815\n",
      "xu_zhou_shi_2005_2007_2017_2019     | AUC:0.7815 | FoM:0.2340 | Change_ratio:0.2802 | Overal_Acc:0.8582 | Hits:0.3793\n",
      "de_zhou_shi_2005_2007_2017_2019     | AUC:0.8237 | FoM:0.1512 | Change_ratio:0.1225 | Overal_Acc:0.9412 | Hits:0.2628\n",
      "yang_zhou_shi_2005_2007_2017_2019   | AUC:0.8067 | FoM:0.2287 | Change_ratio:0.8119 | Overal_Acc:0.8737 | Hits:0.3723\n",
      "cheng_de_shi_2005_2007_2017_2019    | AUC:0.9556 | FoM:0.2067 | Change_ratio:1.3182 | Overal_Acc:0.9885 | Hits:0.3431\n",
      "xin_xiang_shi_2005_2007_2017_2019   | AUC:0.8059 | FoM:0.2005 | Change_ratio:0.2774 | Overal_Acc:0.9137 | Hits:0.3341\n",
      "wu_xi_shi_2005_2007_2017_2019       | AUC:0.7768 | FoM:0.1604 | Change_ratio:0.2249 | Overal_Acc:0.8351 | Hits:0.2765\n",
      "ri_zhao_shi_2005_2007_2017_2019     | AUC:0.8433 | FoM:0.2603 | Change_ratio:0.5679 | Overal_Acc:0.9007 | Hits:0.4131\n",
      "zao_zhuang_shi_2005_2007_2017_2019  | AUC:0.7787 | FoM:0.1770 | Change_ratio:0.2816 | Overal_Acc:0.8931 | Hits:0.3007\n",
      "chi_zhou_shi_2005_2007_2017_2019    | AUC:0.8652 | FoM:0.1829 | Change_ratio:0.4928 | Overal_Acc:0.9574 | Hits:0.3094\n"
     ]
    },
    {
     "name": "stdout",
     "output_type": "stream",
     "text": [
      "cang_zhou_shi_2005_2007_2017_2019   | AUC:0.7910 | FoM:0.1619 | Change_ratio:0.2181 | Overal_Acc:0.9315 | Hits:0.2788\n",
      "tai_an_shi_2005_2007_2017_2019      | AUC:0.7963 | FoM:0.1839 | Change_ratio:0.3401 | Overal_Acc:0.8949 | Hits:0.3107\n",
      "tai_zhou_shi_2005_2007_2017_2019    | AUC:0.7790 | FoM:0.2623 | Change_ratio:0.6139 | Overal_Acc:0.8316 | Hits:0.4157\n",
      "luo_yang_shi_2005_2007_2017_2019    | AUC:0.9108 | FoM:0.2089 | Change_ratio:0.4816 | Overal_Acc:0.9588 | Hits:0.3456\n",
      "ji_nan_shi_2005_2007_2017_2019      | AUC:0.8088 | FoM:0.1518 | Change_ratio:0.1513 | Overal_Acc:0.9211 | Hits:0.2637\n",
      "ji_ning_shi_2005_2007_2017_2019     | AUC:0.7991 | FoM:0.1697 | Change_ratio:0.1881 | Overal_Acc:0.9073 | Hits:0.2902\n"
     ]
    }
   ],
   "source": [
    "Acc_dict = {}\n",
    "\n",
    "for idx,row in unet_img_hard_classified_df.iterrows():\n",
    "    \n",
    "    # get parameters\n",
    "    img_type = row['type']\n",
    "    city_name_cn = row['city']\n",
    "    city_name_py = Pinyin().get_pinyin(city_name_cn,splitter='_')\n",
    "    city_img = row['image']\n",
    "    city_geo = region_cities.filterMetadata('CityNameC','equals',city_name_cn).geometry()\n",
    "    \n",
    "    # get the unet_img\n",
    "    prob_img = list(unet_imgs.values())[0]\n",
    "    \n",
    "    # compute metrics\n",
    "         \n",
    "    Overal_acc = compute_Overall_ACC(target_img,city_img,city_geo)\n",
    "    FoM,Hits,Change_ratio = compute_FoM_Hits(city_img,city_geo)\n",
    "    AUC = compute_AUC(prob_img,city_geo)\n",
    "#     Prod_acc,User_acc = compute_Prod_User_Acc(city_img,city_geo)\n",
    "    \n",
    "    # save metrics\n",
    "    Acc_dict[(img_type,city_name_py,'AUC')] = [AUC]\n",
    "    Acc_dict[(img_type,city_name_py,'FoM')] = [FoM]\n",
    "    Acc_dict[(img_type,city_name_py,'Change_ratio')] = [Change_ratio]\n",
    "    Acc_dict[(img_type,city_name_py,'Overal_Acc')] = [Overal_acc]\n",
    "    Acc_dict[(img_type,city_name_py,'Hits')] = [Hits]\n",
    "#     Acc_dict[(img_type,city_name_py,'Prod_ACC')] = [Prod_acc]\n",
    "#     Acc_dict[(img_type,city_name_py,'User_Acc')] = [User_acc]\n",
    "    \n",
    "    # report process\n",
    "    name = f'{city_name_py}_{base_year}_{target_year}'    \n",
    "    print(f'{name:<35} | AUC:{AUC:.4f} | FoM:{FoM:.4f} | Change_ratio:{Change_ratio:.4f} | Overal_Acc:{Overal_acc:.4f} | Hits:{Hits:.4f}')"
   ]
  },
  {
   "cell_type": "code",
   "execution_count": null,
   "id": "05e9f586",
   "metadata": {},
   "outputs": [],
   "source": []
  },
  {
   "cell_type": "code",
   "execution_count": null,
   "id": "551ab88a",
   "metadata": {},
   "outputs": [],
   "source": []
  },
  {
   "cell_type": "code",
   "execution_count": 28,
   "id": "b609e9d5",
   "metadata": {
    "scrolled": false
   },
   "outputs": [],
   "source": [
    "# save acc to disk\n",
    "Acc_df = pd.DataFrame(Acc_dict).T\n",
    "Acc_df = Acc_df.reset_index()\n",
    "Acc_df.columns = ['img_type','city','Acc_type','val']\n",
    "Acc_df['year'] = target_year"
   ]
  },
  {
   "cell_type": "code",
   "execution_count": null,
   "id": "005d7e13",
   "metadata": {},
   "outputs": [],
   "source": []
  },
  {
   "cell_type": "code",
   "execution_count": 29,
   "id": "581f4e61",
   "metadata": {},
   "outputs": [],
   "source": [
    "Acc_df_pivot = Acc_df.pivot_table(index=['img_type','city'],columns=['Acc_type'],values=['val','year']).reset_index()\n",
    "Acc_df_pivot.columns = ['img_type','city','AUC','Change_ratio','FoM','Hits','Overal_Acc']\n",
    "Acc_df_pivot.to_csv(f'./Variables/Acc_df_{base_year}_{target_year}.csv',index=False)"
   ]
  },
  {
   "cell_type": "code",
   "execution_count": null,
   "id": "b2c03d31",
   "metadata": {},
   "outputs": [],
   "source": []
  },
  {
   "cell_type": "code",
   "execution_count": 30,
   "id": "d139cd8b",
   "metadata": {},
   "outputs": [
    {
     "data": {
      "text/plain": [
       "<AxesSubplot:xlabel='Change_ratio', ylabel='FoM'>"
      ]
     },
     "execution_count": 30,
     "metadata": {},
     "output_type": "execute_result"
    },
    {
     "data": {
      "image/png": "[encoded data removed]",
      "text/plain": [
       "<Figure size 432x288 with 1 Axes>"
      ]
     },
     "metadata": {
      "needs_background": "light"
     },
     "output_type": "display_data"
    }
   ],
   "source": [
    "sns.regplot(data=Acc_df_pivot,x='Change_ratio',y='FoM')"
   ]
  },
  {
   "cell_type": "code",
   "execution_count": 31,
   "id": "ac275c98",
   "metadata": {},
   "outputs": [
    {
     "data": {
      "text/plain": [
       "<AxesSubplot:xlabel='Change_ratio', ylabel='AUC'>"
      ]
     },
     "execution_count": 31,
     "metadata": {},
     "output_type": "execute_result"
    },
    {
     "data": {
      "image/png": "[encoded data removed]",
      "text/plain": [
       "<Figure size 432x288 with 1 Axes>"
      ]
     },
     "metadata": {
      "needs_background": "light"
     },
     "output_type": "display_data"
    }
   ],
   "source": [
    "sns.regplot(data=Acc_df_pivot,x='Change_ratio',y='AUC')"
   ]
  },
  {
   "cell_type": "code",
   "execution_count": null,
   "id": "1c25957e",
   "metadata": {},
   "outputs": [],
   "source": []
  },
  {
   "cell_type": "code",
   "execution_count": null,
   "id": "20ae1a50",
   "metadata": {},
   "outputs": [],
   "source": []
  },
  {
   "cell_type": "code",
   "execution_count": null,
   "id": "5f516751",
   "metadata": {},
   "outputs": [],
   "source": []
  },
  {
   "cell_type": "code",
   "execution_count": null,
   "id": "b4212ac9",
   "metadata": {},
   "outputs": [],
   "source": []
  },
  {
   "cell_type": "code",
   "execution_count": null,
   "id": "d3a40709",
   "metadata": {},
   "outputs": [],
   "source": []
  },
  {
   "cell_type": "code",
   "execution_count": null,
   "id": "4453a80c",
   "metadata": {},
   "outputs": [],
   "source": []
  },
  {
   "cell_type": "code",
   "execution_count": null,
   "id": "f875fd94",
   "metadata": {},
   "outputs": [],
   "source": []
  },
  {
   "cell_type": "code",
   "execution_count": null,
   "id": "31d6583a",
   "metadata": {},
   "outputs": [],
   "source": []
  },
  {
   "cell_type": "code",
   "execution_count": null,
   "id": "65d6362f",
   "metadata": {},
   "outputs": [],
   "source": []
  },
  {
   "cell_type": "code",
   "execution_count": null,
   "id": "0ba6b7d7",
   "metadata": {},
   "outputs": [],
   "source": []
  },
  {
   "cell_type": "code",
   "execution_count": null,
   "id": "7e61ece6",
   "metadata": {},
   "outputs": [],
   "source": []
  },
  {
   "cell_type": "code",
   "execution_count": null,
   "id": "9fbd074e",
   "metadata": {},
   "outputs": [],
   "source": []
  },
  {
   "cell_type": "code",
   "execution_count": null,
   "id": "4aa8bab7",
   "metadata": {},
   "outputs": [],
   "source": []
  },
  {
   "cell_type": "code",
   "execution_count": null,
   "id": "f21bffcc",
   "metadata": {},
   "outputs": [],
   "source": []
  }
 ],
 "metadata": {
  "kernelspec": {
   "display_name": "Python 3",
   "language": "python",
   "name": "python3"
  },
  "language_info": {
   "codemirror_mode": {
    "name": "ipython",
    "version": 3
   },
   "file_extension": ".py",
   "mimetype": "text/x-python",
   "name": "python",
   "nbconvert_exporter": "python",
   "pygments_lexer": "ipython3",
   "version": "3.8.10"
  }
 },
 "nbformat": 4,
 "nbformat_minor": 5
}
