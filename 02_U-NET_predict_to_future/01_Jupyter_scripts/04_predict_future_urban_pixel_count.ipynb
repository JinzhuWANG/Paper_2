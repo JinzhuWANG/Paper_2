{
 "cells": [
  {
   "cell_type": "code",
   "execution_count": 1,
   "id": "78fdd371",
   "metadata": {},
   "outputs": [],
   "source": [
    "import os\n",
    "os.environ['HTTP_PROXY'] = 'http://127.0.0.1:58591'\n",
    "os.environ['HTTPS_PROXY'] = 'http://127.0.0.1:58591'\n",
    "\n",
    "%matplotlib inline"
   ]
  },
  {
   "cell_type": "code",
   "execution_count": 2,
   "id": "a59653bd",
   "metadata": {},
   "outputs": [],
   "source": [
    "import ee\n",
    "import pandas as pd\n",
    "import numpy as np\n",
    "import matplotlib.pyplot as plt\n",
    "import seaborn as sns\n",
    "\n",
    "from pprint import pprint\n",
    "\n",
    "from scipy import interpolate\n",
    "from scipy.optimize import curve_fit\n",
    "from sklearn.metrics import r2_score"
   ]
  },
  {
   "cell_type": "code",
   "execution_count": 3,
   "id": "c3508cbf",
   "metadata": {},
   "outputs": [],
   "source": [
    "ee.Initialize()"
   ]
  },
  {
   "cell_type": "code",
   "execution_count": null,
   "id": "8c12cdd0",
   "metadata": {},
   "outputs": [],
   "source": []
  },
  {
   "cell_type": "markdown",
   "id": "ef35a105",
   "metadata": {},
   "source": [
    "### Get the pixel count "
   ]
  },
  {
   "cell_type": "code",
   "execution_count": 13,
   "id": "62b24ad4",
   "metadata": {},
   "outputs": [],
   "source": [
    "# get the urban img\n",
    "urban = ee.Image(\"users/wangjinzhulala/North_China_Plain_Python/classificatioin_temporal_checked/Mosaic_only_forward\")\n",
    "region = ee.FeatureCollection(\"users/wangjinzhulala/North_China_Plain_Python/Boundary_shp/North_China_Plain_Boundary\")\n",
    "\n",
    "# mask out 0-value pixels\n",
    "urban = urban.mask(urban.gte(1))\n",
    "\n",
    "# get the pixel count of each year\n",
    "urban_pix_count = urban.reduceRegion(reducer = ee.Reducer.frequencyHistogram(),\n",
    "                                    geometry = region.geometry().convexHull(),\n",
    "                                    scale = 30,\n",
    "                                    maxPixels = int(1e13)).getInfo()['b1']"
   ]
  },
  {
   "cell_type": "code",
   "execution_count": null,
   "id": "75ac9ef5",
   "metadata": {},
   "outputs": [],
   "source": []
  },
  {
   "cell_type": "code",
   "execution_count": 4,
   "id": "31635fee",
   "metadata": {},
   "outputs": [],
   "source": [
    "# define the pixel value that corespondind to the year\n",
    "true_image_year_val = {f'{i+1}':f'{year}_{year+2}' for (i,year) in enumerate(range(2017,1989,-3))}\n",
    "\n",
    "\n",
    "# get the urban growth-pixels count\n",
    "pix_count_df = pd.DataFrame({true_image_year_val[str(i)]:[urban_pix_count[str(i)]] for i in range(10,0,-1)}).T\n",
    "\n",
    "# accumulate the growth-pixels, then make the middle year as the date\n",
    "pix_count_df['pix_count'] = pix_count_df[0].cumsum()\n",
    "pix_count_df['year'] = range(1991,2019,3)\n",
    "pix_count_df = pix_count_df[['year','pix_count']]\n",
    "pix_count_df['area_km2'] = pix_count_df['pix_count']*30*30/1000/1000"
   ]
  },
  {
   "cell_type": "code",
   "execution_count": null,
   "id": "c39c0370",
   "metadata": {},
   "outputs": [],
   "source": []
  },
  {
   "cell_type": "code",
   "execution_count": 5,
   "id": "411b4e15",
   "metadata": {},
   "outputs": [
    {
     "data": {
      "text/html": [
       "<div>\n",
       "<style scoped>\n",
       "    .dataframe tbody tr th:only-of-type {\n",
       "        vertical-align: middle;\n",
       "    }\n",
       "\n",
       "    .dataframe tbody tr th {\n",
       "        vertical-align: top;\n",
       "    }\n",
       "\n",
       "    .dataframe thead th {\n",
       "        text-align: right;\n",
       "    }\n",
       "</style>\n",
       "<table border=\"1\" class=\"dataframe\">\n",
       "  <thead>\n",
       "    <tr style=\"text-align: right;\">\n",
       "      <th></th>\n",
       "      <th>year</th>\n",
       "      <th>pix_count</th>\n",
       "      <th>area_km2</th>\n",
       "    </tr>\n",
       "  </thead>\n",
       "  <tbody>\n",
       "    <tr>\n",
       "      <th>0</th>\n",
       "      <td>1991</td>\n",
       "      <td>4.216937e+07</td>\n",
       "      <td>37952.428634</td>\n",
       "    </tr>\n",
       "    <tr>\n",
       "      <th>1</th>\n",
       "      <td>1994</td>\n",
       "      <td>5.361226e+07</td>\n",
       "      <td>48251.037734</td>\n",
       "    </tr>\n",
       "    <tr>\n",
       "      <th>2</th>\n",
       "      <td>1997</td>\n",
       "      <td>6.109841e+07</td>\n",
       "      <td>54988.567334</td>\n",
       "    </tr>\n",
       "    <tr>\n",
       "      <th>3</th>\n",
       "      <td>2000</td>\n",
       "      <td>6.681810e+07</td>\n",
       "      <td>60136.292834</td>\n",
       "    </tr>\n",
       "    <tr>\n",
       "      <th>4</th>\n",
       "      <td>2003</td>\n",
       "      <td>7.495013e+07</td>\n",
       "      <td>67455.119478</td>\n",
       "    </tr>\n",
       "    <tr>\n",
       "      <th>5</th>\n",
       "      <td>2006</td>\n",
       "      <td>8.480370e+07</td>\n",
       "      <td>76323.327212</td>\n",
       "    </tr>\n",
       "    <tr>\n",
       "      <th>6</th>\n",
       "      <td>2009</td>\n",
       "      <td>9.700969e+07</td>\n",
       "      <td>87308.719112</td>\n",
       "    </tr>\n",
       "    <tr>\n",
       "      <th>7</th>\n",
       "      <td>2012</td>\n",
       "      <td>1.109729e+08</td>\n",
       "      <td>99875.573912</td>\n",
       "    </tr>\n",
       "    <tr>\n",
       "      <th>8</th>\n",
       "      <td>2015</td>\n",
       "      <td>1.259419e+08</td>\n",
       "      <td>113347.685054</td>\n",
       "    </tr>\n",
       "    <tr>\n",
       "      <th>9</th>\n",
       "      <td>2018</td>\n",
       "      <td>1.464770e+08</td>\n",
       "      <td>131829.274264</td>\n",
       "    </tr>\n",
       "  </tbody>\n",
       "</table>\n",
       "</div>"
      ],
      "text/plain": [
       "   year     pix_count       area_km2\n",
       "0  1991  4.216937e+07   37952.428634\n",
       "1  1994  5.361226e+07   48251.037734\n",
       "2  1997  6.109841e+07   54988.567334\n",
       "3  2000  6.681810e+07   60136.292834\n",
       "4  2003  7.495013e+07   67455.119478\n",
       "5  2006  8.480370e+07   76323.327212\n",
       "6  2009  9.700969e+07   87308.719112\n",
       "7  2012  1.109729e+08   99875.573912\n",
       "8  2015  1.259419e+08  113347.685054\n",
       "9  2018  1.464770e+08  131829.274264"
      ]
     },
     "execution_count": 5,
     "metadata": {},
     "output_type": "execute_result"
    }
   ],
   "source": [
    "# save data to disk\n",
    "pix_count_df.to_csv('../Data/Result_csv/pix_count_df.csv',index=False)\n",
    "pix_count_df = pd.read_csv('../Data/Result_csv/pix_count_df.csv')\n",
    "pix_count_df"
   ]
  },
  {
   "cell_type": "code",
   "execution_count": null,
   "id": "b5a44ec5",
   "metadata": {},
   "outputs": [],
   "source": []
  },
  {
   "cell_type": "code",
   "execution_count": null,
   "id": "b7dc2fa9",
   "metadata": {},
   "outputs": [],
   "source": []
  },
  {
   "cell_type": "markdown",
   "id": "c9ac03b0",
   "metadata": {},
   "source": [
    "### Exponetial fitting to predict to 2030"
   ]
  },
  {
   "cell_type": "code",
   "execution_count": null,
   "id": "d9ee62f1",
   "metadata": {},
   "outputs": [],
   "source": []
  },
  {
   "cell_type": "code",
   "execution_count": 50,
   "id": "0a2271ad",
   "metadata": {},
   "outputs": [
    {
     "name": "stderr",
     "output_type": "stream",
     "text": [
      "C:\\ProgramData\\Anaconda3\\envs\\python37\\lib\\site-packages\\pandas\\core\\series.py:679: RuntimeWarning: overflow encountered in exp\n",
      "  result = getattr(ufunc, method)(*inputs, **kwargs)\n"
     ]
    },
    {
     "data": {
      "text/plain": [
       "0.9970720928221682"
      ]
     },
     "execution_count": 50,
     "metadata": {},
     "output_type": "execute_result"
    }
   ],
   "source": [
    "# get value for fiting\n",
    "X = pix_count_df['year']\n",
    "y = pix_count_df['pix_count']\n",
    "\n",
    "ext_range = range(1991,2031,3)\n",
    "\n",
    "\n",
    "# fit the urban pixel count, note the p0 were created from additional Excel Trend Line\n",
    "coef,_ = curve_fit(lambda t,a,b: a*np.exp(b*t), X, y, p0=[1e-30,0.04])\n",
    "\n",
    "# get the coefficients\n",
    "fit_val = coef[0]*np.exp(coef[1]*pix_count_df['year'])\n",
    "fit_val_ext = coef[0]*np.exp(coef[1]*ext_range)\n",
    "\n",
    "# compute the R2\n",
    "R2 = r2_score(y,fit_val)\n",
    "R2"
   ]
  },
  {
   "cell_type": "code",
   "execution_count": 56,
   "id": "e54fb73d",
   "metadata": {},
   "outputs": [
    {
     "data": {
      "text/plain": [
       "array([1.61005976e-30, 4.33059036e-02])"
      ]
     },
     "execution_count": 56,
     "metadata": {},
     "output_type": "execute_result"
    }
   ],
   "source": [
    "coef"
   ]
  },
  {
   "cell_type": "code",
   "execution_count": 51,
   "id": "ff18a9e6",
   "metadata": {},
   "outputs": [
    {
     "data": {
      "text/plain": [
       "<matplotlib.axes._subplots.AxesSubplot at 0x18d78b9fe48>"
      ]
     },
     "execution_count": 51,
     "metadata": {},
     "output_type": "execute_result"
    },
    {
     "data": {
      "image/png": "[encoded data removed]",
      "text/plain": [
       "<Figure size 432x288 with 1 Axes>"
      ]
     },
     "metadata": {
      "needs_background": "light"
     },
     "output_type": "display_data"
    }
   ],
   "source": [
    "sns.lineplot(x=ext_range,y=fit_val_ext)\n",
    "sns.scatterplot(x=X,y=y)"
   ]
  },
  {
   "cell_type": "code",
   "execution_count": 54,
   "id": "0799dfd1",
   "metadata": {},
   "outputs": [
    {
     "data": {
      "text/html": [
       "<div>\n",
       "<style scoped>\n",
       "    .dataframe tbody tr th:only-of-type {\n",
       "        vertical-align: middle;\n",
       "    }\n",
       "\n",
       "    .dataframe tbody tr th {\n",
       "        vertical-align: top;\n",
       "    }\n",
       "\n",
       "    .dataframe thead th {\n",
       "        text-align: right;\n",
       "    }\n",
       "</style>\n",
       "<table border=\"1\" class=\"dataframe\">\n",
       "  <thead>\n",
       "    <tr style=\"text-align: right;\">\n",
       "      <th></th>\n",
       "      <th>year</th>\n",
       "      <th>pix_count</th>\n",
       "      <th>area_km2</th>\n",
       "    </tr>\n",
       "  </thead>\n",
       "  <tbody>\n",
       "    <tr>\n",
       "      <th>0</th>\n",
       "      <td>1991</td>\n",
       "      <td>4.493703e+07</td>\n",
       "      <td>40443.323991</td>\n",
       "    </tr>\n",
       "    <tr>\n",
       "      <th>1</th>\n",
       "      <td>1994</td>\n",
       "      <td>5.117135e+07</td>\n",
       "      <td>46054.215362</td>\n",
       "    </tr>\n",
       "    <tr>\n",
       "      <th>2</th>\n",
       "      <td>1997</td>\n",
       "      <td>5.827059e+07</td>\n",
       "      <td>52443.531919</td>\n",
       "    </tr>\n",
       "    <tr>\n",
       "      <th>3</th>\n",
       "      <td>2000</td>\n",
       "      <td>6.635474e+07</td>\n",
       "      <td>59719.268226</td>\n",
       "    </tr>\n",
       "    <tr>\n",
       "      <th>4</th>\n",
       "      <td>2003</td>\n",
       "      <td>7.556045e+07</td>\n",
       "      <td>68004.401437</td>\n",
       "    </tr>\n",
       "    <tr>\n",
       "      <th>5</th>\n",
       "      <td>2006</td>\n",
       "      <td>8.604330e+07</td>\n",
       "      <td>77438.969904</td>\n",
       "    </tr>\n",
       "    <tr>\n",
       "      <th>6</th>\n",
       "      <td>2009</td>\n",
       "      <td>9.798049e+07</td>\n",
       "      <td>88182.440152</td>\n",
       "    </tr>\n",
       "    <tr>\n",
       "      <th>7</th>\n",
       "      <td>2012</td>\n",
       "      <td>1.115738e+08</td>\n",
       "      <td>100416.402243</td>\n",
       "    </tr>\n",
       "    <tr>\n",
       "      <th>8</th>\n",
       "      <td>2015</td>\n",
       "      <td>1.270529e+08</td>\n",
       "      <td>114347.639078</td>\n",
       "    </tr>\n",
       "    <tr>\n",
       "      <th>9</th>\n",
       "      <td>2018</td>\n",
       "      <td>1.446796e+08</td>\n",
       "      <td>130211.621513</td>\n",
       "    </tr>\n",
       "    <tr>\n",
       "      <th>10</th>\n",
       "      <td>2021</td>\n",
       "      <td>1.647517e+08</td>\n",
       "      <td>148276.488381</td>\n",
       "    </tr>\n",
       "    <tr>\n",
       "      <th>11</th>\n",
       "      <td>2024</td>\n",
       "      <td>1.876084e+08</td>\n",
       "      <td>168847.578665</td>\n",
       "    </tr>\n",
       "    <tr>\n",
       "      <th>12</th>\n",
       "      <td>2027</td>\n",
       "      <td>2.136362e+08</td>\n",
       "      <td>192272.592454</td>\n",
       "    </tr>\n",
       "    <tr>\n",
       "      <th>13</th>\n",
       "      <td>2030</td>\n",
       "      <td>2.432750e+08</td>\n",
       "      <td>218947.467896</td>\n",
       "    </tr>\n",
       "  </tbody>\n",
       "</table>\n",
       "</div>"
      ],
      "text/plain": [
       "    year     pix_count       area_km2\n",
       "0   1991  4.493703e+07   40443.323991\n",
       "1   1994  5.117135e+07   46054.215362\n",
       "2   1997  5.827059e+07   52443.531919\n",
       "3   2000  6.635474e+07   59719.268226\n",
       "4   2003  7.556045e+07   68004.401437\n",
       "5   2006  8.604330e+07   77438.969904\n",
       "6   2009  9.798049e+07   88182.440152\n",
       "7   2012  1.115738e+08  100416.402243\n",
       "8   2015  1.270529e+08  114347.639078\n",
       "9   2018  1.446796e+08  130211.621513\n",
       "10  2021  1.647517e+08  148276.488381\n",
       "11  2024  1.876084e+08  168847.578665\n",
       "12  2027  2.136362e+08  192272.592454\n",
       "13  2030  2.432750e+08  218947.467896"
      ]
     },
     "execution_count": 54,
     "metadata": {},
     "output_type": "execute_result"
    }
   ],
   "source": [
    "fit_ext_tf = pd.DataFrame(data={'year':ext_range,'pix_count':fit_val_ext})\n",
    "fit_ext_tf['area_km2'] = fit_ext_tf['pix_count']*30*30/1000/1000\n",
    "fit_ext_tf"
   ]
  },
  {
   "cell_type": "code",
   "execution_count": null,
   "id": "a5425773",
   "metadata": {},
   "outputs": [],
   "source": []
  },
  {
   "cell_type": "code",
   "execution_count": null,
   "id": "47f67a2c",
   "metadata": {},
   "outputs": [],
   "source": []
  },
  {
   "cell_type": "code",
   "execution_count": 55,
   "id": "e35432cc",
   "metadata": {},
   "outputs": [
    {
     "data": {
      "text/html": [
       "<div>\n",
       "<style scoped>\n",
       "    .dataframe tbody tr th:only-of-type {\n",
       "        vertical-align: middle;\n",
       "    }\n",
       "\n",
       "    .dataframe tbody tr th {\n",
       "        vertical-align: top;\n",
       "    }\n",
       "\n",
       "    .dataframe thead th {\n",
       "        text-align: right;\n",
       "    }\n",
       "</style>\n",
       "<table border=\"1\" class=\"dataframe\">\n",
       "  <thead>\n",
       "    <tr style=\"text-align: right;\">\n",
       "      <th></th>\n",
       "      <th>year</th>\n",
       "      <th>pix_count</th>\n",
       "      <th>area_km2</th>\n",
       "    </tr>\n",
       "  </thead>\n",
       "  <tbody>\n",
       "    <tr>\n",
       "      <th>0</th>\n",
       "      <td>1991</td>\n",
       "      <td>4.493703e+07</td>\n",
       "      <td>40443.323991</td>\n",
       "    </tr>\n",
       "    <tr>\n",
       "      <th>1</th>\n",
       "      <td>1994</td>\n",
       "      <td>5.117135e+07</td>\n",
       "      <td>46054.215362</td>\n",
       "    </tr>\n",
       "    <tr>\n",
       "      <th>2</th>\n",
       "      <td>1997</td>\n",
       "      <td>5.827059e+07</td>\n",
       "      <td>52443.531919</td>\n",
       "    </tr>\n",
       "    <tr>\n",
       "      <th>3</th>\n",
       "      <td>2000</td>\n",
       "      <td>6.635474e+07</td>\n",
       "      <td>59719.268226</td>\n",
       "    </tr>\n",
       "    <tr>\n",
       "      <th>4</th>\n",
       "      <td>2003</td>\n",
       "      <td>7.556045e+07</td>\n",
       "      <td>68004.401437</td>\n",
       "    </tr>\n",
       "    <tr>\n",
       "      <th>5</th>\n",
       "      <td>2006</td>\n",
       "      <td>8.604330e+07</td>\n",
       "      <td>77438.969904</td>\n",
       "    </tr>\n",
       "    <tr>\n",
       "      <th>6</th>\n",
       "      <td>2009</td>\n",
       "      <td>9.798049e+07</td>\n",
       "      <td>88182.440152</td>\n",
       "    </tr>\n",
       "    <tr>\n",
       "      <th>7</th>\n",
       "      <td>2012</td>\n",
       "      <td>1.115738e+08</td>\n",
       "      <td>100416.402243</td>\n",
       "    </tr>\n",
       "    <tr>\n",
       "      <th>8</th>\n",
       "      <td>2015</td>\n",
       "      <td>1.270529e+08</td>\n",
       "      <td>114347.639078</td>\n",
       "    </tr>\n",
       "    <tr>\n",
       "      <th>9</th>\n",
       "      <td>2018</td>\n",
       "      <td>1.446796e+08</td>\n",
       "      <td>130211.621513</td>\n",
       "    </tr>\n",
       "    <tr>\n",
       "      <th>10</th>\n",
       "      <td>2021</td>\n",
       "      <td>1.647517e+08</td>\n",
       "      <td>148276.488381</td>\n",
       "    </tr>\n",
       "    <tr>\n",
       "      <th>11</th>\n",
       "      <td>2024</td>\n",
       "      <td>1.876084e+08</td>\n",
       "      <td>168847.578665</td>\n",
       "    </tr>\n",
       "    <tr>\n",
       "      <th>12</th>\n",
       "      <td>2027</td>\n",
       "      <td>2.136362e+08</td>\n",
       "      <td>192272.592454</td>\n",
       "    </tr>\n",
       "    <tr>\n",
       "      <th>13</th>\n",
       "      <td>2030</td>\n",
       "      <td>2.432750e+08</td>\n",
       "      <td>218947.467896</td>\n",
       "    </tr>\n",
       "  </tbody>\n",
       "</table>\n",
       "</div>"
      ],
      "text/plain": [
       "    year     pix_count       area_km2\n",
       "0   1991  4.493703e+07   40443.323991\n",
       "1   1994  5.117135e+07   46054.215362\n",
       "2   1997  5.827059e+07   52443.531919\n",
       "3   2000  6.635474e+07   59719.268226\n",
       "4   2003  7.556045e+07   68004.401437\n",
       "5   2006  8.604330e+07   77438.969904\n",
       "6   2009  9.798049e+07   88182.440152\n",
       "7   2012  1.115738e+08  100416.402243\n",
       "8   2015  1.270529e+08  114347.639078\n",
       "9   2018  1.446796e+08  130211.621513\n",
       "10  2021  1.647517e+08  148276.488381\n",
       "11  2024  1.876084e+08  168847.578665\n",
       "12  2027  2.136362e+08  192272.592454\n",
       "13  2030  2.432750e+08  218947.467896"
      ]
     },
     "execution_count": 55,
     "metadata": {},
     "output_type": "execute_result"
    }
   ],
   "source": [
    "# save data to disk\n",
    "fit_ext_tf.to_csv('../Data/Result_csv/fit_ext_tf.csv',index=False)\n",
    "fit_ext_tf = pd.read_csv('../Data/Result_csv/fit_ext_tf.csv')\n",
    "fit_ext_tf"
   ]
  },
  {
   "cell_type": "code",
   "execution_count": null,
   "id": "1f4b1af6",
   "metadata": {},
   "outputs": [],
   "source": []
  },
  {
   "cell_type": "markdown",
   "id": "90536356",
   "metadata": {},
   "source": [
    "##### Predicted areas of each region"
   ]
  },
  {
   "cell_type": "code",
   "execution_count": 4,
   "id": "8063a45d",
   "metadata": {},
   "outputs": [],
   "source": [
    "# get the maps \n",
    "urban_2017_2019 = ee.Image(\"users/wangjinzhulala/North_China_Plain_Python/classificatioin_temporal_checked/Mosaic_only_forward\").gte(1)\n",
    "pred_2030 = ee.Image(\"users/wangjinzhulala/GEE_TF/Urban_projection/Proj_to_future_2017_2019_to_2030\")\n",
    "\n",
    "# get city boundaries\n",
    "region_province = ee.FeatureCollection(\"users/wangjinzhulala/North_China_Plain_Python/Boundary_shp/North_China_Plain_province_boundry\")"
   ]
  },
  {
   "cell_type": "code",
   "execution_count": null,
   "id": "670aa6b6",
   "metadata": {},
   "outputs": [],
   "source": []
  },
  {
   "cell_type": "code",
   "execution_count": 5,
   "id": "fb9e54b7",
   "metadata": {},
   "outputs": [],
   "source": [
    "# get stats\n",
    "urban_2017_2019_stats = urban_2017_2019.reduceRegions(reducer = ee.Reducer.sum(),\n",
    "                                            collection = region_province,\n",
    "                                            scale = 30).getInfo()\n",
    "\n",
    "pred_2030_stats = pred_2030.reduceRegions(reducer = ee.Reducer.sum(),\n",
    "                                            collection = region_province,\n",
    "                                            scale = 30).getInfo()\n"
   ]
  },
  {
   "cell_type": "code",
   "execution_count": null,
   "id": "186d34ec",
   "metadata": {},
   "outputs": [],
   "source": []
  },
  {
   "cell_type": "code",
   "execution_count": 25,
   "id": "b991316d",
   "metadata": {},
   "outputs": [],
   "source": [
    "pred_df = pd.DataFrame([(i['properties']['NAME'],i['properties']['sum']*30*30/1000/1000) for i in urban_2017_2019_stats['features']])\n",
    "pred_df['2030'] = [i['properties']['sum']*30*30/1000/1000 for i in pred_2030_stats['features']]\n",
    "pred_df['Percent increase'] = (pred_df['2030'] - pred_df[1])/pred_df['2030'] * 100\n",
    "pred_df.columns = ['Region','2017_2019','2030','Percent increase']\n",
    "pred_df['Region'] = ['Shandong','Henan','Beijing','Tianjin','Hebei','Anhui','Jiangsu']\n",
    "pred_df.sort_values('Region',inplace=True)\n",
    "pred_df.to_csv('../Data/Result_csv/pred_2030_areas.csv',index=False)"
   ]
  },
  {
   "cell_type": "code",
   "execution_count": null,
   "id": "b3b1be65",
   "metadata": {},
   "outputs": [],
   "source": []
  },
  {
   "cell_type": "code",
   "execution_count": 26,
   "id": "24b39d8d",
   "metadata": {},
   "outputs": [
    {
     "data": {
      "text/html": [
       "<div>\n",
       "<style scoped>\n",
       "    .dataframe tbody tr th:only-of-type {\n",
       "        vertical-align: middle;\n",
       "    }\n",
       "\n",
       "    .dataframe tbody tr th {\n",
       "        vertical-align: top;\n",
       "    }\n",
       "\n",
       "    .dataframe thead th {\n",
       "        text-align: right;\n",
       "    }\n",
       "</style>\n",
       "<table border=\"1\" class=\"dataframe\">\n",
       "  <thead>\n",
       "    <tr style=\"text-align: right;\">\n",
       "      <th></th>\n",
       "      <th>Region</th>\n",
       "      <th>2017_2019</th>\n",
       "      <th>2030</th>\n",
       "      <th>Percent increase</th>\n",
       "    </tr>\n",
       "  </thead>\n",
       "  <tbody>\n",
       "    <tr>\n",
       "      <th>0</th>\n",
       "      <td>Anhui</td>\n",
       "      <td>21070.963736</td>\n",
       "      <td>29463.606519</td>\n",
       "      <td>28.484778</td>\n",
       "    </tr>\n",
       "    <tr>\n",
       "      <th>1</th>\n",
       "      <td>Beijing</td>\n",
       "      <td>2630.092486</td>\n",
       "      <td>3338.754611</td>\n",
       "      <td>21.225343</td>\n",
       "    </tr>\n",
       "    <tr>\n",
       "      <th>2</th>\n",
       "      <td>Hebei</td>\n",
       "      <td>20454.292786</td>\n",
       "      <td>26440.377854</td>\n",
       "      <td>22.639938</td>\n",
       "    </tr>\n",
       "    <tr>\n",
       "      <th>3</th>\n",
       "      <td>Henan</td>\n",
       "      <td>28282.244456</td>\n",
       "      <td>38850.765131</td>\n",
       "      <td>27.202864</td>\n",
       "    </tr>\n",
       "    <tr>\n",
       "      <th>4</th>\n",
       "      <td>Jiangsu</td>\n",
       "      <td>24210.079772</td>\n",
       "      <td>33731.720749</td>\n",
       "      <td>28.227558</td>\n",
       "    </tr>\n",
       "    <tr>\n",
       "      <th>5</th>\n",
       "      <td>Shandong</td>\n",
       "      <td>32005.141602</td>\n",
       "      <td>42758.606058</td>\n",
       "      <td>25.149240</td>\n",
       "    </tr>\n",
       "    <tr>\n",
       "      <th>6</th>\n",
       "      <td>Tianjin</td>\n",
       "      <td>2925.680241</td>\n",
       "      <td>3754.646407</td>\n",
       "      <td>22.078408</td>\n",
       "    </tr>\n",
       "  </tbody>\n",
       "</table>\n",
       "</div>"
      ],
      "text/plain": [
       "     Region     2017_2019          2030  Percent increase\n",
       "0     Anhui  21070.963736  29463.606519         28.484778\n",
       "1   Beijing   2630.092486   3338.754611         21.225343\n",
       "2     Hebei  20454.292786  26440.377854         22.639938\n",
       "3     Henan  28282.244456  38850.765131         27.202864\n",
       "4   Jiangsu  24210.079772  33731.720749         28.227558\n",
       "5  Shandong  32005.141602  42758.606058         25.149240\n",
       "6   Tianjin   2925.680241   3754.646407         22.078408"
      ]
     },
     "execution_count": 26,
     "metadata": {},
     "output_type": "execute_result"
    }
   ],
   "source": [
    "pred_df = pd.read_csv('../Data/Result_csv/pred_2030_areas.csv',encoding='utf-8-sig')\n",
    "pred_df"
   ]
  },
  {
   "cell_type": "code",
   "execution_count": null,
   "id": "a6f0d723",
   "metadata": {},
   "outputs": [],
   "source": []
  },
  {
   "cell_type": "code",
   "execution_count": 24,
   "id": "fea768f7",
   "metadata": {},
   "outputs": [],
   "source": []
  },
  {
   "cell_type": "code",
   "execution_count": null,
   "id": "bcfac27d",
   "metadata": {},
   "outputs": [],
   "source": []
  },
  {
   "cell_type": "code",
   "execution_count": null,
   "id": "ee848f4c",
   "metadata": {},
   "outputs": [],
   "source": []
  },
  {
   "cell_type": "code",
   "execution_count": null,
   "id": "385e8dff",
   "metadata": {},
   "outputs": [],
   "source": []
  },
  {
   "cell_type": "code",
   "execution_count": null,
   "id": "fee8512a",
   "metadata": {},
   "outputs": [],
   "source": []
  },
  {
   "cell_type": "code",
   "execution_count": null,
   "id": "4945cb9b",
   "metadata": {},
   "outputs": [],
   "source": []
  },
  {
   "cell_type": "code",
   "execution_count": null,
   "id": "2423f53d",
   "metadata": {},
   "outputs": [],
   "source": []
  },
  {
   "cell_type": "code",
   "execution_count": null,
   "id": "f2f2e9f5",
   "metadata": {},
   "outputs": [],
   "source": []
  },
  {
   "cell_type": "code",
   "execution_count": null,
   "id": "a462265c",
   "metadata": {},
   "outputs": [],
   "source": []
  },
  {
   "cell_type": "code",
   "execution_count": null,
   "id": "40149062",
   "metadata": {},
   "outputs": [],
   "source": []
  },
  {
   "cell_type": "code",
   "execution_count": null,
   "id": "47f65b50",
   "metadata": {},
   "outputs": [],
   "source": []
  },
  {
   "cell_type": "code",
   "execution_count": null,
   "id": "6411f23c",
   "metadata": {},
   "outputs": [],
   "source": []
  },
  {
   "cell_type": "code",
   "execution_count": null,
   "id": "ebc62025",
   "metadata": {},
   "outputs": [],
   "source": []
  }
 ],
 "metadata": {
  "kernelspec": {
   "display_name": "Python 3",
   "language": "python",
   "name": "python3"
  },
  "language_info": {
   "codemirror_mode": {
    "name": "ipython",
    "version": 3
   },
   "file_extension": ".py",
   "mimetype": "text/x-python",
   "name": "python",
   "nbconvert_exporter": "python",
   "pygments_lexer": "ipython3",
   "version": "3.8.10"
  }
 },
 "nbformat": 4,
 "nbformat_minor": 5
}
