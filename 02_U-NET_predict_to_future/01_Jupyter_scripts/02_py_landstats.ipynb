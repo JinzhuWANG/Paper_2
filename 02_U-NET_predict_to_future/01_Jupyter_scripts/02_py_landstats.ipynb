{
 "cells": [
  {
   "cell_type": "code",
   "execution_count": 1,
   "id": "ae939029",
   "metadata": {},
   "outputs": [],
   "source": [
    "import os\n",
    "os.environ['HTTP_PROXY'] = 'http://127.0.0.1:58591'\n",
    "os.environ['HTTPS_PROXY'] = 'http://127.0.0.1:58591'"
   ]
  },
  {
   "cell_type": "code",
   "execution_count": null,
   "id": "4a7a11f0",
   "metadata": {},
   "outputs": [],
   "source": []
  },
  {
   "cell_type": "code",
   "execution_count": 23,
   "id": "440498a9",
   "metadata": {},
   "outputs": [
    {
     "name": "stdout",
     "output_type": "stream",
     "text": [
      "The autoreload extension is already loaded. To reload it, use:\n",
      "  %reload_ext autoreload\n"
     ]
    }
   ],
   "source": [
    "from osgeo import gdal,ogr\n",
    "import matplotlib.pyplot as plt\n",
    "import pylandstats as pls\n",
    "import seaborn as sns\n",
    "\n",
    "import glob\n",
    "import re\n",
    "import os\n",
    "from multiprocessing import Pool\n",
    "\n",
    "import numpy as np\n",
    "import pandas as pd\n",
    "\n",
    "import ee\n",
    "ee.Initialize()\n",
    "\n",
    "# Some more magic so that the notebook will reload external python modules;\n",
    "# see http://stackoverflow.com/questions/1907993/autoreload-of-modules-in-ipython\n",
    "%load_ext autoreload\n",
    "%autoreload 2\n",
    "%matplotlib inline"
   ]
  },
  {
   "cell_type": "code",
   "execution_count": null,
   "id": "88bd2151",
   "metadata": {},
   "outputs": [],
   "source": []
  },
  {
   "cell_type": "markdown",
   "id": "5bdbc051",
   "metadata": {},
   "source": [
    "### Define parameters"
   ]
  },
  {
   "cell_type": "code",
   "execution_count": 3,
   "id": "dfde0063",
   "metadata": {},
   "outputs": [],
   "source": [
    "# define the year of the true image\n",
    "base_year = '2005_2007'\n",
    "target_year = '2017_2019'\n",
    "\n",
    "# define the img_type\n",
    "img_type = ['mix_no_years'] #'mix_years','no_distance','with_distance',\n",
    "\n",
    "# define the pixel value that corespondind to the year\n",
    "true_image_year_val = {f'{year}_{year+2}':(i+1) for (i,year) in enumerate(range(2017,1989,-3))}"
   ]
  },
  {
   "cell_type": "code",
   "execution_count": null,
   "id": "6b6a807c",
   "metadata": {},
   "outputs": [],
   "source": []
  },
  {
   "cell_type": "markdown",
   "id": "987015ca",
   "metadata": {},
   "source": [
    "### Reprejecte the tif to WGS84 UTM 50N"
   ]
  },
  {
   "cell_type": "code",
   "execution_count": 4,
   "id": "ac3bcb3e",
   "metadata": {},
   "outputs": [],
   "source": [
    "img_proj = glob.glob(f'../Data/UNET_result_image/unet_img_each_city/no_distance_*_{base_year}_{target_year}_masked.tif')\n",
    "img_true = glob.glob(f'../Data/UNET_result_image/unet_img_each_city/True_img_*_{target_year}_masked.tif')\n",
    "\n",
    "img_to_project = img_proj +  img_true"
   ]
  },
  {
   "cell_type": "code",
   "execution_count": null,
   "id": "054f8bcb",
   "metadata": {},
   "outputs": [],
   "source": []
  },
  {
   "cell_type": "code",
   "execution_count": 129,
   "id": "57c52a0a",
   "metadata": {
    "scrolled": true
   },
   "outputs": [
    {
     "name": "stdout",
     "output_type": "stream",
     "text": [
      "Reproject no_distance_an_qing_shi_2005_2007_2017_2019_masked to WGS84 UTM 50N successful!\n",
      "Reproject no_distance_an_yang_shi_2005_2007_2017_2019_masked to WGS84 UTM 50N successful!\n",
      "Reproject no_distance_bang_bu_shi_2005_2007_2017_2019_masked to WGS84 UTM 50N successful!\n",
      "Reproject no_distance_bao_ding_shi_2005_2007_2017_2019_masked to WGS84 UTM 50N successful!\n",
      "Reproject no_distance_bei_jing_shi_2005_2007_2017_2019_masked to WGS84 UTM 50N successful!\n",
      "Reproject no_distance_bin_zhou_shi_2005_2007_2017_2019_masked to WGS84 UTM 50N successful!\n",
      "Reproject no_distance_bo_zhou_shi_2005_2007_2017_2019_masked to WGS84 UTM 50N successful!\n",
      "Reproject no_distance_cang_zhou_shi_2005_2007_2017_2019_masked to WGS84 UTM 50N successful!\n",
      "Reproject no_distance_chang_zhou_shi_2005_2007_2017_2019_masked to WGS84 UTM 50N successful!\n",
      "Reproject no_distance_cheng_de_shi_2005_2007_2017_2019_masked to WGS84 UTM 50N successful!\n",
      "Reproject no_distance_chi_zhou_shi_2005_2007_2017_2019_masked to WGS84 UTM 50N successful!\n",
      "Reproject no_distance_chu_zhou_shi_2005_2007_2017_2019_masked to WGS84 UTM 50N successful!\n",
      "Reproject no_distance_de_zhou_shi_2005_2007_2017_2019_masked to WGS84 UTM 50N successful!\n",
      "Reproject no_distance_dong_ying_shi_2005_2007_2017_2019_masked to WGS84 UTM 50N successful!\n",
      "Reproject no_distance_fu_yang_shi_2005_2007_2017_2019_masked to WGS84 UTM 50N successful!\n",
      "Reproject no_distance_han_dan_shi_2005_2007_2017_2019_masked to WGS84 UTM 50N successful!\n",
      "Reproject no_distance_heng_shui_shi_2005_2007_2017_2019_masked to WGS84 UTM 50N successful!\n",
      "Reproject no_distance_he_bi_shi_2005_2007_2017_2019_masked to WGS84 UTM 50N successful!\n",
      "Reproject no_distance_he_fei_shi_2005_2007_2017_2019_masked to WGS84 UTM 50N successful!\n",
      "Reproject no_distance_he_ze_shi_2005_2007_2017_2019_masked to WGS84 UTM 50N successful!\n",
      "Reproject no_distance_huai_an_shi_2005_2007_2017_2019_masked to WGS84 UTM 50N successful!\n",
      "Reproject no_distance_huai_bei_shi_2005_2007_2017_2019_masked to WGS84 UTM 50N successful!\n",
      "Reproject no_distance_huai_nan_shi_2005_2007_2017_2019_masked to WGS84 UTM 50N successful!\n",
      "Reproject no_distance_huang_shan_shi_2005_2007_2017_2019_masked to WGS84 UTM 50N successful!\n",
      "Reproject no_distance_jiao_zuo_shi_2005_2007_2017_2019_masked to WGS84 UTM 50N successful!\n",
      "Reproject no_distance_ji_nan_shi_2005_2007_2017_2019_masked to WGS84 UTM 50N successful!\n",
      "Reproject no_distance_ji_ning_shi_2005_2007_2017_2019_masked to WGS84 UTM 50N successful!\n",
      "Reproject no_distance_kai_feng_shi_2005_2007_2017_2019_masked to WGS84 UTM 50N successful!\n",
      "Reproject no_distance_lai_wu_shi_2005_2007_2017_2019_masked to WGS84 UTM 50N successful!\n",
      "Reproject no_distance_lang_fang_shi_2005_2007_2017_2019_masked to WGS84 UTM 50N successful!\n",
      "Reproject no_distance_lian_yun_gang_shi_2005_2007_2017_2019_masked to WGS84 UTM 50N successful!\n",
      "Reproject no_distance_liao_cheng_shi_2005_2007_2017_2019_masked to WGS84 UTM 50N successful!\n",
      "Reproject no_distance_lin_yi_shi_2005_2007_2017_2019_masked to WGS84 UTM 50N successful!\n",
      "Reproject no_distance_liu_an_shi_2005_2007_2017_2019_masked to WGS84 UTM 50N successful!\n",
      "Reproject no_distance_luo_yang_shi_2005_2007_2017_2019_masked to WGS84 UTM 50N successful!\n",
      "Reproject no_distance_ma_an_shan_shi_2005_2007_2017_2019_masked to WGS84 UTM 50N successful!\n",
      "Reproject no_distance_nan_jing_shi_2005_2007_2017_2019_masked to WGS84 UTM 50N successful!\n",
      "Reproject no_distance_nan_tong_shi_2005_2007_2017_2019_masked to WGS84 UTM 50N successful!\n",
      "Reproject no_distance_nan_yang_shi_2005_2007_2017_2019_masked to WGS84 UTM 50N successful!\n",
      "Reproject no_distance_ping_ding_shan_shi_2005_2007_2017_2019_masked to WGS84 UTM 50N successful!\n",
      "Reproject no_distance_pu_yang_shi_2005_2007_2017_2019_masked to WGS84 UTM 50N successful!\n",
      "Reproject no_distance_qing_dao_shi_2005_2007_2017_2019_masked to WGS84 UTM 50N successful!\n",
      "Reproject no_distance_qin_huang_dao_shi_2005_2007_2017_2019_masked to WGS84 UTM 50N successful!\n",
      "Reproject no_distance_ri_zhao_shi_2005_2007_2017_2019_masked to WGS84 UTM 50N successful!\n",
      "Reproject no_distance_san_men_xia_shi_2005_2007_2017_2019_masked to WGS84 UTM 50N successful!\n",
      "Reproject no_distance_shang_qiu_shi_2005_2007_2017_2019_masked to WGS84 UTM 50N successful!\n",
      "Reproject no_distance_shi_jia_zhuang_shi_2005_2007_2017_2019_masked to WGS84 UTM 50N successful!\n",
      "Reproject no_distance_su_qian_shi_2005_2007_2017_2019_masked to WGS84 UTM 50N successful!\n",
      "Reproject no_distance_su_zhou_shi_2005_2007_2017_2019_masked to WGS84 UTM 50N successful!\n",
      "Reproject no_distance_tai_an_shi_2005_2007_2017_2019_masked to WGS84 UTM 50N successful!\n",
      "Reproject no_distance_tai_zhou_shi_2005_2007_2017_2019_masked to WGS84 UTM 50N successful!\n",
      "Reproject no_distance_tang_shan_shi_2005_2007_2017_2019_masked to WGS84 UTM 50N successful!\n",
      "Reproject no_distance_ta_he_shi_2005_2007_2017_2019_masked to WGS84 UTM 50N successful!\n",
      "Reproject no_distance_tian_jin_shi_2005_2007_2017_2019_masked to WGS84 UTM 50N successful!\n",
      "Reproject no_distance_tong_ling_shi_2005_2007_2017_2019_masked to WGS84 UTM 50N successful!\n",
      "Reproject no_distance_wei_fang_shi_2005_2007_2017_2019_masked to WGS84 UTM 50N successful!\n",
      "Reproject no_distance_wei_hai_shi_2005_2007_2017_2019_masked to WGS84 UTM 50N successful!\n",
      "Reproject no_distance_wu_hu_shi_2005_2007_2017_2019_masked to WGS84 UTM 50N successful!\n",
      "Reproject no_distance_wu_xi_shi_2005_2007_2017_2019_masked to WGS84 UTM 50N successful!\n",
      "Reproject no_distance_xing_tai_shi_2005_2007_2017_2019_masked to WGS84 UTM 50N successful!\n",
      "Reproject no_distance_xin_xiang_shi_2005_2007_2017_2019_masked to WGS84 UTM 50N successful!\n",
      "Reproject no_distance_xin_yang_shi_2005_2007_2017_2019_masked to WGS84 UTM 50N successful!\n",
      "Reproject no_distance_xuan_cheng_shi_2005_2007_2017_2019_masked to WGS84 UTM 50N successful!\n",
      "Reproject no_distance_xu_chang_shi_2005_2007_2017_2019_masked to WGS84 UTM 50N successful!\n",
      "Reproject no_distance_xu_zhou_shi_2005_2007_2017_2019_masked to WGS84 UTM 50N successful!\n",
      "Reproject no_distance_yang_zhou_shi_2005_2007_2017_2019_masked to WGS84 UTM 50N successful!\n",
      "Reproject no_distance_yan_cheng_shi_2005_2007_2017_2019_masked to WGS84 UTM 50N successful!\n",
      "Reproject no_distance_yan_tai_shi_2005_2007_2017_2019_masked to WGS84 UTM 50N successful!\n",
      "Reproject no_distance_zao_zhuang_shi_2005_2007_2017_2019_masked to WGS84 UTM 50N successful!\n",
      "Reproject no_distance_zhang_jia_kou_shi_2005_2007_2017_2019_masked to WGS84 UTM 50N successful!\n",
      "Reproject no_distance_zheng_zhou_shi_2005_2007_2017_2019_masked to WGS84 UTM 50N successful!\n",
      "Reproject no_distance_zhen_jiang_shi_2005_2007_2017_2019_masked to WGS84 UTM 50N successful!\n",
      "Reproject no_distance_zhou_kou_shi_2005_2007_2017_2019_masked to WGS84 UTM 50N successful!\n",
      "Reproject no_distance_zhu_ma_dian_shi_2005_2007_2017_2019_masked to WGS84 UTM 50N successful!\n",
      "Reproject no_distance_zi_bo_shi_2005_2007_2017_2019_masked to WGS84 UTM 50N successful!\n",
      "Reproject True_img_an_qing_shi_2017_2019 to WGS84 UTM 50N successful!\n",
      "Reproject True_img_an_yang_shi_2017_2019 to WGS84 UTM 50N successful!\n",
      "Reproject True_img_bang_bu_shi_2017_2019 to WGS84 UTM 50N successful!\n",
      "Reproject True_img_bao_ding_shi_2017_2019 to WGS84 UTM 50N successful!\n",
      "Reproject True_img_bei_jing_shi_2017_2019 to WGS84 UTM 50N successful!\n",
      "Reproject True_img_bin_zhou_shi_2017_2019 to WGS84 UTM 50N successful!\n",
      "Reproject True_img_bo_zhou_shi_2017_2019 to WGS84 UTM 50N successful!\n",
      "Reproject True_img_cang_zhou_shi_2017_2019 to WGS84 UTM 50N successful!\n",
      "Reproject True_img_chang_zhou_shi_2017_2019 to WGS84 UTM 50N successful!\n",
      "Reproject True_img_cheng_de_shi_2017_2019 to WGS84 UTM 50N successful!\n",
      "Reproject True_img_chi_zhou_shi_2017_2019 to WGS84 UTM 50N successful!\n",
      "Reproject True_img_chu_zhou_shi_2017_2019 to WGS84 UTM 50N successful!\n",
      "Reproject True_img_de_zhou_shi_2017_2019 to WGS84 UTM 50N successful!\n",
      "Reproject True_img_dong_ying_shi_2017_2019 to WGS84 UTM 50N successful!\n",
      "Reproject True_img_fu_yang_shi_2017_2019 to WGS84 UTM 50N successful!\n",
      "Reproject True_img_han_dan_shi_2017_2019 to WGS84 UTM 50N successful!\n",
      "Reproject True_img_heng_shui_shi_2017_2019 to WGS84 UTM 50N successful!\n",
      "Reproject True_img_he_bi_shi_2017_2019 to WGS84 UTM 50N successful!\n",
      "Reproject True_img_he_fei_shi_2017_2019 to WGS84 UTM 50N successful!\n",
      "Reproject True_img_he_ze_shi_2017_2019 to WGS84 UTM 50N successful!\n"
     ]
    },
    {
     "name": "stdout",
     "output_type": "stream",
     "text": [
      "Reproject True_img_huai_an_shi_2017_2019 to WGS84 UTM 50N successful!\n",
      "Reproject True_img_huai_bei_shi_2017_2019 to WGS84 UTM 50N successful!\n",
      "Reproject True_img_huai_nan_shi_2017_2019 to WGS84 UTM 50N successful!\n",
      "Reproject True_img_huang_shan_shi_2017_2019 to WGS84 UTM 50N successful!\n",
      "Reproject True_img_jiao_zuo_shi_2017_2019 to WGS84 UTM 50N successful!\n",
      "Reproject True_img_ji_nan_shi_2017_2019 to WGS84 UTM 50N successful!\n",
      "Reproject True_img_ji_ning_shi_2017_2019 to WGS84 UTM 50N successful!\n",
      "Reproject True_img_kai_feng_shi_2017_2019 to WGS84 UTM 50N successful!\n",
      "Reproject True_img_lai_wu_shi_2017_2019 to WGS84 UTM 50N successful!\n",
      "Reproject True_img_lang_fang_shi_2017_2019 to WGS84 UTM 50N successful!\n",
      "Reproject True_img_lian_yun_gang_shi_2017_2019 to WGS84 UTM 50N successful!\n",
      "Reproject True_img_liao_cheng_shi_2017_2019 to WGS84 UTM 50N successful!\n",
      "Reproject True_img_lin_yi_shi_2017_2019 to WGS84 UTM 50N successful!\n",
      "Reproject True_img_liu_an_shi_2017_2019 to WGS84 UTM 50N successful!\n",
      "Reproject True_img_luo_yang_shi_2017_2019 to WGS84 UTM 50N successful!\n",
      "Reproject True_img_ma_an_shan_shi_2017_2019 to WGS84 UTM 50N successful!\n",
      "Reproject True_img_nan_jing_shi_2017_2019 to WGS84 UTM 50N successful!\n",
      "Reproject True_img_nan_tong_shi_2017_2019 to WGS84 UTM 50N successful!\n",
      "Reproject True_img_nan_yang_shi_2017_2019 to WGS84 UTM 50N successful!\n",
      "Reproject True_img_ping_ding_shan_shi_2017_2019 to WGS84 UTM 50N successful!\n",
      "Reproject True_img_pu_yang_shi_2017_2019 to WGS84 UTM 50N successful!\n",
      "Reproject True_img_qing_dao_shi_2017_2019 to WGS84 UTM 50N successful!\n",
      "Reproject True_img_qin_huang_dao_shi_2017_2019 to WGS84 UTM 50N successful!\n",
      "Reproject True_img_ri_zhao_shi_2017_2019 to WGS84 UTM 50N successful!\n",
      "Reproject True_img_san_men_xia_shi_2017_2019 to WGS84 UTM 50N successful!\n",
      "Reproject True_img_shang_qiu_shi_2017_2019 to WGS84 UTM 50N successful!\n",
      "Reproject True_img_shi_jia_zhuang_shi_2017_2019 to WGS84 UTM 50N successful!\n",
      "Reproject True_img_su_qian_shi_2017_2019 to WGS84 UTM 50N successful!\n",
      "Reproject True_img_su_zhou_shi_2017_2019 to WGS84 UTM 50N successful!\n",
      "Reproject True_img_tai_an_shi_2017_2019 to WGS84 UTM 50N successful!\n",
      "Reproject True_img_tai_zhou_shi_2017_2019 to WGS84 UTM 50N successful!\n",
      "Reproject True_img_tang_shan_shi_2017_2019 to WGS84 UTM 50N successful!\n",
      "Reproject True_img_ta_he_shi_2017_2019 to WGS84 UTM 50N successful!\n",
      "Reproject True_img_tian_jin_shi_2017_2019 to WGS84 UTM 50N successful!\n",
      "Reproject True_img_tong_ling_shi_2017_2019 to WGS84 UTM 50N successful!\n",
      "Reproject True_img_wei_fang_shi_2017_2019 to WGS84 UTM 50N successful!\n",
      "Reproject True_img_wei_hai_shi_2017_2019 to WGS84 UTM 50N successful!\n",
      "Reproject True_img_wu_hu_shi_2017_2019 to WGS84 UTM 50N successful!\n",
      "Reproject True_img_wu_xi_shi_2017_2019 to WGS84 UTM 50N successful!\n",
      "Reproject True_img_xing_tai_shi_2017_2019 to WGS84 UTM 50N successful!\n",
      "Reproject True_img_xin_xiang_shi_2017_2019 to WGS84 UTM 50N successful!\n",
      "Reproject True_img_xin_yang_shi_2017_2019 to WGS84 UTM 50N successful!\n",
      "Reproject True_img_xuan_cheng_shi_2017_2019 to WGS84 UTM 50N successful!\n",
      "Reproject True_img_xu_chang_shi_2017_2019 to WGS84 UTM 50N successful!\n",
      "Reproject True_img_xu_zhou_shi_2017_2019 to WGS84 UTM 50N successful!\n",
      "Reproject True_img_yang_zhou_shi_2017_2019 to WGS84 UTM 50N successful!\n",
      "Reproject True_img_yan_cheng_shi_2017_2019 to WGS84 UTM 50N successful!\n",
      "Reproject True_img_yan_tai_shi_2017_2019 to WGS84 UTM 50N successful!\n",
      "Reproject True_img_zao_zhuang_shi_2017_2019 to WGS84 UTM 50N successful!\n",
      "Reproject True_img_zhang_jia_kou_shi_2017_2019 to WGS84 UTM 50N successful!\n",
      "Reproject True_img_zheng_zhou_shi_2017_2019 to WGS84 UTM 50N successful!\n",
      "Reproject True_img_zhen_jiang_shi_2017_2019 to WGS84 UTM 50N successful!\n",
      "Reproject True_img_zhou_kou_shi_2017_2019 to WGS84 UTM 50N successful!\n",
      "Reproject True_img_zhu_ma_dian_shi_2017_2019 to WGS84 UTM 50N successful!\n",
      "Reproject True_img_zi_bo_shi_2017_2019 to WGS84 UTM 50N successful!\n"
     ]
    }
   ],
   "source": [
    "for tif in  img_to_project:\n",
    "    \n",
    "    # read tif\n",
    "    tif_ds = gdal.Open(tif)\n",
    "    \n",
    "    # get name\n",
    "    reg = re.compile(r'\\\\(.*).*.tif')\n",
    "    name = reg.findall(tif)[0] \n",
    "\n",
    "    \n",
    "    # reproject\n",
    "    dstTif = gdal.Warp(f'../Data/UNET_result_image/Reproject_imgs/{name}.tif',tif_ds,dstSRS = 'EPSG:32650') # WGS84 UTM 50N\n",
    "    \n",
    "    # report process\n",
    "    print(f\"Reproject {name} to WGS84 UTM 50N successful!\")"
   ]
  },
  {
   "cell_type": "code",
   "execution_count": null,
   "id": "c608f728",
   "metadata": {},
   "outputs": [],
   "source": []
  },
  {
   "cell_type": "code",
   "execution_count": null,
   "id": "774110d4",
   "metadata": {},
   "outputs": [],
   "source": []
  },
  {
   "cell_type": "markdown",
   "id": "d33c6c04",
   "metadata": {},
   "source": [
    "### Compute the Landscapte Metrics"
   ]
  },
  {
   "cell_type": "code",
   "execution_count": 5,
   "id": "02496f6e",
   "metadata": {},
   "outputs": [],
   "source": [
    "# get the projected tif imgs\n",
    "img_city_true = glob.glob(f'../Data/UNET_result_image/Reproject_imgs/True_img_*{target_year}_masked.tif')\n",
    "img_city_prj = glob.glob(f'../Data/UNET_result_image/Reproject_imgs/no_distance_*_{base_year}_{target_year}_masked.tif')\n",
    "img_city_UTM = {'True':img_city_true,\n",
    "                'Proj':img_city_prj}"
   ]
  },
  {
   "cell_type": "code",
   "execution_count": 45,
   "id": "693db27e",
   "metadata": {},
   "outputs": [],
   "source": [
    "multprocess_args = []\n",
    "\n",
    "# compute landscapte metrics\n",
    "for img_type,tifs in img_city_UTM.items():\n",
    "    for tif in tifs:\n",
    "    \n",
    "        # get name\n",
    "        reg = re.compile(r'\\\\((True_img_)|(no_distance_))(.*?)_\\d{4}_\\d{4}.*tif')\n",
    "        name = reg.findall(tif)[0][3]\n",
    "        \n",
    "        # append args to list\n",
    "        multprocess_args.append((name,img_type,tif))"
   ]
  },
  {
   "cell_type": "code",
   "execution_count": null,
   "id": "7955fd16",
   "metadata": {},
   "outputs": [],
   "source": []
  },
  {
   "cell_type": "code",
   "execution_count": 46,
   "id": "bab6f1a7",
   "metadata": {},
   "outputs": [],
   "source": [
    "from  multiprocessing_func  import compute_ls_metrics\n",
    "\n",
    "if __name__ == '__main__':\n",
    "    with Pool(7) as p:\n",
    "        lanscape_metrics_list = p.starmap(compute_ls_metrics, multprocess_args)"
   ]
  },
  {
   "cell_type": "code",
   "execution_count": null,
   "id": "5697f0b4",
   "metadata": {},
   "outputs": [],
   "source": []
  },
  {
   "cell_type": "code",
   "execution_count": 47,
   "id": "b3197ed0",
   "metadata": {},
   "outputs": [],
   "source": [
    "# save result to disk\n",
    "lanscape_metrics = pd.concat(lanscape_metrics_list)\n",
    "lanscape_metrics = pd.DataFrame(lanscape_metrics.set_index(['City','Img_type']).stack())\n",
    "lanscape_metrics = lanscape_metrics.reset_index()\n",
    "lanscape_metrics = lanscape_metrics.pivot(index='City',columns=['Img_type','level_2'],values=0)\n",
    "lanscape_metrics.columns = ['_'.join(col) for col in lanscape_metrics.columns]\n",
    "lanscape_metrics.index.name = None\n",
    "\n",
    "lanscape_metrics.to_csv(f'../Data/Result_csv/lanscape_metrics_{base_year}_{target_year}.csv')"
   ]
  },
  {
   "cell_type": "code",
   "execution_count": null,
   "id": "652181e8",
   "metadata": {},
   "outputs": [],
   "source": []
  },
  {
   "cell_type": "code",
   "execution_count": 48,
   "id": "3d221a0c",
   "metadata": {},
   "outputs": [
    {
     "data": {
      "text/html": [
       "<div>\n",
       "<style scoped>\n",
       "    .dataframe tbody tr th:only-of-type {\n",
       "        vertical-align: middle;\n",
       "    }\n",
       "\n",
       "    .dataframe tbody tr th {\n",
       "        vertical-align: top;\n",
       "    }\n",
       "\n",
       "    .dataframe thead th {\n",
       "        text-align: right;\n",
       "    }\n",
       "</style>\n",
       "<table border=\"1\" class=\"dataframe\">\n",
       "  <thead>\n",
       "    <tr style=\"text-align: right;\">\n",
       "      <th></th>\n",
       "      <th>True_number_of_patches</th>\n",
       "      <th>True_area_mn</th>\n",
       "      <th>True_patch_density</th>\n",
       "      <th>True_largest_patch_index</th>\n",
       "      <th>True_landscape_shape_index</th>\n",
       "      <th>True_fractal_dimension</th>\n",
       "      <th>True_effective_mesh_size</th>\n",
       "      <th>Proj_number_of_patches</th>\n",
       "      <th>Proj_area_mn</th>\n",
       "      <th>Proj_patch_density</th>\n",
       "      <th>Proj_largest_patch_index</th>\n",
       "      <th>Proj_landscape_shape_index</th>\n",
       "      <th>Proj_fractal_dimension</th>\n",
       "      <th>Proj_effective_mesh_size</th>\n",
       "    </tr>\n",
       "  </thead>\n",
       "  <tbody>\n",
       "    <tr>\n",
       "      <th>an_qing_shi</th>\n",
       "      <td>127394.0</td>\n",
       "      <td>0.508394</td>\n",
       "      <td>4.028532</td>\n",
       "      <td>0.024969</td>\n",
       "      <td>400.062903</td>\n",
       "      <td>1.148393</td>\n",
       "      <td>3.031911e+06</td>\n",
       "      <td>77077.0</td>\n",
       "      <td>0.839433</td>\n",
       "      <td>2.437377</td>\n",
       "      <td>0.096571</td>\n",
       "      <td>395.252286</td>\n",
       "      <td>1.246342</td>\n",
       "      <td>3.028845e+06</td>\n",
       "    </tr>\n",
       "    <tr>\n",
       "      <th>an_yang_shi</th>\n",
       "      <td>45407.0</td>\n",
       "      <td>0.774579</td>\n",
       "      <td>2.721649</td>\n",
       "      <td>0.060139</td>\n",
       "      <td>241.624911</td>\n",
       "      <td>1.176263</td>\n",
       "      <td>1.596512e+06</td>\n",
       "      <td>36720.0</td>\n",
       "      <td>0.957975</td>\n",
       "      <td>2.200959</td>\n",
       "      <td>0.063343</td>\n",
       "      <td>271.749463</td>\n",
       "      <td>1.218846</td>\n",
       "      <td>1.596538e+06</td>\n",
       "    </tr>\n",
       "    <tr>\n",
       "      <th>bang_bu_shi</th>\n",
       "      <td>48342.0</td>\n",
       "      <td>0.757865</td>\n",
       "      <td>4.386995</td>\n",
       "      <td>0.188314</td>\n",
       "      <td>225.321133</td>\n",
       "      <td>1.181555</td>\n",
       "      <td>1.027304e+06</td>\n",
       "      <td>41719.0</td>\n",
       "      <td>0.877655</td>\n",
       "      <td>3.785963</td>\n",
       "      <td>0.161755</td>\n",
       "      <td>293.497238</td>\n",
       "      <td>1.236481</td>\n",
       "      <td>1.027859e+06</td>\n",
       "    </tr>\n",
       "    <tr>\n",
       "      <th>bao_ding_shi</th>\n",
       "      <td>134871.0</td>\n",
       "      <td>0.573036</td>\n",
       "      <td>3.050730</td>\n",
       "      <td>0.017260</td>\n",
       "      <td>420.668503</td>\n",
       "      <td>1.142436</td>\n",
       "      <td>4.264720e+06</td>\n",
       "      <td>87676.0</td>\n",
       "      <td>0.881636</td>\n",
       "      <td>1.983197</td>\n",
       "      <td>0.014240</td>\n",
       "      <td>417.045914</td>\n",
       "      <td>1.213343</td>\n",
       "      <td>4.264425e+06</td>\n",
       "    </tr>\n",
       "    <tr>\n",
       "      <th>bei_jing_shi</th>\n",
       "      <td>114943.0</td>\n",
       "      <td>0.597258</td>\n",
       "      <td>3.533597</td>\n",
       "      <td>0.044320</td>\n",
       "      <td>387.242260</td>\n",
       "      <td>1.142320</td>\n",
       "      <td>3.114457e+06</td>\n",
       "      <td>66086.0</td>\n",
       "      <td>1.038194</td>\n",
       "      <td>2.031627</td>\n",
       "      <td>0.019649</td>\n",
       "      <td>322.513766</td>\n",
       "      <td>1.212536</td>\n",
       "      <td>3.113254e+06</td>\n",
       "    </tr>\n",
       "    <tr>\n",
       "      <th>...</th>\n",
       "      <td>...</td>\n",
       "      <td>...</td>\n",
       "      <td>...</td>\n",
       "      <td>...</td>\n",
       "      <td>...</td>\n",
       "      <td>...</td>\n",
       "      <td>...</td>\n",
       "      <td>...</td>\n",
       "      <td>...</td>\n",
       "      <td>...</td>\n",
       "      <td>...</td>\n",
       "      <td>...</td>\n",
       "      <td>...</td>\n",
       "      <td>...</td>\n",
       "    </tr>\n",
       "    <tr>\n",
       "      <th>zhen_jiang_shi</th>\n",
       "      <td>52551.0</td>\n",
       "      <td>0.862667</td>\n",
       "      <td>6.854524</td>\n",
       "      <td>0.110070</td>\n",
       "      <td>256.906903</td>\n",
       "      <td>1.180134</td>\n",
       "      <td>6.758930e+05</td>\n",
       "      <td>31287.0</td>\n",
       "      <td>1.446955</td>\n",
       "      <td>4.080941</td>\n",
       "      <td>0.413287</td>\n",
       "      <td>222.602662</td>\n",
       "      <td>1.275599</td>\n",
       "      <td>6.736534e+05</td>\n",
       "    </tr>\n",
       "    <tr>\n",
       "      <th>zheng_zhou_shi</th>\n",
       "      <td>86694.0</td>\n",
       "      <td>1.281810</td>\n",
       "      <td>7.240065</td>\n",
       "      <td>1.038646</td>\n",
       "      <td>343.749516</td>\n",
       "      <td>1.246269</td>\n",
       "      <td>9.649284e+05</td>\n",
       "      <td>50795.0</td>\n",
       "      <td>2.184773</td>\n",
       "      <td>4.242037</td>\n",
       "      <td>0.398212</td>\n",
       "      <td>346.004649</td>\n",
       "      <td>1.299059</td>\n",
       "      <td>9.689074e+05</td>\n",
       "    </tr>\n",
       "    <tr>\n",
       "      <th>zhou_kou_shi</th>\n",
       "      <td>95619.0</td>\n",
       "      <td>0.554013</td>\n",
       "      <td>4.430573</td>\n",
       "      <td>0.042735</td>\n",
       "      <td>325.329806</td>\n",
       "      <td>1.149722</td>\n",
       "      <td>2.050802e+06</td>\n",
       "      <td>106429.0</td>\n",
       "      <td>0.497982</td>\n",
       "      <td>4.931462</td>\n",
       "      <td>0.024874</td>\n",
       "      <td>413.656673</td>\n",
       "      <td>1.177283</td>\n",
       "      <td>2.051812e+06</td>\n",
       "    </tr>\n",
       "    <tr>\n",
       "      <th>zhu_ma_dian_shi</th>\n",
       "      <td>131731.0</td>\n",
       "      <td>0.711589</td>\n",
       "      <td>4.509072</td>\n",
       "      <td>0.092174</td>\n",
       "      <td>408.182251</td>\n",
       "      <td>1.192833</td>\n",
       "      <td>2.728248e+06</td>\n",
       "      <td>91860.0</td>\n",
       "      <td>1.019606</td>\n",
       "      <td>3.144312</td>\n",
       "      <td>0.074537</td>\n",
       "      <td>481.247726</td>\n",
       "      <td>1.242929</td>\n",
       "      <td>2.729494e+06</td>\n",
       "    </tr>\n",
       "    <tr>\n",
       "      <th>zi_bo_shi</th>\n",
       "      <td>45709.0</td>\n",
       "      <td>0.802727</td>\n",
       "      <td>3.401088</td>\n",
       "      <td>0.037353</td>\n",
       "      <td>248.695461</td>\n",
       "      <td>1.165111</td>\n",
       "      <td>1.269775e+06</td>\n",
       "      <td>30423.0</td>\n",
       "      <td>1.203017</td>\n",
       "      <td>2.263697</td>\n",
       "      <td>0.080584</td>\n",
       "      <td>210.472874</td>\n",
       "      <td>1.213805</td>\n",
       "      <td>1.269616e+06</td>\n",
       "    </tr>\n",
       "  </tbody>\n",
       "</table>\n",
       "<p>75 rows × 14 columns</p>\n",
       "</div>"
      ],
      "text/plain": [
       "                 True_number_of_patches  True_area_mn  True_patch_density  \\\n",
       "an_qing_shi                    127394.0      0.508394            4.028532   \n",
       "an_yang_shi                     45407.0      0.774579            2.721649   \n",
       "bang_bu_shi                     48342.0      0.757865            4.386995   \n",
       "bao_ding_shi                   134871.0      0.573036            3.050730   \n",
       "bei_jing_shi                   114943.0      0.597258            3.533597   \n",
       "...                                 ...           ...                 ...   \n",
       "zhen_jiang_shi                  52551.0      0.862667            6.854524   \n",
       "zheng_zhou_shi                  86694.0      1.281810            7.240065   \n",
       "zhou_kou_shi                    95619.0      0.554013            4.430573   \n",
       "zhu_ma_dian_shi                131731.0      0.711589            4.509072   \n",
       "zi_bo_shi                       45709.0      0.802727            3.401088   \n",
       "\n",
       "                 True_largest_patch_index  True_landscape_shape_index  \\\n",
       "an_qing_shi                      0.024969                  400.062903   \n",
       "an_yang_shi                      0.060139                  241.624911   \n",
       "bang_bu_shi                      0.188314                  225.321133   \n",
       "bao_ding_shi                     0.017260                  420.668503   \n",
       "bei_jing_shi                     0.044320                  387.242260   \n",
       "...                                   ...                         ...   \n",
       "zhen_jiang_shi                   0.110070                  256.906903   \n",
       "zheng_zhou_shi                   1.038646                  343.749516   \n",
       "zhou_kou_shi                     0.042735                  325.329806   \n",
       "zhu_ma_dian_shi                  0.092174                  408.182251   \n",
       "zi_bo_shi                        0.037353                  248.695461   \n",
       "\n",
       "                 True_fractal_dimension  True_effective_mesh_size  \\\n",
       "an_qing_shi                    1.148393              3.031911e+06   \n",
       "an_yang_shi                    1.176263              1.596512e+06   \n",
       "bang_bu_shi                    1.181555              1.027304e+06   \n",
       "bao_ding_shi                   1.142436              4.264720e+06   \n",
       "bei_jing_shi                   1.142320              3.114457e+06   \n",
       "...                                 ...                       ...   \n",
       "zhen_jiang_shi                 1.180134              6.758930e+05   \n",
       "zheng_zhou_shi                 1.246269              9.649284e+05   \n",
       "zhou_kou_shi                   1.149722              2.050802e+06   \n",
       "zhu_ma_dian_shi                1.192833              2.728248e+06   \n",
       "zi_bo_shi                      1.165111              1.269775e+06   \n",
       "\n",
       "                 Proj_number_of_patches  Proj_area_mn  Proj_patch_density  \\\n",
       "an_qing_shi                     77077.0      0.839433            2.437377   \n",
       "an_yang_shi                     36720.0      0.957975            2.200959   \n",
       "bang_bu_shi                     41719.0      0.877655            3.785963   \n",
       "bao_ding_shi                    87676.0      0.881636            1.983197   \n",
       "bei_jing_shi                    66086.0      1.038194            2.031627   \n",
       "...                                 ...           ...                 ...   \n",
       "zhen_jiang_shi                  31287.0      1.446955            4.080941   \n",
       "zheng_zhou_shi                  50795.0      2.184773            4.242037   \n",
       "zhou_kou_shi                   106429.0      0.497982            4.931462   \n",
       "zhu_ma_dian_shi                 91860.0      1.019606            3.144312   \n",
       "zi_bo_shi                       30423.0      1.203017            2.263697   \n",
       "\n",
       "                 Proj_largest_patch_index  Proj_landscape_shape_index  \\\n",
       "an_qing_shi                      0.096571                  395.252286   \n",
       "an_yang_shi                      0.063343                  271.749463   \n",
       "bang_bu_shi                      0.161755                  293.497238   \n",
       "bao_ding_shi                     0.014240                  417.045914   \n",
       "bei_jing_shi                     0.019649                  322.513766   \n",
       "...                                   ...                         ...   \n",
       "zhen_jiang_shi                   0.413287                  222.602662   \n",
       "zheng_zhou_shi                   0.398212                  346.004649   \n",
       "zhou_kou_shi                     0.024874                  413.656673   \n",
       "zhu_ma_dian_shi                  0.074537                  481.247726   \n",
       "zi_bo_shi                        0.080584                  210.472874   \n",
       "\n",
       "                 Proj_fractal_dimension  Proj_effective_mesh_size  \n",
       "an_qing_shi                    1.246342              3.028845e+06  \n",
       "an_yang_shi                    1.218846              1.596538e+06  \n",
       "bang_bu_shi                    1.236481              1.027859e+06  \n",
       "bao_ding_shi                   1.213343              4.264425e+06  \n",
       "bei_jing_shi                   1.212536              3.113254e+06  \n",
       "...                                 ...                       ...  \n",
       "zhen_jiang_shi                 1.275599              6.736534e+05  \n",
       "zheng_zhou_shi                 1.299059              9.689074e+05  \n",
       "zhou_kou_shi                   1.177283              2.051812e+06  \n",
       "zhu_ma_dian_shi                1.242929              2.729494e+06  \n",
       "zi_bo_shi                      1.213805              1.269616e+06  \n",
       "\n",
       "[75 rows x 14 columns]"
      ]
     },
     "execution_count": 48,
     "metadata": {},
     "output_type": "execute_result"
    }
   ],
   "source": [
    "lanscape_metrics"
   ]
  },
  {
   "cell_type": "code",
   "execution_count": null,
   "id": "996b1c68",
   "metadata": {},
   "outputs": [],
   "source": []
  },
  {
   "cell_type": "code",
   "execution_count": 49,
   "id": "555a95db",
   "metadata": {},
   "outputs": [],
   "source": [
    "lanscape_metrics = pd.read_csv(f'../Data/Result_csv/lanscape_metrics_{base_year}_{target_year}.csv')"
   ]
  },
  {
   "cell_type": "code",
   "execution_count": null,
   "id": "0fb50f9f",
   "metadata": {},
   "outputs": [],
   "source": []
  },
  {
   "cell_type": "code",
   "execution_count": 50,
   "id": "57c97271",
   "metadata": {},
   "outputs": [
    {
     "data": {
      "text/plain": [
       "<matplotlib.axes._subplots.AxesSubplot at 0x1758ccc9ac0>"
      ]
     },
     "execution_count": 50,
     "metadata": {},
     "output_type": "execute_result"
    },
    {
     "data": {
      "image/png": "[encoded data removed]",
      "text/plain": [
       "<Figure size 432x288 with 1 Axes>"
      ]
     },
     "metadata": {
      "needs_background": "light"
     },
     "output_type": "display_data"
    }
   ],
   "source": [
    "sns.regplot(data=lanscape_metrics,x='True_number_of_patches',y='Proj_number_of_patches')"
   ]
  },
  {
   "cell_type": "code",
   "execution_count": 51,
   "id": "8fd53482",
   "metadata": {
    "scrolled": true
   },
   "outputs": [
    {
     "data": {
      "text/plain": [
       "<matplotlib.axes._subplots.AxesSubplot at 0x175951401f0>"
      ]
     },
     "execution_count": 51,
     "metadata": {},
     "output_type": "execute_result"
    },
    {
     "data": {
      "image/png": "[encoded data removed]",
      "text/plain": [
       "<Figure size 432x288 with 1 Axes>"
      ]
     },
     "metadata": {
      "needs_background": "light"
     },
     "output_type": "display_data"
    }
   ],
   "source": [
    "sns.regplot(data=lanscape_metrics,x='True_area_mn',y='Proj_area_mn')"
   ]
  },
  {
   "cell_type": "code",
   "execution_count": 52,
   "id": "fd58d2a7",
   "metadata": {
    "scrolled": true
   },
   "outputs": [
    {
     "data": {
      "text/plain": [
       "<matplotlib.axes._subplots.AxesSubplot at 0x1758c4b39a0>"
      ]
     },
     "execution_count": 52,
     "metadata": {},
     "output_type": "execute_result"
    },
    {
     "data": {
      "image/png": "[encoded data removed]",
      "text/plain": [
       "<Figure size 432x288 with 1 Axes>"
      ]
     },
     "metadata": {
      "needs_background": "light"
     },
     "output_type": "display_data"
    }
   ],
   "source": [
    "sns.regplot(data=lanscape_metrics,x='True_patch_density',y='Proj_patch_density')"
   ]
  },
  {
   "cell_type": "code",
   "execution_count": 53,
   "id": "cc855c27",
   "metadata": {},
   "outputs": [
    {
     "data": {
      "text/plain": [
       "<matplotlib.axes._subplots.AxesSubplot at 0x1758aba41f0>"
      ]
     },
     "execution_count": 53,
     "metadata": {},
     "output_type": "execute_result"
    },
    {
     "data": {
      "image/png": "[encoded data removed]",
      "text/plain": [
       "<Figure size 432x288 with 1 Axes>"
      ]
     },
     "metadata": {
      "needs_background": "light"
     },
     "output_type": "display_data"
    }
   ],
   "source": [
    "sns.regplot(data=lanscape_metrics,\n",
    "            x='True_landscape_shape_index',\n",
    "            y='Proj_landscape_shape_index')"
   ]
  },
  {
   "cell_type": "code",
   "execution_count": 44,
   "id": "df8a6397",
   "metadata": {},
   "outputs": [
    {
     "data": {
      "text/plain": [
       "<matplotlib.axes._subplots.AxesSubplot at 0x1758ca9a640>"
      ]
     },
     "execution_count": 44,
     "metadata": {},
     "output_type": "execute_result"
    },
    {
     "data": {
      "image/png": "[encoded data removed]",
      "text/plain": [
       "<Figure size 432x288 with 1 Axes>"
      ]
     },
     "metadata": {
      "needs_background": "light"
     },
     "output_type": "display_data"
    }
   ],
   "source": [
    "sns.regplot(data=lanscape_metrics,\n",
    "            x='True_fractal_dimension',\n",
    "            y='Proj_fractal_dimension')"
   ]
  },
  {
   "cell_type": "code",
   "execution_count": null,
   "id": "bec43565",
   "metadata": {},
   "outputs": [],
   "source": []
  },
  {
   "cell_type": "code",
   "execution_count": null,
   "id": "5c20f948",
   "metadata": {},
   "outputs": [],
   "source": []
  },
  {
   "cell_type": "code",
   "execution_count": 28,
   "id": "75ff363a",
   "metadata": {
    "scrolled": true
   },
   "outputs": [
    {
     "data": {
      "text/plain": [
       "<matplotlib.axes._subplots.AxesSubplot at 0x17591ed87c0>"
      ]
     },
     "execution_count": 28,
     "metadata": {},
     "output_type": "execute_result"
    },
    {
     "data": {
      "image/png": "[encoded data removed]",
      "text/plain": [
       "<Figure size 432x288 with 1 Axes>"
      ]
     },
     "metadata": {
      "needs_background": "light"
     },
     "output_type": "display_data"
    }
   ],
   "source": [
    "sns.regplot(data=lanscape_metrics,x='True_effective_mesh_size',y='Proj_effective_mesh_size')"
   ]
  },
  {
   "cell_type": "code",
   "execution_count": null,
   "id": "5c3b85ef",
   "metadata": {},
   "outputs": [],
   "source": []
  },
  {
   "cell_type": "code",
   "execution_count": 29,
   "id": "c8c14863",
   "metadata": {},
   "outputs": [
    {
     "data": {
      "text/plain": [
       "<matplotlib.axes._subplots.AxesSubplot at 0x1758cc6d280>"
      ]
     },
     "execution_count": 29,
     "metadata": {},
     "output_type": "execute_result"
    },
    {
     "data": {
      "image/png": "[encoded data removed]",
      "text/plain": [
       "<Figure size 432x288 with 1 Axes>"
      ]
     },
     "metadata": {
      "needs_background": "light"
     },
     "output_type": "display_data"
    }
   ],
   "source": [
    "sns.regplot(data=lanscape_metrics[lanscape_metrics['True_largest_patch_index'] < 0.5],\n",
    "            x='True_largest_patch_index',\n",
    "            y='Proj_largest_patch_index')"
   ]
  },
  {
   "cell_type": "code",
   "execution_count": null,
   "id": "6996187b",
   "metadata": {},
   "outputs": [],
   "source": []
  },
  {
   "cell_type": "code",
   "execution_count": null,
   "id": "2ac716d6",
   "metadata": {},
   "outputs": [],
   "source": []
  },
  {
   "cell_type": "code",
   "execution_count": null,
   "id": "72631e15",
   "metadata": {},
   "outputs": [],
   "source": []
  },
  {
   "cell_type": "code",
   "execution_count": null,
   "id": "4627b0e4",
   "metadata": {},
   "outputs": [],
   "source": []
  },
  {
   "cell_type": "code",
   "execution_count": null,
   "id": "8a7c65be",
   "metadata": {},
   "outputs": [],
   "source": []
  }
 ],
 "metadata": {
  "kernelspec": {
   "display_name": "Python 3",
   "language": "python",
   "name": "python3"
  },
  "language_info": {
   "codemirror_mode": {
    "name": "ipython",
    "version": 3
   },
   "file_extension": ".py",
   "mimetype": "text/x-python",
   "name": "python",
   "nbconvert_exporter": "python",
   "pygments_lexer": "ipython3",
   "version": "3.8.10"
  }
 },
 "nbformat": 4,
 "nbformat_minor": 5
}
